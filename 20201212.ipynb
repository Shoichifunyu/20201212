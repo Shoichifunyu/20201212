{
 "cells": [
  {
   "cell_type": "code",
   "execution_count": 54,
   "metadata": {
    "scrolled": true
   },
   "outputs": [
    {
     "data": {
      "text/plain": [
       "7"
      ]
     },
     "execution_count": 54,
     "metadata": {},
     "output_type": "execute_result"
    }
   ],
   "source": [
    "1 + 1 + 5"
   ]
  },
  {
   "cell_type": "code",
   "execution_count": 55,
   "metadata": {},
   "outputs": [
    {
     "data": {
      "text/plain": [
       "6.0"
      ]
     },
     "execution_count": 55,
     "metadata": {},
     "output_type": "execute_result"
    }
   ],
   "source": [
    "5 * 6 /5"
   ]
  },
  {
   "cell_type": "code",
   "execution_count": 56,
   "metadata": {},
   "outputs": [
    {
     "name": "stdout",
     "output_type": "stream",
     "text": [
      "0\n",
      "1\n",
      "2\n",
      "3\n",
      "4\n",
      "5\n",
      "6\n",
      "7\n",
      "8\n",
      "9\n"
     ]
    }
   ],
   "source": [
    "for x in range(10):\n",
    "    print(x)"
   ]
  },
  {
   "cell_type": "code",
   "execution_count": 57,
   "metadata": {},
   "outputs": [
    {
     "name": "stdout",
     "output_type": "stream",
     "text": [
      "['a', 'b', 'c']\n"
     ]
    }
   ],
   "source": [
    "hai = ['a', 'b', 'c']\n",
    "print(hai)"
   ]
  },
  {
   "cell_type": "code",
   "execution_count": 58,
   "metadata": {},
   "outputs": [],
   "source": [
    "def test(x):\n",
    "    last_list = []\n",
    "    for i in range(5):\n",
    "        list = [x+i, x+i+1, x+i+2, x+i+3]\n",
    "        last_list += list\n",
    "    return last_list"
   ]
  },
  {
   "cell_type": "code",
   "execution_count": 59,
   "metadata": {},
   "outputs": [
    {
     "data": {
      "text/plain": [
       "[1, 2, 3, 4, 2, 3, 4, 5, 3, 4, 5, 6, 4, 5, 6, 7, 5, 6, 7, 8]"
      ]
     },
     "execution_count": 59,
     "metadata": {},
     "output_type": "execute_result"
    }
   ],
   "source": [
    "test(1)"
   ]
  },
  {
   "cell_type": "code",
   "execution_count": 61,
   "metadata": {},
   "outputs": [
    {
     "name": "stdout",
     "output_type": "stream",
     "text": [
      "kはひらがなです。\n"
     ]
    }
   ],
   "source": [
    "import re\n",
    "\n",
    "k = \"あまおと\"\n",
    "if re.match(u'[ぁ-ん]+', k):\n",
    "    print(\"kはひらがなです。\")\n",
    "elif re.match(u'[ァ-ン]+', k):\n",
    "    print(\"kはカタカナです。\")\n",
    "elif re.match(u'[\\u4e00-\\u9FFF]+',k):\n",
    "    print(\"kは漢字です。\")\n",
    "elif re.match(u'[0-9]+',k):\n",
    "    print(\"kは数字です。\")\n",
    "else:\n",
    "    print(\"これは何でしょう？\")"
   ]
  },
  {
   "cell_type": "code",
   "execution_count": 62,
   "metadata": {},
   "outputs": [
    {
     "name": "stdout",
     "output_type": "stream",
     "text": [
      "26\n"
     ]
    }
   ],
   "source": [
    "dict1 = {'Kim':26}\n",
    "print(dict1['Kim'])"
   ]
  },
  {
   "cell_type": "code",
   "execution_count": 63,
   "metadata": {},
   "outputs": [
    {
     "ename": "KeyError",
     "evalue": "26",
     "output_type": "error",
     "traceback": [
      "\u001b[1;31m---------------------------------------------------------------------------\u001b[0m",
      "\u001b[1;31mKeyError\u001b[0m                                  Traceback (most recent call last)",
      "\u001b[1;32m<ipython-input-63-425ec62664d7>\u001b[0m in \u001b[0;36m<module>\u001b[1;34m\u001b[0m\n\u001b[1;32m----> 1\u001b[1;33m \u001b[0mprint\u001b[0m\u001b[1;33m(\u001b[0m\u001b[0mdict1\u001b[0m\u001b[1;33m[\u001b[0m\u001b[1;36m26\u001b[0m\u001b[1;33m]\u001b[0m\u001b[1;33m)\u001b[0m\u001b[1;33m\u001b[0m\u001b[0m\n\u001b[0m",
      "\u001b[1;31mKeyError\u001b[0m: 26"
     ]
    }
   ],
   "source": [
    "print(dict1[26])"
   ]
  },
  {
   "cell_type": "code",
   "execution_count": 64,
   "metadata": {},
   "outputs": [
    {
     "name": "stdout",
     "output_type": "stream",
     "text": [
      "Bob\n"
     ]
    }
   ],
   "source": [
    "dict2 = {'Kim':26, 'Bob':32}\n",
    "for key, value in dict2.items():\n",
    "    if value == 32:\n",
    "        print(key)"
   ]
  },
  {
   "cell_type": "markdown",
   "metadata": {},
   "source": [
    "# NLTKコーパスのインポート"
   ]
  },
  {
   "cell_type": "code",
   "execution_count": 65,
   "metadata": {},
   "outputs": [],
   "source": [
    "import nltk\n",
    "\n",
    "from nltk.book import *"
   ]
  },
  {
   "cell_type": "markdown",
   "metadata": {},
   "source": [
    "Gutenbergコーパスのインポート、フィールド（文書）ごとに表示"
   ]
  },
  {
   "cell_type": "code",
   "execution_count": 66,
   "metadata": {},
   "outputs": [
    {
     "name": "stdout",
     "output_type": "stream",
     "text": [
      "['austen-emma.txt', 'austen-persuasion.txt', 'austen-sense.txt', 'bible-kjv.txt', 'blake-poems.txt', 'bryant-stories.txt', 'burgess-busterbrown.txt', 'carroll-alice.txt', 'chesterton-ball.txt', 'chesterton-brown.txt', 'chesterton-thursday.txt', 'edgeworth-parents.txt', 'melville-moby_dick.txt', 'milton-paradise.txt', 'shakespeare-caesar.txt', 'shakespeare-hamlet.txt', 'shakespeare-macbeth.txt', 'whitman-leaves.txt']\n"
     ]
    }
   ],
   "source": [
    "from nltk.corpus import gutenberg\n",
    "print(gutenberg.fileids())"
   ]
  },
  {
   "cell_type": "markdown",
   "metadata": {},
   "source": [
    "条件付き頻度分布の作成"
   ]
  },
  {
   "cell_type": "code",
   "execution_count": 67,
   "metadata": {},
   "outputs": [
    {
     "data": {
      "text/plain": [
       "[(',', 11454),\n",
       " ('.', 6928),\n",
       " ('to', 5183),\n",
       " ('the', 4844),\n",
       " ('and', 4672),\n",
       " ('of', 4279),\n",
       " ('I', 3178),\n",
       " ('a', 3004),\n",
       " ('was', 2385),\n",
       " ('her', 2381)]"
      ]
     },
     "execution_count": 67,
     "metadata": {},
     "output_type": "execute_result"
    }
   ],
   "source": [
    "Fdist = FreqDist(gutenberg.words('austen-emma.txt'))\n",
    "Fdist.most_common(10)"
   ]
  },
  {
   "cell_type": "markdown",
   "metadata": {},
   "source": [
    "brownコーパスのインポート、カテゴリ別に表示"
   ]
  },
  {
   "cell_type": "code",
   "execution_count": 68,
   "metadata": {},
   "outputs": [
    {
     "name": "stdout",
     "output_type": "stream",
     "text": [
      "['adventure', 'belles_lettres', 'editorial', 'fiction', 'government', 'hobbies', 'humor', 'learned', 'lore', 'mystery', 'news', 'religion', 'reviews', 'romance', 'science_fiction']\n"
     ]
    }
   ],
   "source": [
    "from nltk.corpus import brown\n",
    "print(brown.categories())"
   ]
  },
  {
   "cell_type": "markdown",
   "metadata": {},
   "source": [
    "条件付き頻度分布の作成"
   ]
  },
  {
   "cell_type": "code",
   "execution_count": 69,
   "metadata": {},
   "outputs": [],
   "source": [
    "Cfdist = nltk.ConditionalFreqDist((ctgr, word) for ctgr in brown.categories()\n",
    "                                  for word in brown.words(categories = ctgr))"
   ]
  },
  {
   "cell_type": "markdown",
   "metadata": {},
   "source": [
    "ジャンルごとの助動詞の頻出度を表化。"
   ]
  },
  {
   "cell_type": "code",
   "execution_count": 70,
   "metadata": {},
   "outputs": [
    {
     "name": "stdout",
     "output_type": "stream",
     "text": [
      "                   can  could    may   must should   will  would \n",
      "      adventure     46    151      5     27     15     50    191 \n",
      " belles_lettres    246    213    207    170    102    236    392 \n",
      "      editorial    121     56     74     53     88    233    180 \n",
      "        fiction     37    166      8     55     35     52    287 \n",
      "     government    117     38    153    102    112    244    120 \n",
      "        hobbies    268     58    131     83     73    264     78 \n",
      "          humor     16     30      8      9      7     13     56 \n",
      "        learned    365    159    324    202    171    340    319 \n",
      "           lore    170    141    165     96     76    175    186 \n",
      "        mystery     42    141     13     30     29     20    186 \n",
      "           news     93     86     66     50     59    389    244 \n",
      "       religion     82     59     78     54     45     71     68 \n",
      "        reviews     45     40     45     19     18     58     47 \n",
      "        romance     74    193     11     45     32     43    244 \n",
      "science_fiction     16     49      4      8      3     16     79 \n"
     ]
    }
   ],
   "source": [
    "comparison = ['can', 'could', 'may', 'must', 'should', 'will', 'would']\n",
    "Cfdist.tabulate(samples=comparison,conditions=brown.categories())"
   ]
  },
  {
   "cell_type": "markdown",
   "metadata": {},
   "source": [
    "例えば、adventureやfiction（小説）には、couldやwouldといった表現が多く使われており、\n",
    "editorial（教育）やhobbiesには、canやwillといった表現が多く使われている。"
   ]
  },
  {
   "cell_type": "markdown",
   "metadata": {},
   "source": [
    "名前に対してタグ付けされた性別の情報から"
   ]
  },
  {
   "cell_type": "code",
   "execution_count": 71,
   "metadata": {},
   "outputs": [],
   "source": [
    "names = nltk.corpus.names\n",
    "cfd = nltk.ConditionalFreqDist((sex, name[-1]) for sex in names.fileids()\n",
    "                              for name in names.words(sex))"
   ]
  },
  {
   "cell_type": "code",
   "execution_count": 72,
   "metadata": {},
   "outputs": [
    {
     "name": "stdout",
     "output_type": "stream",
     "text": [
      "              a    e    i    o    u \n",
      "female.txt 1773 1432  317   33    6 \n",
      "  male.txt   29  468   50  165   12 \n"
     ]
    }
   ],
   "source": [
    "comparison = ['a', 'e', 'i', 'o', 'u']\n",
    "cfd.tabulate(samples=comparison,conditions=names.fileids())"
   ]
  },
  {
   "cell_type": "markdown",
   "metadata": {},
   "source": [
    "女性には、語尾にaやeの母音が含まれている場合が多く、\n",
    "男性には、語尾にeやoの母音が含まれていることが多いといったことが分かる。\n",
    "更に、これを図で表すと下記のようになる。"
   ]
  },
  {
   "cell_type": "code",
   "execution_count": 73,
   "metadata": {},
   "outputs": [
    {
     "data": {
      "image/png": "[encoded data removed]",
      "text/plain": [
       "<Figure size 432x288 with 1 Axes>"
      ]
     },
     "metadata": {
      "needs_background": "light"
     },
     "output_type": "display_data"
    },
    {
     "data": {
      "text/plain": [
       "<matplotlib.axes._subplots.AxesSubplot at 0x26de6e86e10>"
      ]
     },
     "execution_count": 73,
     "metadata": {},
     "output_type": "execute_result"
    }
   ],
   "source": [
    "%matplotlib inline\n",
    "\n",
    "cfd.plot()"
   ]
  },
  {
   "cell_type": "markdown",
   "metadata": {},
   "source": [
    "品詞タグ付け\n",
    "ブラウンコーパスのカテゴリ「小説」の単語について、頻出上位100単語にタグ付けされた品詞の情報を基に\n",
    "全体の単語の品詞タグを予測し、その精度を出力する。"
   ]
  },
  {
   "cell_type": "code",
   "execution_count": 74,
   "metadata": {},
   "outputs": [
    {
     "data": {
      "text/plain": [
       "0.39831795351010396"
      ]
     },
     "execution_count": 74,
     "metadata": {},
     "output_type": "execute_result"
    }
   ],
   "source": [
    "fd = nltk.FreqDist(brown.words(categories = 'fiction'))\n",
    "cfd = nltk.ConditionalFreqDist(brown.tagged_words(categories = 'fiction'))\n",
    "most_freq_words = list(fd.keys())[:100]\n",
    "likely_tags = dict((word, cfd[word].max()) for word in most_freq_words)\n",
    "baseline_tagger = nltk.UnigramTagger(model=likely_tags)\n",
    "baseline_tagger.evaluate(brown.tagged_sents(categories = 'fiction'))"
   ]
  },
  {
   "cell_type": "markdown",
   "metadata": {},
   "source": [
    "今度は、品詞タグ付け単語全てを読み込み、\n",
    "次に、タグがない状態で再学習する。"
   ]
  },
  {
   "cell_type": "code",
   "execution_count": 75,
   "metadata": {},
   "outputs": [
    {
     "data": {
      "text/plain": [
       "[('``', '``'),\n",
       " ('All', 'ABN'),\n",
       " ('because', 'CS'),\n",
       " ('I', 'PPSS'),\n",
       " (\"didn't\", 'DOD*'),\n",
       " ('feel', 'VB'),\n",
       " ('like', 'CS'),\n",
       " ('dancing', 'VBG'),\n",
       " (\"''\", \"''\"),\n",
       " ('.', '.')]"
      ]
     },
     "execution_count": 75,
     "metadata": {},
     "output_type": "execute_result"
    }
   ],
   "source": [
    "unigram_tagger = nltk.UnigramTagger(brown.tagged_sents(categories = 'fiction'))\n",
    "unigram_tagger.tag(brown.sents(categories = 'fiction')[2008])"
   ]
  },
  {
   "cell_type": "markdown",
   "metadata": {},
   "source": [
    "検証用、テスト用に分割して再試行（今度は精度の出力）"
   ]
  },
  {
   "cell_type": "code",
   "execution_count": 76,
   "metadata": {},
   "outputs": [
    {
     "data": {
      "text/plain": [
       "0.824455652601796"
      ]
     },
     "execution_count": 76,
     "metadata": {},
     "output_type": "execute_result"
    }
   ],
   "source": [
    "brown_tagged_sents = brown.tagged_sents(categories='fiction')\n",
    "\n",
    "size = int(len(brown_tagged_sents)*0.9)\n",
    "\n",
    "train_sents = brown_tagged_sents[:size]\n",
    "test_sents = brown_tagged_sents[size:]\n",
    "unigram_tagger = nltk.UnigramTagger(train_sents)\n",
    "unigram_tagger.evaluate(test_sents)"
   ]
  },
  {
   "cell_type": "markdown",
   "metadata": {},
   "source": [
    "前の単語も読み取って試行"
   ]
  },
  {
   "cell_type": "code",
   "execution_count": 77,
   "metadata": {},
   "outputs": [
    {
     "data": {
      "text/plain": [
       "0.16742526756058557"
      ]
     },
     "execution_count": 77,
     "metadata": {},
     "output_type": "execute_result"
    }
   ],
   "source": [
    "bigram_tagger = nltk.BigramTagger(train_sents)\n",
    "bigram_tagger.evaluate(test_sents)"
   ]
  },
  {
   "cell_type": "markdown",
   "metadata": {},
   "source": [
    "前の単語も読み取ることで、特異性が高まり、未知のデータに対応しづらくなってしまった。その結果、予測精度が下がった。\n",
    "そこで、もし、前の単語まで見たセットが対応していない場合は、その単語単体で検索するという段階を踏むことで、精度を高める。"
   ]
  },
  {
   "cell_type": "code",
   "execution_count": 78,
   "metadata": {},
   "outputs": [
    {
     "data": {
      "text/plain": [
       "0.8393406323040964"
      ]
     },
     "execution_count": 78,
     "metadata": {},
     "output_type": "execute_result"
    }
   ],
   "source": [
    "t1 = nltk.UnigramTagger(train_sents)\n",
    "t2 = nltk.BigramTagger(train_sents, backoff=t1)\n",
    "t2.evaluate(test_sents)"
   ]
  },
  {
   "cell_type": "markdown",
   "metadata": {},
   "source": [
    "# 機械学習による分類方法"
   ]
  },
  {
   "cell_type": "markdown",
   "metadata": {},
   "source": [
    "まず、単語とその単語の品詞タグの情報をセットで持たせる。そのセットを検証用と学習用で分割する。"
   ]
  },
  {
   "cell_type": "code",
   "execution_count": 79,
   "metadata": {},
   "outputs": [],
   "source": [
    "brown_tagged_words = brown.tagged_words(categories='fiction')\n",
    "\n",
    "feature_sets = [({'word': w}, t) for w, t in brown_tagged_words]\n",
    "\n",
    "train_words = feature_sets[:size]\n",
    "test_words = feature_sets[size:]"
   ]
  },
  {
   "cell_type": "markdown",
   "metadata": {},
   "source": [
    "機械学習①　決定木"
   ]
  },
  {
   "cell_type": "code",
   "execution_count": 80,
   "metadata": {},
   "outputs": [
    {
     "data": {
      "text/plain": [
       "0.6601509340591365"
      ]
     },
     "execution_count": 80,
     "metadata": {},
     "output_type": "execute_result"
    }
   ],
   "source": [
    "Decision_Tree = nltk.DecisionTreeClassifier.train(train_words)\n",
    "nltk.classify.accuracy(Decision_Tree,test_words)"
   ]
  },
  {
   "cell_type": "markdown",
   "metadata": {},
   "source": [
    "機械学習②　単純ベイズ"
   ]
  },
  {
   "cell_type": "code",
   "execution_count": null,
   "metadata": {},
   "outputs": [],
   "source": [
    "NaiveBayes = nltk.NaiveBayesClassifier.train(train_words)\n",
    "nltk.classify.accuracy(NaiveBayes,test_words)"
   ]
  },
  {
   "cell_type": "markdown",
   "metadata": {},
   "source": [
    "機械学習③　最大エントロピー\n",
    "まずランダムで入力値に対する特徴量・ラベルを設定し、最適なものに該当するまで繰り返し洗練させてゆくイメージ その為、訓練セットやラベルの数、特徴量の数によって処理時間が変わる"
   ]
  },
  {
   "cell_type": "code",
   "execution_count": null,
   "metadata": {},
   "outputs": [],
   "source": [
    "Maxent = nltk.MaxentClassifier.train(train_words,max_iter=30)\n",
    "nltk.classify.accuracy(Maxent,test_words)"
   ]
  },
  {
   "cell_type": "markdown",
   "metadata": {},
   "source": [
    "# タグ付けされた情報を基に、文章の「句」構造を作成"
   ]
  },
  {
   "cell_type": "code",
   "execution_count": null,
   "metadata": {},
   "outputs": [],
   "source": [
    "grammar = \"NP: {<DT>?<JJ>*<NN>}\"\n",
    "\n",
    "cp = nltk.RegexpParser(grammar)\n",
    "result = cp.parse(brown_tagged_sents[15])"
   ]
  },
  {
   "cell_type": "code",
   "execution_count": null,
   "metadata": {},
   "outputs": [],
   "source": [
    "print(result)"
   ]
  },
  {
   "cell_type": "markdown",
   "metadata": {},
   "source": [
    "句構造格納テキストを用いて、作成された句構造が妥当であるかの確認"
   ]
  },
  {
   "cell_type": "code",
   "execution_count": null,
   "metadata": {},
   "outputs": [],
   "source": [
    "from nltk.corpus import conll2000\n",
    "cp = nltk.RegexpParser(r\"NP: {<DT>?<JJ>*<NN>}\")\n",
    "test_sents = conll2000.chunked_sents('test.txt', chunk_types=['NP'])\n",
    "print(cp.evaluate(test_sents))"
   ]
  },
  {
   "cell_type": "markdown",
   "metadata": {},
   "source": [
    "IOB Accuracy:  文の先頭、それに続く単語、句構造の外にある単語に分割することが出来る。\n",
    "Precision:     精度、\n",
    "Recall:        再現率、\n",
    "F-Measure:     F値"
   ]
  },
  {
   "cell_type": "markdown",
   "metadata": {},
   "source": [
    "単語ごとに割り振られたタグを、句構造に分類するための学習器"
   ]
  },
  {
   "cell_type": "code",
   "execution_count": null,
   "metadata": {},
   "outputs": [],
   "source": [
    "class UnigramChunker(nltk.ChunkParserI):\n",
    "    def __init__(self, train_sents):\n",
    "        train_data = [[(t, c) for w, t, c in nltk.chunk.tree2conlltags(sent)]\n",
    "                     for sent in train_sents]\n",
    "        self.tagger = nltk.UnigramTagger(train_data)\n",
    "    \n",
    "    def parse(self, sentence):\n",
    "        pos_tags = [pos for (word, pos) in sentence]\n",
    "        tagged_pos_tags = self.tagger.tag(pos_tags)\n",
    "        chunktags = [chunktag for (pos, chunktag) in tagged_pos_tags]\n",
    "        conlltags = [(word, pos, chunktag) for ((word, pos), chunktag) in zip(sentence, chunktags)]\n",
    "        return nltk.chunk.conlltags2tree(conlltags)"
   ]
  },
  {
   "cell_type": "markdown",
   "metadata": {},
   "source": [
    "検証用とテスト用に分けて実装"
   ]
  },
  {
   "cell_type": "code",
   "execution_count": null,
   "metadata": {},
   "outputs": [],
   "source": [
    "test_sents = conll2000.chunked_sents('test.txt', chunk_types = ['NP'])\n",
    "train_sents = conll2000.chunked_sents('train.txt', chunk_types = ['NP'])\n",
    "\n",
    "unigram_chunker = UnigramChunker(train_sents)\n",
    "print(unigram_chunker.evaluate(test_sents))"
   ]
  },
  {
   "cell_type": "markdown",
   "metadata": {},
   "source": [
    "高い精度が出ていることが確認できる"
   ]
  },
  {
   "cell_type": "markdown",
   "metadata": {},
   "source": [
    "今度は、機械学習（最大エントロピー）を利用した学習器を作成する。"
   ]
  },
  {
   "cell_type": "code",
   "execution_count": null,
   "metadata": {},
   "outputs": [],
   "source": [
    "class MaxentTagger(nltk.TaggerI):\n",
    "    def __init__(self, train_sents):\n",
    "        train_set = []\n",
    "        for tagged_sent in train_sents:\n",
    "            untagged_sent = nltk.tag.untag(tagged_sent)\n",
    "            for i, (word, tag) in enumerate(tagged_sent):\n",
    "                featureset = npchunk_features(untagged_sent, i)\n",
    "                train_set.append((featureset, tag))\n",
    "        self.classifier = nltk.MaxentClassifier.train(train_set, max_iter=5)\n",
    "            \n",
    "    def tag(self, sentence):\n",
    "        tag = []\n",
    "        for i, word in enumerate(sentence):\n",
    "            featureset = npchunk_features(sentence, i)\n",
    "            tag.append(self.classifier.classify(featureset))     \n",
    "        return zip(sentence, tag)"
   ]
  },
  {
   "cell_type": "code",
   "execution_count": null,
   "metadata": {},
   "outputs": [],
   "source": [
    "class MaxentChunker(nltk.ChunkParserI):\n",
    "    def __init__(self, train_sents):\n",
    "        tagged_sents = [[((w, t), c) for (w, t, c) in nltk.chunk.tree2conlltags(sent)] for sent in train_sents]\n",
    "        self.tagger = MaxentTagger(tagged_sents)\n",
    "        \n",
    "    def parse(self, sentence):\n",
    "        tagged_sents = self.tagger.tag(sentence)\n",
    "        conlltags = [(w,t,c) for ((w,t), c) in tagged_sents]\n",
    "        return nltk.chunk.conlltags2tree(conlltags)"
   ]
  },
  {
   "cell_type": "markdown",
   "metadata": {},
   "source": [
    "参考までに、文脈の連続性を加味しながら学習をする分類器"
   ]
  },
  {
   "cell_type": "code",
   "execution_count": null,
   "metadata": {},
   "outputs": [],
   "source": [
    " class ConsecutiveNPChunkTagger(nltk.TaggerI):\n",
    "    \n",
    "    def __init__(self, train_sents):\n",
    "        train_set = []\n",
    "        for tagged_sent in train_sents:\n",
    "            untagged_sent = nltk.tag.untag(tagged_sent)\n",
    "            history = []\n",
    "            for i, (word, tag) in enumerate(tagged_sent):\n",
    "                featureset = npchunk_features(untagged_sent, i, history)\n",
    "                train_set.append((featureset, tag))\n",
    "                history.append(tag)\n",
    "        self.classifier = nltk.MaxentClassifier.train(train_set, max_iter=1)\n",
    "            \n",
    "    def tag(self, sentence):\n",
    "        history = []\n",
    "        for i, word in enumerate(sentence):\n",
    "            featureset = npchunk_features(sentence, i, history)\n",
    "            tag = self.classifier.classify(featureset)\n",
    "            history.append(tag)\n",
    "            \n",
    "        return zip(sentence, history)"
   ]
  },
  {
   "cell_type": "code",
   "execution_count": null,
   "metadata": {},
   "outputs": [],
   "source": [
    "class ConsecutiveNPChunker(nltk.ChunkParserI):\n",
    "    def __init__(self, train_sents):\n",
    "        tagged_sents = [[((w, t), c) for (w, t, c) in nltk.chunk.tree2conlltags(sent)] for sent in train_sents]\n",
    "        self.tagger = ConsecutiveNPChunkTagger(tagged_sents)\n",
    "        \n",
    "    def parse(self, sentence):\n",
    "        tagged_sents = self.tagger.tag(sentence)\n",
    "        conlltags = [(w,t,c) for ((w,t), c) in tagged_sents]\n",
    "        return nltk.chunk.conlltags2tree(conlltags)"
   ]
  },
  {
   "cell_type": "markdown",
   "metadata": {},
   "source": [
    "# 実行"
   ]
  },
  {
   "cell_type": "code",
   "execution_count": null,
   "metadata": {},
   "outputs": [],
   "source": [
    "def npchunk_features(sentence, i):\n",
    "    word,tag = sentence[i]\n",
    "    return {'tag':tag}\n",
    "\n",
    "chunker = MaxentChunker(train_sents)\n",
    "print(chunker.evaluate(test_sents))"
   ]
  },
  {
   "cell_type": "markdown",
   "metadata": {},
   "source": [
    "高い精度が出ていることが分かる。"
   ]
  },
  {
   "cell_type": "markdown",
   "metadata": {},
   "source": [
    "# さらに、句構造を文構造まで広げる"
   ]
  },
  {
   "cell_type": "code",
   "execution_count": null,
   "metadata": {},
   "outputs": [],
   "source": [
    "from nltk import CFG\n",
    "\n",
    "groucho_grammar = CFG.fromstring(\"\"\"\n",
    "S -> NP VP\n",
    "PP -> P NP\n",
    "NP -> Det N | Det N PP | 'I'\n",
    "VP -> V NP | VP PP\n",
    "Det -> 'an' | 'my'\n",
    "N -> 'elephant' | 'pajamas'\n",
    "V -> 'shot'\n",
    "P -> 'in'\n",
    "\"\"\")"
   ]
  },
  {
   "cell_type": "code",
   "execution_count": null,
   "metadata": {},
   "outputs": [],
   "source": [
    "sent = ['I', 'shot', 'an', 'elephant', 'in', 'my', 'pajamas']\n",
    "\n",
    "parser = nltk.ChartParser(groucho_grammar)\n",
    "trees = parser.parse(sent)\n",
    "\n",
    "for tree in trees:\n",
    "    print(tree)"
   ]
  },
  {
   "cell_type": "markdown",
   "metadata": {},
   "source": [
    "構文解析器（再帰下降構文）"
   ]
  },
  {
   "cell_type": "code",
   "execution_count": null,
   "metadata": {},
   "outputs": [],
   "source": [
    "nltk.app.rdparser()"
   ]
  },
  {
   "cell_type": "markdown",
   "metadata": {},
   "source": [
    "より完全で効率的な構文解析（適格部分文字列表）"
   ]
  },
  {
   "cell_type": "code",
   "execution_count": null,
   "metadata": {},
   "outputs": [],
   "source": [
    "def init_wfst(tokens, grammar):\n",
    "    numtokens = len(tokens)\n",
    "    wfst = [[None for i in range(numtokens+1)] for j in range(numtokens+1)]\n",
    "    for i in range(numtokens):\n",
    "        productions = grammar.productions(rhs = tokens[i])\n",
    "        wfst[i][i+1] = productions[0].lhs()\n",
    "    return wfst\n",
    "\n",
    "def complete_wfst(wfst, tokens, grammar, trace=False):\n",
    "    index = dict((p.rhs(), p.lhs()) for p in grammar.productions())\n",
    "    numtokens = len(tokens)\n",
    "    for span in range(2, numtokens+1):\n",
    "        for start in range(numtokens+1-span):\n",
    "            end = start+span\n",
    "            for mid in range(start+1, end):\n",
    "                nt1, nt2 = wfst[start][mid], wfst[mid][end]\n",
    "                if nt1 and nt2 and (nt1,nt2) in index:\n",
    "                    wfst[start][end] = index[(nt1,nt2)]\n",
    "                    if trace:\n",
    "                        print(\"[%s] %3s [%s] %3s [%s] ==> [%s] %3s [%s]\" % \\\n",
    "                             (start, nt1, mid, nt2, end, start, index[(nt1,nt2)], end))\n",
    "    return wfst\n",
    "\n",
    "def display(wfst, tokens):\n",
    "    print('\\nWFST' + ' '.join([(\"%-4d\" % i) for i in range(1,len(wfst))]))\n",
    "    for i in range(len(wfst)-1):\n",
    "        print (\"%d\" % i,end = \"\")\n",
    "        for j in range(1,len(wfst)):\n",
    "            print (\"%-4s\" % (wfst[i][j] or '.'),end = \"\")\n",
    "        print(\"\\n\")"
   ]
  },
  {
   "cell_type": "code",
   "execution_count": null,
   "metadata": {},
   "outputs": [],
   "source": [
    "tokens = \"I shot an elephant in my pajamas\".split()\n",
    "wfst0 = init_wfst(tokens, groucho_grammar)\n",
    "display(wfst0, tokens)"
   ]
  },
  {
   "cell_type": "code",
   "execution_count": null,
   "metadata": {},
   "outputs": [],
   "source": [
    "wfst1 = complete_wfst(wfst0, tokens, groucho_grammar)\n",
    "display(wfst1, tokens)"
   ]
  },
  {
   "cell_type": "code",
   "execution_count": null,
   "metadata": {},
   "outputs": [],
   "source": [
    "wfst1 = complete_wfst(wfst0, tokens, groucho_grammar, trace=True)"
   ]
  },
  {
   "cell_type": "markdown",
   "metadata": {},
   "source": [
    "# 一階述語論理における量化子表現"
   ]
  },
  {
   "cell_type": "code",
   "execution_count": null,
   "metadata": {},
   "outputs": [],
   "source": [
    "v = \"\"\"\n",
    "bruce => b\n",
    "cyril => c\n",
    "elspeth => e\n",
    "julia => j\n",
    "matthew => m\n",
    "person => {b, e, j, m}\n",
    "admire => {(j, b), (b, b), (m, e), (e, m), (c, a)}\n",
    "\"\"\"\n",
    "val = nltk.Valuation.fromstring(v)"
   ]
  },
  {
   "cell_type": "markdown",
   "metadata": {},
   "source": [
    "誰かに尊敬される人を挙げる"
   ]
  },
  {
   "cell_type": "code",
   "execution_count": null,
   "metadata": {},
   "outputs": [],
   "source": [
    "lp = nltk.Expression()\n",
    "dom = val.domain\n",
    "m = nltk.Model(dom, val)\n",
    "g = nltk.Assignment(dom)\n",
    "fmla = lp.fromstring('(person(x) -> exists y.(person(y) & admire(x, y)))')\n",
    "m.satisfiers(fmla, 'x', g)"
   ]
  },
  {
   "cell_type": "markdown",
   "metadata": {},
   "source": [
    "誰からも尊敬される人を挙げる"
   ]
  },
  {
   "cell_type": "code",
   "execution_count": null,
   "metadata": {},
   "outputs": [],
   "source": [
    "fmla2 = lp.fromstring('(person(y) & all x.(person(x) & admire(x, y)))')\n",
    "m.satisfiers(fmla2, 'y', g)"
   ]
  },
  {
   "cell_type": "markdown",
   "metadata": {},
   "source": [
    "ここで出てくるall x.やexists y.のような束縛演算子を、λによって表すこともできる。"
   ]
  },
  {
   "cell_type": "code",
   "execution_count": null,
   "metadata": {},
   "outputs": [],
   "source": [
    "lp = nltk.Expression()\n",
    "e = lp.fromstring(r'\\x.(walk(x) & chew_gum(x))')\n",
    "e"
   ]
  },
  {
   "cell_type": "code",
   "execution_count": null,
   "metadata": {},
   "outputs": [],
   "source": [
    "e = lp.fromstring(r'\\x.(walk(x) & chew_gum(x))(gerald)')"
   ]
  },
  {
   "cell_type": "code",
   "execution_count": null,
   "metadata": {},
   "outputs": [],
   "source": [
    "print(e)"
   ]
  },
  {
   "cell_type": "markdown",
   "metadata": {},
   "source": [
    "また、簡約化が可能"
   ]
  },
  {
   "cell_type": "code",
   "execution_count": null,
   "metadata": {},
   "outputs": [],
   "source": [
    "print(e.simplify())"
   ]
  },
  {
   "cell_type": "markdown",
   "metadata": {},
   "source": [
    "文を一階述語論理に変換"
   ]
  },
  {
   "cell_type": "code",
   "execution_count": null,
   "metadata": {},
   "outputs": [],
   "source": [
    "from nltk import load_parser\n",
    "parser = load_parser('grammars/book_grammars/simple-sem.fcfg', trace = 0)\n",
    "sentence = 'Angus gives a bone to every dog'\n",
    "trees = next(parser.parse(sentence.split()))\n",
    "print(trees.label()['SEM'])"
   ]
  },
  {
   "cell_type": "markdown",
   "metadata": {},
   "source": [
    "# 日本語コーパスを使用した自然言語処理"
   ]
  },
  {
   "cell_type": "code",
   "execution_count": null,
   "metadata": {},
   "outputs": [],
   "source": [
    "from chasen import *\n",
    "jeita = ChasenCorpusReader(r'C:\\Users\\funyu\\OneDrive\\Anaconda3\\Lib\\site-packages\\nltk\\jeita', '.*chasen', encoding = 'utf-8')"
   ]
  },
  {
   "cell_type": "code",
   "execution_count": null,
   "metadata": {},
   "outputs": [],
   "source": [
    "jeita_name = [f[0] for f in jeita.tagged_words() if re.match( r'名詞-固有名詞-人名.*',f[1].split('\\t')[2])]\n",
    "\n",
    "jeita.tagged_words()[0:1000]"
   ]
  },
  {
   "cell_type": "markdown",
   "metadata": {},
   "source": [
    "jeitaコーパスの保存"
   ]
  },
  {
   "cell_type": "code",
   "execution_count": 81,
   "metadata": {},
   "outputs": [],
   "source": [
    "import pickle\n",
    "f = open('jeita.txt', 'wb')\n",
    "pickle.dump(jeita, f)"
   ]
  },
  {
   "cell_type": "markdown",
   "metadata": {},
   "source": [
    "保存してあるjeitaコーパスのロード"
   ]
  },
  {
   "cell_type": "code",
   "execution_count": 82,
   "metadata": {},
   "outputs": [],
   "source": [
    "import pickle\n",
    "f = open(\"jeita.txt\",\"rb\")\n",
    "jeita = pickle.load(f)"
   ]
  },
  {
   "cell_type": "code",
   "execution_count": 83,
   "metadata": {},
   "outputs": [
    {
     "ename": "KeyboardInterrupt",
     "evalue": "",
     "output_type": "error",
     "traceback": [
      "\u001b[1;31m---------------------------------------------------------------------------\u001b[0m",
      "\u001b[1;31mKeyboardInterrupt\u001b[0m                         Traceback (most recent call last)",
      "\u001b[1;32m<ipython-input-83-ede82dc169e1>\u001b[0m in \u001b[0;36m<module>\u001b[1;34m\u001b[0m\n\u001b[0;32m      3\u001b[0m \u001b[0mkanji\u001b[0m \u001b[1;33m=\u001b[0m \u001b[1;33m[\u001b[0m\u001b[1;33m]\u001b[0m\u001b[1;33m\u001b[0m\u001b[0m\n\u001b[0;32m      4\u001b[0m \u001b[1;33m\u001b[0m\u001b[0m\n\u001b[1;32m----> 5\u001b[1;33m \u001b[1;32mfor\u001b[0m \u001b[0mi\u001b[0m \u001b[1;32min\u001b[0m \u001b[0mjeita\u001b[0m\u001b[1;33m.\u001b[0m\u001b[0mwords\u001b[0m\u001b[1;33m(\u001b[0m\u001b[1;33m)\u001b[0m\u001b[1;33m:\u001b[0m\u001b[1;33m\u001b[0m\u001b[0m\n\u001b[0m\u001b[0;32m      6\u001b[0m     \u001b[1;32mif\u001b[0m \u001b[0mre\u001b[0m\u001b[1;33m.\u001b[0m\u001b[0mmatch\u001b[0m\u001b[1;33m(\u001b[0m\u001b[1;34mu'[ぁ-ん]+'\u001b[0m\u001b[1;33m,\u001b[0m \u001b[0mi\u001b[0m\u001b[1;33m)\u001b[0m\u001b[1;33m:\u001b[0m\u001b[1;33m\u001b[0m\u001b[0m\n\u001b[0;32m      7\u001b[0m         \u001b[0mhira\u001b[0m\u001b[1;33m.\u001b[0m\u001b[0mappend\u001b[0m\u001b[1;33m(\u001b[0m\u001b[0mi\u001b[0m\u001b[1;33m)\u001b[0m\u001b[1;33m\u001b[0m\u001b[0m\n",
      "\u001b[1;32m~\\Anaconda3\\lib\\site-packages\\nltk\\corpus\\reader\\util.py\u001b[0m in \u001b[0;36miterate_from\u001b[1;34m(self, start_tok)\u001b[0m\n\u001b[0;32m    420\u001b[0m \u001b[1;33m\u001b[0m\u001b[0m\n\u001b[0;32m    421\u001b[0m             \u001b[1;31m# Get everything we can from this piece.\u001b[0m\u001b[1;33m\u001b[0m\u001b[1;33m\u001b[0m\u001b[0m\n\u001b[1;32m--> 422\u001b[1;33m             \u001b[1;32mfor\u001b[0m \u001b[0mtok\u001b[0m \u001b[1;32min\u001b[0m \u001b[0mpiece\u001b[0m\u001b[1;33m.\u001b[0m\u001b[0miterate_from\u001b[0m\u001b[1;33m(\u001b[0m\u001b[0mmax\u001b[0m\u001b[1;33m(\u001b[0m\u001b[1;36m0\u001b[0m\u001b[1;33m,\u001b[0m \u001b[0mstart_tok\u001b[0m \u001b[1;33m-\u001b[0m \u001b[0moffset\u001b[0m\u001b[1;33m)\u001b[0m\u001b[1;33m)\u001b[0m\u001b[1;33m:\u001b[0m\u001b[1;33m\u001b[0m\u001b[0m\n\u001b[0m\u001b[0;32m    423\u001b[0m                 \u001b[1;32myield\u001b[0m \u001b[0mtok\u001b[0m\u001b[1;33m\u001b[0m\u001b[0m\n\u001b[0;32m    424\u001b[0m \u001b[1;33m\u001b[0m\u001b[0m\n",
      "\u001b[1;32m~\\Anaconda3\\lib\\site-packages\\nltk\\corpus\\reader\\util.py\u001b[0m in \u001b[0;36miterate_from\u001b[1;34m(self, start_tok)\u001b[0m\n\u001b[0;32m    304\u001b[0m             \u001b[0mself\u001b[0m\u001b[1;33m.\u001b[0m\u001b[0m_current_toknum\u001b[0m \u001b[1;33m=\u001b[0m \u001b[0mtoknum\u001b[0m\u001b[1;33m\u001b[0m\u001b[0m\n\u001b[0;32m    305\u001b[0m             \u001b[0mself\u001b[0m\u001b[1;33m.\u001b[0m\u001b[0m_current_blocknum\u001b[0m \u001b[1;33m=\u001b[0m \u001b[0mblock_index\u001b[0m\u001b[1;33m\u001b[0m\u001b[0m\n\u001b[1;32m--> 306\u001b[1;33m             \u001b[0mtokens\u001b[0m \u001b[1;33m=\u001b[0m \u001b[0mself\u001b[0m\u001b[1;33m.\u001b[0m\u001b[0mread_block\u001b[0m\u001b[1;33m(\u001b[0m\u001b[0mself\u001b[0m\u001b[1;33m.\u001b[0m\u001b[0m_stream\u001b[0m\u001b[1;33m)\u001b[0m\u001b[1;33m\u001b[0m\u001b[0m\n\u001b[0m\u001b[0;32m    307\u001b[0m             assert isinstance(tokens, (tuple, list, AbstractLazySequence)), (\n\u001b[0;32m    308\u001b[0m                 \u001b[1;34m'block reader %s() should return list or tuple.'\u001b[0m\u001b[1;33m\u001b[0m\u001b[0m\n",
      "\u001b[1;32m~\\Documents\\自習用\\chasen.py\u001b[0m in \u001b[0;36mread_block\u001b[1;34m(self, stream)\u001b[0m\n\u001b[0;32m     94\u001b[0m         \u001b[1;34m\"\"\"Reads one paragraph at a time.\"\"\"\u001b[0m\u001b[1;33m\u001b[0m\u001b[0m\n\u001b[0;32m     95\u001b[0m         \u001b[0mblock\u001b[0m \u001b[1;33m=\u001b[0m \u001b[1;33m[\u001b[0m\u001b[1;33m]\u001b[0m\u001b[1;33m\u001b[0m\u001b[0m\n\u001b[1;32m---> 96\u001b[1;33m         \u001b[1;32mfor\u001b[0m \u001b[0mpara_str\u001b[0m \u001b[1;32min\u001b[0m \u001b[0mread_regexp_block\u001b[0m\u001b[1;33m(\u001b[0m\u001b[0mstream\u001b[0m\u001b[1;33m,\u001b[0m \u001b[1;34mr\".\"\u001b[0m\u001b[1;33m,\u001b[0m \u001b[1;34mr\"^EOS\\n\"\u001b[0m\u001b[1;33m)\u001b[0m\u001b[1;33m:\u001b[0m\u001b[1;33m\u001b[0m\u001b[0m\n\u001b[0m\u001b[0;32m     97\u001b[0m             \u001b[0mpara\u001b[0m \u001b[1;33m=\u001b[0m \u001b[1;33m[\u001b[0m\u001b[1;33m]\u001b[0m\u001b[1;33m\u001b[0m\u001b[0m\n\u001b[0;32m     98\u001b[0m             \u001b[0msent\u001b[0m \u001b[1;33m=\u001b[0m \u001b[1;33m[\u001b[0m\u001b[1;33m]\u001b[0m\u001b[1;33m\u001b[0m\u001b[0m\n",
      "\u001b[1;32m~\\Anaconda3\\lib\\site-packages\\nltk\\corpus\\reader\\util.py\u001b[0m in \u001b[0;36mread_regexp_block\u001b[1;34m(stream, start_re, end_re)\u001b[0m\n\u001b[0;32m    655\u001b[0m     \u001b[0mlines\u001b[0m \u001b[1;33m=\u001b[0m \u001b[1;33m[\u001b[0m\u001b[0mline\u001b[0m\u001b[1;33m]\u001b[0m\u001b[1;33m\u001b[0m\u001b[0m\n\u001b[0;32m    656\u001b[0m     \u001b[1;32mwhile\u001b[0m \u001b[1;32mTrue\u001b[0m\u001b[1;33m:\u001b[0m\u001b[1;33m\u001b[0m\u001b[0m\n\u001b[1;32m--> 657\u001b[1;33m         \u001b[0moldpos\u001b[0m \u001b[1;33m=\u001b[0m \u001b[0mstream\u001b[0m\u001b[1;33m.\u001b[0m\u001b[0mtell\u001b[0m\u001b[1;33m(\u001b[0m\u001b[1;33m)\u001b[0m\u001b[1;33m\u001b[0m\u001b[0m\n\u001b[0m\u001b[0;32m    658\u001b[0m         \u001b[0mline\u001b[0m \u001b[1;33m=\u001b[0m \u001b[0mstream\u001b[0m\u001b[1;33m.\u001b[0m\u001b[0mreadline\u001b[0m\u001b[1;33m(\u001b[0m\u001b[1;33m)\u001b[0m\u001b[1;33m\u001b[0m\u001b[0m\n\u001b[0;32m    659\u001b[0m         \u001b[1;31m# End of file:\u001b[0m\u001b[1;33m\u001b[0m\u001b[1;33m\u001b[0m\u001b[0m\n",
      "\u001b[1;32m~\\Anaconda3\\lib\\site-packages\\nltk\\data.py\u001b[0m in \u001b[0;36mtell\u001b[1;34m(self)\u001b[0m\n\u001b[0;32m   1404\u001b[0m \u001b[1;33m\u001b[0m\u001b[0m\n\u001b[0;32m   1405\u001b[0m         \u001b[1;31m# Store our original file position, so we can return here.\u001b[0m\u001b[1;33m\u001b[0m\u001b[1;33m\u001b[0m\u001b[0m\n\u001b[1;32m-> 1406\u001b[1;33m         \u001b[0morig_filepos\u001b[0m \u001b[1;33m=\u001b[0m \u001b[0mself\u001b[0m\u001b[1;33m.\u001b[0m\u001b[0mstream\u001b[0m\u001b[1;33m.\u001b[0m\u001b[0mtell\u001b[0m\u001b[1;33m(\u001b[0m\u001b[1;33m)\u001b[0m\u001b[1;33m\u001b[0m\u001b[0m\n\u001b[0m\u001b[0;32m   1407\u001b[0m \u001b[1;33m\u001b[0m\u001b[0m\n\u001b[0;32m   1408\u001b[0m         \u001b[1;31m# Calculate an estimate of where we think the newline is.\u001b[0m\u001b[1;33m\u001b[0m\u001b[1;33m\u001b[0m\u001b[0m\n",
      "\u001b[1;31mKeyboardInterrupt\u001b[0m: "
     ]
    }
   ],
   "source": [
    "hira = []\n",
    "kana = []\n",
    "kanji = []\n",
    "\n",
    "for i in jeita.words():\n",
    "    if re.match(u'[ぁ-ん]+', i):\n",
    "        hira.append(i)\n",
    "    elif re.match(u'[ァ-ン]+', i):\n",
    "        kana.append(i)\n",
    "    elif re.match(u'[\\u4e00-\\u9FFF]+',i):\n",
    "        kanji.append(i)"
   ]
  },
  {
   "cell_type": "code",
   "execution_count": null,
   "metadata": {},
   "outputs": [],
   "source": [
    "fdist_hira = FreqDist(hira)\n",
    "fdist_kana = FreqDist(kana)\n",
    "fdist_kanji = FreqDist(kanji)\n",
    "fdist_name = FreqDist(jeita_name)"
   ]
  },
  {
   "cell_type": "markdown",
   "metadata": {},
   "source": [
    "FreqDistの保存"
   ]
  },
  {
   "cell_type": "code",
   "execution_count": null,
   "metadata": {},
   "outputs": [],
   "source": [
    "import pickle\n",
    "f1 = open('fdist_hira.txt', 'wb')\n",
    "pickle.dump(fdist_hira, f1)\n",
    "f2 = open('fdist_kana.txt', 'wb')\n",
    "pickle.dump(fdist_kana, f2)\n",
    "f3 = open('fdist_kanji.txt', 'wb')\n",
    "pickle.dump(fdist_kanji, f3)\n",
    "f4 = open('fdist_name.txt', 'wb')\n",
    "pickle.dump(fdist_name, f4)"
   ]
  },
  {
   "cell_type": "markdown",
   "metadata": {},
   "source": [
    "保存してあるFreqDistのロード"
   ]
  },
  {
   "cell_type": "code",
   "execution_count": 84,
   "metadata": {},
   "outputs": [],
   "source": [
    "import pickle\n",
    "f1 = open(\"fdist_hira.txt\",\"rb\")\n",
    "fdist_hira = pickle.load(f1)\n",
    "f2 = open(\"fdist_kana.txt\",\"rb\")\n",
    "fdist_kana = pickle.load(f2)\n",
    "f3 = open(\"fdist_kanji.txt\",\"rb\")\n",
    "fdist_kanji = pickle.load(f3)\n",
    "f4 = open(\"fdist_name.txt\",\"rb\")\n",
    "fdist_name = pickle.load(f4)"
   ]
  },
  {
   "cell_type": "code",
   "execution_count": 85,
   "metadata": {},
   "outputs": [
    {
     "name": "stdout",
     "output_type": "stream",
     "text": [
      "dict_keys(['の', 'を', 'と', 'から', 'まけ', 'れ', 'た', 'に', 'は', 'ぞ', 'ろ', 'へ', 'て', 'あと', 'い', 'すぐ', 'な', 'が', 'ある', 'か', 'つて', 'ぶら', 'る', 'し', 'どちら', 'お', 'です', 'で', 'あつ', 'だ', 'といふ', 'こと', 'ない', 'ね', 'ば', 'なら', 'ぬ', 'いふ', 'うし', 'ます', 'も', 'あり', 'やう', 'ませ', 'ん', 'とい', 'つた', 'はず', 'にぶ', 'ら', 'つ', 'もの', 'ぢ', 'や', 'いつ', 'たら', 'へえ', 'ご', 'ざり', 'がい', 'として', 'ずる', 'かける', 'しま', 'ながら', 'あ', 'まだ', 'つたの', 'あれ', 'こ', 'ござい', 'これ', 'り', 'どうしても', 'たい', 'ゆるやか', 'ゆら', 'いつも', 'つい', 'う', 'どう', 'しよ', 'あなた', 'さあ', 'よい', 'こんな', 'ひどい', 'ので', 'とう', 'さ', 'しら', 'さい', 'かう', 'つまら', 'ばかり', 'く', 'する', 'めぐらし', 'しばかり', 'あたり', 'うに', 'ぎ', 'せ', 'たる', 'もと', 'ひらい', 'うて', 'ほのか', 'はれ', 'ぽ', 'ちり', 'でも', 'つく', 'まで', 'れる', 'こんなに', 'なかつ', 'さし', 'ふと', 'くれ', 'うち', 'さき', 'ぼんやり', 'だけ', 'はつ', 'きり', 'より', 'あい', 'きが', 'なつ', 'しかと', 'なる', 'づ', 'め', 'ふ', 'ひ', 'ど', 'すべて', 'よれ', 'なけれ', 'かし', 'ため', 'へる', 'それ', 'まどろむ', 'なし', 'かぎり', 'なれ', 'えつ', 'かも', 'べき', 'しらが', 'ずん', 'あらう', 'なつかしい', 'ち', 'き', 'なく', 'あの', 'もつ', 'だら', 'やつ', 'ぱ', 'ま', 'ぐる', 'つと', 'ず', 'られ', 'じ', 'にし', 'どんな', 'さん', 'たべ', 'てる', 'たとい', 'つける', 'ぶる', 'はじ', 'まつ', 'ひつ', 'きる', 'すく', 'あら', 'くし', 'らく', 'よから', 'せよ', 'よら', 'ばつ', 'この', 'しく', 'しかし', 'しきつめ', 'もも', 'はり', 'けさ', 'いかにも', 'によ', 'そして', 'くつ', 'その', 'つたや', 'やい', 'たび', 'ゆ', 'はい', 'とる', 'よく', 'はやく', 'たまら', 'はや', 'もはや', 'さて', 'どんなに', 'まい', 'いる', 'へい', 'かくれ', 'ゐる', 'はし', 'その間', 'かすか', 'られる', 'そこ', 'わかる', 'ざ', 'について', 'しばらく', 'す', 'ぼら', 'かけ', 'ふか', 'すい', 'わき', 'しかも', 'ざる', 'そんな', 'だから', 'なか', 'ほ', 'どうして', 'うかと', 'どこ', 'むしろ', 'おく', 'ところ', 'こしらえ', 'へた', 'それに', 'あし', 'それから', 'ゑ', 'ねび', 'かた', 'さつき', 'かに', 'また', 'さしくる', 'しかしながら', 'おろか', 'しき', 'おまけ', 'など', 'なり', 'はじめ', 'いっ', 'よう', 'ふざけ', 'しか', 'いう', 'そう', 'さらわ', 'もっとも', 'ぬく', 'とら', 'あっ', 'とにかく', 'だっ', 'さえ', 'びっくり', 'あげる', 'しきりに', 'やっ', 'あてがっ', 'たり', 'ありったけ', 'つっかい', 'まま', 'ぶるぶる', 'え', 'ほど', 'のち', 'やっと', 'っ', 'おかしく', 'なかっ', 'ふだん', 'あんなに', 'その頃', 'うろたえ', 'その他', 'がらくた', 'はいら', 'という', 'おどしつけ', 'げ', 'はき', 'ぴんと', 'とおり', 'きめこん', 'ついぞ', 'お母さん', 'み', 'かわっ', 'だろ', 'ちがっ', 'はいっ', 'おどおど', 'しまう', 'つけ', 'どっと', 'しまっ', 'みんな', 'くずれる', 'しまいに', 'すっかり', 'なっ', 'って', 'しょんぼり', 'うす', 'なう', 'けれども', 'にかけて', 'つまり', 'くる', 'じゃり', 'すると', 'ひきつっ', 'ひやかす', 'と共に', 'もん', 'むやみ', 'がる', 'せい', 'いわ', 'しゅう', 'かかっ', 'わけ', 'ためし', 'どうせ', 'もう', 'のめさ', 'つぶっ', 'やや', 'まわし', 'やがて', 'あまり', 'ひょいと', 'あけ', 'まじめ', 'きまり', 'ゆがめ', 'たっ', 'くせ', 'くどくど', 'どうやら', 'らしい', 'その後', 'ずっと', 'しかっ', 'そういう', 'こだわっ', 'こそ', 'ことさら', 'もっと', 'きれ', 'とかいう', 'やはり', 'ちょいちょい', 'それ程', 'とか', 'くよくよ', 'たろ', 'はっきり', 'どうか', 'こん', 'くだらない', 'いえ', 'いや', 'いい', 'ひそか', 'しい', 'に従って', 'あろ', 'ついで', 'もう少し', 'ほんの', 'やら', 'そば', 'もう一度', 'はいる', 'うすい', 'べ', 'ちょっと', 'おこし', 'めい', 'こういう', 'すぎる', 'に対する', 'やろ', 'わざと', 'こう', 'そりゃ', 'けれど', 'だけど', 'ぜ', 'だらけ', 'によって', 'ほそい', 'きか', 'それでも', 'こうした', 'たしか', 'さむざむ', 'そうした', 'ずり', 'にくい', 'いよいよ', 'ひどく', 'かね', 'もぐり込ん', 'にあたる', 'はげしく', 'けわしい', 'あわて', 'もっ', 'のら', 'もとより', 'あやまる', 'あるいは', 'あやまら', 'げに', 'くれる', 'そのまま', 'ぐるり', 'まれ', 'に対して', 'よる', 'かり', 'おどかさ', 'あわや', 'れよ', 'まわり', 'こわい', 'える', 'さらけ出し', 'かえる', 'それで', 'あやまれ', 'なお', 'かない', 'それぞれ', 'いぶっ', 'とても', 'いたたまれなかっ', 'しずまる', 'すん', 'ゆっくり', 'とれる', 'ずらかっ', 'いい加減', 'あどけない', 'それとも', 'あげ', 'ただ', 'さも', 'めいめい', 'くっつけ', 'ひしひし', 'うとうと', 'じっと', 'はっ', 'てい', 'もとめ', 'おびやかさ', 'そんなに', 'なに', 'のしかかる', 'ほんとう', 'とどろかし', 'もどっ', 'そっと', 'そうして', 'しゃがん', 'きらきら', 'いさかい', 'ふるわせ', 'おうおう', 'け', 'たく', 'ずらりと', 'いずれ', 'ずつ', 'それら', 'はめ', 'だらり', 'とぎれる', 'あたかも', 'どういう', 'なあ', 'はね', 'そこで', 'あん', 'やしない', 'よ', 'それなのに', 'やっぱり', 'ここ', 'すすり上げ', 'くやしい', 'くっ', 'いつの間にか', 'かなり', 'いくつ', 'うだろ', 'か弱い', 'なかろ', 'たかが', 'すぎ', 'あながち', 'しおれ', 'ほか', 'たずね', 'ぐらい', 'なろ', 'に関する', 'とも', 'もし', 'ここら', 'くらます', 'かねて', 'じゃ', 'まるで', 'まったく', 'すれ', 'てこ', 'かつご', 'くらい', 'いわゆる', 'どの', 'まず', 'まして', 'やる', 'きまっ', 'あぐん', 'とろ', 'ひょっとしたら', 'ごまかせる', 'ばれる', 'ごまかし', 'しまお', 'あたりまえ', 'あさり', 'けれ', 'ども', 'とっく', 'がっ', 'だに', 'うすく', 'ふさわしい', 'どきどき', 'いじっ', 'あけよ', 'すます', 'ととのえ', 'どおり', 'だが', 'ずくめ', 'じきに', 'いれ', 'つづけ', 'おり', 'ちぢめ', 'させ', 'こごめ', 'む', 'お茶', 'さしかかっ', 'かたまり', 'とび', 'なくなっ', 'かぶり', 'ちぎれ', 'そ', 'そちら', 'おくれ', 'そっくり', 'おい', 'まもなく', 'はずれ', 'くねくね', 'ぼる', 'かから', 'ほっ', 'のぼっ', 'ざわめき', 'につれて', 'かわり', 'つか', 'はまる', 'つけよ', 'ふるえ', 'がら', 'いきなり', 'なん', 'ことに', 'そうすると', 'でき', 'つもり', 'たやすく', 'べた', 'なるたけ', 'さすが', 'やり', 'を以て', 'さっき', 'かえっ', 'へだたら', 'ほうり出し', 'つき', 'かかる', 'じゃれる', 'こすっ', 'なおそ', 'ぼうっと', 'つつい', 'うっすら', 'つつ', 'たちどころに', 'さわっ', 'なぶる', 'いまいまし', 'いつか', 'かさ', 'あまりに', 'ばれ', 'だからこそ', 'かぶっ', 'しょぼしょぼ', 'せる', 'すでに', 'もてあまし', 'しかめ', 'といった', 'あらわれ', 'かな', 'うなずい', 'そらさ', 'みっ', 'らしく', 'あるい', 'つまま', 'のみこめ', 'せかせか', 'あて', 'しまえ', 'よっ', 'とっ', 'へん', 'うすれる', 'とんでもない', 'もしくは', 'ぶり', 'おまけに', 'しゃべり', 'やさしい', 'ぐるぐる', 'のぞい', 'まざり', 'おお', 'ごたごた', 'のに', 'あわただしく', 'ひらり', 'かくして', 'おら', 'みろ', 'とことん', 'よし', 'ばか', 'だめ', 'てんで', 'お前', 'なんとも', 'まだまだ', 'ひたむき', 'なるほど', 'けっして', 'やり方', 'この世', 'いちばん', 'ごとき', 'すなわち', 'この上なく', 'ついに', 'そのもの', 'なれる', 'かく', 'とく', 'かつ', 'むずかしい', 'いったん', 'うる', 'おける', 'できる', 'ゆえに', 'したがって', 'はじめて', 'とき', 'りっぱ', 'かたわら', 'こちら', 'ことごとく', 'すばらしい', 'もともと', 'ほう', 'いく', 'いちいち', 'をもって', 'にとって', 'ほとんど', 'さよ', 'なんと', 'みごと', 'かの', 'むだ', 'び', 'たけり', 'いかなる', 'みっともない', 'いまだに', 'となり', 'さらば', 'ごと', 'くに', 'わし', 'たちまち', 'ごとく', 'いか', 'ひとし', 'さんざん', 'まことに', 'すさ', 'まじ', 'さらに', 'おかしい', 'しょげ', 'しれ', 'いま', 'かつて', 'たいてい', 'どれ', 'そら', 'による', 'むらがる', 'いっせいに', 'にもかかわらず', 'どうにも', 'しようが', 'そろそろ', 'こめ', 'いつい', 'けし', 'かかり', 'ようやく', 'すぐさま', 'どころか', 'ただちに', 'および', 'いまさら', 'ただし', 'しみじみ', 'ころ', 'がし', 'ちょうど', 'うた', 'たいそ', 'いったい', 'わが', 'すら', 'くろぐろ', 'しるし', 'ふたたび', 'そもそも', 'しん', 'よくよく', 'ぐ', 'のしかかっ', 'とたん', 'ちる', 'ときには', 'たまたま', 'はるばる', 'ついて行こ', 'ありがた', 'たち', 'すばらしく', 'れれ', 'まっ', 'かれ', 'なんとなく', 'かれる', 'における', 'さと', 'ぶつかっ', 'しかた', 'たいした', 'すこぶる', 'もって', 'はな', 'しげ', 'われる', 'あぶなく', 'ちゃ', 'ああなん', 'たぶん', 'みずから', 'ご存じ', 'ろう', 'われよ', 'もちろん', 'おもしろい', 'およそ', 'たった', 'において', 'ともに', 'でき上がっ', 'はなはだしい', 'よそ', 'だし', 'したい', 'うの', 'おる', 'ところで', 'ゆらゆら', 'こりこり', 'げた', 'ああ', 'なんか', 'まっぴら', 'たとえ', 'たまげ', 'がいよう', 'につれ', 'ときどき', 'ちらり', 'とが', 'とっくに', 'いわば', 'あらゆる', 'どれほど', 'とどまる', 'はなれ', 'につけ', 'おのずと', 'ついていけ', 'りつ', 'ける', 'うまく', 'いっこう', 'あまりの', 'じれった', 'すごし', 'おし', 'いかに', 'こたえよ', 'どんどん', 'なんにも', 'ごろ', 'うすら寒い', 'ころん', 'まっ暗', 'させる', 'どうも', 'なぜ', 'なべて', 'きもの', 'なんだか', 'すぐれ', 'これら', 'むつかしい', 'うける', 'つくせる', 'ひきのばす', 'しばしば', 'くどく', 'ひっくるめ', 'お話', 'きかせ', 'つかれる', 'たまえ', 'われわれ', 'つまらない', 'つまらなく', 'いえる', 'はじまる', 'よろしい', 'こもっ', 'きく', 'やめ', 'かむっ', 'かかわら', 'もらっ', 'こうして', 'ごそごそ', 'はじめる', 'ひとり', 'よがり', 'お父さん', 'ちや', 'あたい', 'まし', 'つかり', 'よろこん', 'だれ', 'たらし', 'それでは', 'ゐ', 'なさい', 'いね', 'ひき', 'かせ', 'むね', 'おどら', 'ほら', 'ふもと', 'うかん', 'ふり', 'なかなか', 'みたい', 'みつ', 'わたし', 'わ', 'そん', 'へんてこ', 'いら', 'つきれ', 'できるだけ', 'つこ', 'たね', 'ふつう', 'まるい', 'でし', 'しば', 'よろこび', 'まあ', 'ひく', 'わかり', 'ちよ', 'うど', 'ほり', 'しり', 'よびとめ', 'たづ', 'しらべ', 'たつ', 'かむ', 'かん', 'しんし', 'つくり', 'だまさ', 'ゆき', 'だます', 'おちつい', 'いかん', 'おしこむ', 'おこ', 'ゆく', 'いけ', 'うだつ', 'こんど', 'しりめ', 'だまし', 'げんこつ', 'とびこん', 'まち', 'とんま', 'たしかに', 'うだ', 'へり', 'ろくろく', 'ご飯', 'うかび', 'した', 'こいつ', 'すて', 'どなり', 'くすぐ', 'ぴくぴく', 'やあ', 'おどりあがり', 'いただき', 'のこっ', 'おや', 'お父ちゃん', 'さく', 'お母ちゃん', 'きれい', 'とおく', 'ぼ', 'やわ', 'たて', 'きい', 'さそわ', 'ひろがっ', 'かおり', 'ぽん', 'おじいさん', 'みる', 'ひと', 'むすびつけ', 'ざし', 'おかえり', 'かえり', 'はなし', 'そろえ', 'おまえ', 'につい', 'いっぱい', 'もち', 'におい', 'おしえ', 'やってき', 'いろんな', 'さきはじめ', 'あたたかい', 'ふたり', 'つれ', 'のり', 'さむ', 'とびこみ', 'まん中', 'どっかり', 'すわっ', 'ぽかぽか', 'ねむり', 'はやし', 'つよ', 'いが', 'こっくり', 'ふふふ', 'だまっ', 'おいで', 'おこっ', 'たいへん', 'だまり', 'ちゃん', 'だま', 'ちょうだい', 'さしだし', 'あたし', 'ふところ', 'ふく', 'とりだし', 'ところが', 'りょう', 'せがみ', 'こまっ', 'しまい', 'こね', 'ぱっちり', 'せがむ', 'おどろき', 'じゃま', 'ちがい', 'おとなしく', 'なだめ', 'きき', 'すらり', 'ぬい', 'まえ', 'まっさお', 'かばい', 'ころす', 'おそるおそる', 'のせ', 'ちんと', 'わり', 'では', 'ないし', 'わたり', 'とうてい', 'やれる', 'あつまる', 'わすれ', 'おの', 'ふかく', 'まっしぐら', 'まばゆい', 'ふきだす', 'いたる', 'それほど', 'およば', 'これから', 'ふかい', 'ちっと', 'へええ', 'はしら', 'ひとり合点', 'やっつけ', 'やれ', 'わるい', 'なんて', 'ふわふわ', 'あくまで', 'しばし', 'くすくす', 'とめ', 'くり', 'とともに', 'ぐいと', 'ますます', 'はく', 'とれ', 'まさに', 'ふり向い', 'わから', 'ちまっ', 'むっくと', 'えっ', 'とどめ', 'だて', 'みなせ', 'おいら', 'うごく', 'ねえ', 'のっしのっし', 'まくっ', 'こむ', 'みえ', 'それなり', 'ちぎっ', 'しだいに', 'せり', 'あきれる', 'ちがう', 'だい', 'ひじ', 'ょ', 'じつは', 'をの', 'わが国', 'めかす', 'からむ', 'いけぞんざい', 'ふっ', 'のぞく', 'よしんば', 'ふくむ', 'うかべ', 'もしも', 'あばく', 'ともなう', 'もつれ', 'ながなが', 'のぶ', 'ひっそり', 'そなえ', 'なにやら', 'しきり', 'なかには', 'かえす', 'さる', 'さだめし', 'えん', 'ねがっ', 'きっと', 'ご苦労さん', 'きょう', 'ぺこぺこ', 'さげ', 'こりゃ', 'がた', 'がりがり', 'あらわし', 'うえ', 'つかまっ', 'なげる', 'ぴんぴん', 'うっかり', 'ちょこなんと', 'あしらい', 'ぼっ', 'いっぱし', 'あがる', 'ください', 'あいつ', 'ええ', 'しげしげと', 'ながめ', 'おそろしく', 'なじま', 'いっこうに', 'じつに', 'ぴたりと', 'かか', 'うむ', 'よせ', 'えて', 'これぞ', 'みかえし', 'を通じて', 'おなじ', 'たき', 'なき', 'あいだ', 'にて', 'お待ち', 'まさか', 'つぎ', 'ふい', 'きわまる', 'ご免', 'なすっ', 'がり', 'ゅ', 'はか', 'だす', 'お願い', 'ざんし', 'ござん', 'ちかく', 'でる', 'のっ', 'おいおい', 'どこか', 'こみ', 'かるく', 'ぜひ', 'お力', 'にゃ', 'ただただ', 'くだけ', 'はてな', 'だって', 'お礼', 'うん', 'じりじり', 'お気', 'とんだ', 'やし', 'ましょ', 'なきゃ', 'なさら', 'のんびり', 'まか', 'のそ', 'うなり', 'まさ', 'からま', 'あっし', 'やす', 'ずいぶん', 'せっかく', 'いだき', 'それと', 'みよ', 'やきもき', 'あれこれ', 'さしあげる', 'あんた', 'もろい', 'いまや', 'ちまう', 'ぷ', 'うっ', 'なんぼ', 'ながい', 'みえる', 'のぞき', 'えな', 'か国', 'どん詰り', 'のぼり', 'こぼれ', 'さぐり', 'かい', 'あける', 'みはる', 'くだ', 'すっ', 'いろいろ', 'ご存知', 'ぶ', 'かげ', 'つくろ', 'つくりあげ', 'むかい', 'こわれ', 'ひから', 'なにしろ', 'もらい', 'とらえ', 'たとえば', 'うけ', 'われ', 'あきらめ', 'かすめ', 'さがし', 'つかまえ', 'おわり', 'とうとう', 'とん', 'ばっ', 'お蔭', 'むろん', 'しりぞけ', 'そうなると', 'なさ', 'つよめ', 'こっ', 'なおも', 'なけりゃ', 'のむ', 'とつぜん', 'おこる', 'いそ', 'そっ', 'まずまず', 'いお', 'きたっ', 'のみ', 'なにか', 'ちょいと', 'やって来る', 'うるさ', 'このごろ', 'いりゃ', 'さては', 'いよ', 'たかく', 'ひるがえる', 'だんだんに', 'すくみ', 'みるみる', 'おそっ', 'あちこち', 'むこ', 'しゃ', 'たんと', 'はずし', 'くさっ', 'みせ', 'かよう', 'さけん', 'あつめ', 'いやがる', 'どのみち', 'さぐっ', 'くるまっ', 'おそわ', 'くるくる', 'じいんと', 'すくめ', 'にぶっ', 'あっと', 'ありゃ', 'つめ', 'かまえ', 'つくっ', 'すこしも', 'つのる', 'もぐっ', 'いれる', 'ちゃんと', 'ほのめき', 'とおい', 'さがっ', 'かっ', 'ぶよぶよ', 'とび出', 'ちゃっ', 'どなる', 'だそ', 'のぞき込ん', 'みるみる間に', 'さげる', 'しっかり', 'せまい', 'くれれ', 'そびえ', 'ちかい', 'よかっ', 'くらっ', 'しろ', 'しいよ', 'がん', 'でしょ', 'つかみ', 'ぐんぐん', 'ぶらんと', 'みれ', 'ぶん', 'とりゃ', 'さま', 'くるま', 'ひそひそ話', 'できあがる', 'うかうか', 'とうに', 'それだけ', 'こみあげ', 'うしない', 'せら', 'ふる', 'しめ', 'べし', 'わたくし', 'おその', 'べから', 'づく', 'しよう', 'づい', 'ささ', 'なす', 'られよ', 'ふれ', 'ふお', 'なさる', 'うかい', 'けが', 'どうぞ', 'せしめ', 'たさ', 'たらしい', 'せめて', 'さり', 'へよ', 'けた', 'わざ', 'にせ', 'おぼしく', 'みそはぎ', 'れき', 'しむ', 'たで', 'みや', 'され', 'むら', 'へき', 'しろうと', 'あからさま', 'はう', 'なくなる', 'はむ', 'ひたい', 'へし', 'とり', 'ほさ', 'すね', 'たよ', 'くやみ', 'さだ', 'ださ', 'たどら', 'ませる', 'おも', 'そも', 'かる', 'めづらし', 'うべ', 'どし', 'したしき', 'いなみ', 'わか', 'さてつ', 'ざま', 'はまれ', 'いづれ', 'くらし', 'いせ', 'はれる', 'よに', 'お茶の水', 'さみだれ', 'うれ', 'おと', 'べく', 'ほほ', 'うごき', 'ゆか', 'うき', 'すこやか', 'せわ', 'まひ', 'はさ', 'ひろから', 'あさし', 'ごとし', 'しかれ', 'ぬぎ', 'おもむろに', 'とぎ', 'りさ', 'ずべ', 'けん', 'みな', 'ひらけ', 'あづま', 'ゆれ', 'のこさ', 'おけ', 'かたる', 'むべ', 'のび', 'かづ', 'つり', 'にんじん', 'はん', 'よみ', 'ふき', 'うつ', 'わすれ草', 'いひ', 'ほし', 'たん', 'はなはだ', 'てぬるし', 'あふひ', 'ふるし', 'ふむ', 'あに', 'づか', 'がたし', 'はやま', 'つつじ', 'いづる', 'のぼる', 'ふら', 'はいせ', 'うつる', 'さながら', 'きけ', 'ひきあて', 'ながれ', 'ならべ', 'ひろく', 'ゆる', 'らん', 'みかげ石', 'よめ', 'あつき', 'やく', 'すり', 'とけ', 'ちかき', 'しなり', 'しる', 'いまだ', 'しから', 'しに', 'あきらか', 'めぐり', 'かたり', 'ひらく', 'すぐる', 'いん', 'いたり', 'たか', 'もとむ', 'あした', 'かや', 'ふとい', 'こし', 'やまと', 'にぎ', 'るれ', 'はた', 'かたち', 'ぬた', 'みづか', 'むかし', 'なほ', 'てか', 'もみ', 'がき', 'しるき', 'ほや', 'あき', 'へら', 'ふこ', 'よしや', 'はあ', 'たと', 'いざ', 'けむ', 'めぐれ', 'えびす', 'さけ', 'あた', 'はなはだし', 'とまる', 'むい', 'くら', 'たらちね', 'つげ', 'こえ', 'まる', 'ひたる', 'くだる', 'しきたり', 'せん', 'すべる', 'みち', 'やま', 'すゝ', 'みだす', 'はるか', 'まつる', 'しかる', 'ひし', 'ひたり', 'あな', 'おぼえず', 'につき', 'はみ', 'すみ', 'くき', 'はる', 'やむ', 'つる', 'ともい', 'まこと', 'しかり', 'よみて', 'たれ', 'しこ', 'もえ', 'かま', 'のけ', 'おろす', 'へれ', 'あさき', 'はて', 'まかり', 'とせ', 'たばかり', 'かご', 'いかで', 'まき', 'くべ', 'よりこ', 'いよの', 'ことなら', 'おとす', 'たこ', 'ふも', 'こり', 'まじり', 'たか江', 'はいふ', 'さら', 'しめよ', 'ひけ', 'もさ', 'やぶ', 'すべ', 'わたまし', 'ふよ', 'がせ', 'いかが', 'やみ', 'さほど', 'いたさ', 'いたし', 'がかり', 'あぶら', 'いたみ', 'うなる', 'すこし', 'かみ', 'うり', 'むか', 'もそ', 'おか', 'あかり', 'まちまち', 'すさび', 'べけれ', 'しるす', 'お玉', 'れい', 'とこ', 'とわ', 'そつ', 'まざる', 'さしおき', 'きら', 'ちと', 'すくなく', 'こまり', 'せしめよ', 'もろこし', 'けど', 'なびく', 'なぎ', 'めで', 'かたは', 'いそがしき', 'たのま', 'やすき', 'よき', 'うりいそぎ', 'えび', 'すじ', 'のこり', 'さめ', 'ざれ', 'だり', 'しめる', 'したら', 'せしめる', 'おこた', 'のべ', 'かき', 'おき', 'いも', 'まびき', 'ひも', 'さつまいも', 'ぼうふら', 'いそがしく', 'めづら', 'もてなし', 'もた', 'やぶれ', 'あたたか', 'まかせ', 'みそ', 'はと', 'ふつ', 'におきまして', 'ありがたく', 'つとに', 'がたく', 'りゑ', 'おくら', 'しめす', 'てあつ', 'いへ', 'うかぶ', 'ながす', 'づき', 'みなし', 'わたる', 'いのち', 'けり', 'さや', 'もる', 'わかれ', 'さかり', 'おそき', 'つぐ', 'でか', 'ひざ', 'たのみ', 'かしこ', 'あしく', 'あはれ', 'つくし', 'いは', 'まさる', 'はせ', 'りく', 'つど', 'たえ', 'により', 'やき', 'ことし', 'あらし', 'むし', 'うつさ', 'まじく', 'したて', 'もらし', 'とま', 'せつ', 'りう', 'わすれがたく', 'ぞんじ', 'づら', 'いのり', 'いろ', 'つま', 'いむ', 'くらべ', 'まのあたり', 'つぶやい', 'たた', 'かくべつ', 'とくに', 'りん', 'いに', 'きつね', 'うそ', 'しげく', 'おもり', 'つた江', 'づこ', 'はも', 'とじ', 'ぐれ', 'ものの', 'うつくしき', 'うつくしから', 'さだめて', 'のる', 'ひさし', 'に関し', 'ぶれ', 'つたな', 'てかけ', 'たし', 'るる', 'ならびに', 'いづ', 'がく', 'あつく', 'きのふ', 'つぶやき', 'つよく', 'むき', 'あつし', 'きたり', 'きめ', 'はやり', 'ひるま', 'ねつ', 'はかなき', 'ひける', 'はやる', 'ねつき', 'はやら', 'あたら', 'ほめ', 'すすめ', 'わる', 'いたら', 'ふしぎ', 'くらき', 'かまびすしき', 'おこせ', 'むすべ', 'ぬる', 'ことば', 'いと', 'よろし', 'あやまり', 'ござる', 'かしら', 'ひま', 'でん', 'しかるに', 'も写', 'ゆり', 'さよの', 'きじ', 'まう', 'ざら', 'はかり', 'うも', 'そのうち', 'よほど', 'たへ', 'のぞみ', 'あがり', 'ふみ', 'つが', 'おもしろき', 'ともかく', 'ざく', 'すき', 'はりつめ', 'きたな', 'ふた', 'ひだる', 'やせ', 'すげない', 'さうな', 'はら', 'さしあたり', 'ふくや', 'いそぎ', 'あづかり', 'はれよ', 'いさ', 'すみや', 'なむ', 'うすき', 'みか', 'むさ', 'ひかり', 'つづき', 'まがり', 'なつかしく', 'よす', 'かたい', 'ごみ', 'たのむ', 'たたみ', 'あちら', 'あやしむ', 'なかれ', 'とどけ', 'とまれ', 'いたす', 'きこえ', 'つらき', 'ともす', 'ちよの', 'がれ', 'つながら', 'ねる', 'おぼろ', 'うと', 'ずし', 'つくら', 'あてる', 'くも', 'たど', 'はおと', 'ながき', 'ぜん', 'ぬらし', 'とかく', 'さむく', 'めさ', 'みじかく', 'とが人', 'たくし', 'めされ', 'たばこ', 'さばき', 'とのこ', 'さむし', 'さびしき', 'さしひか', 'いやまさる', 'へす', 'おもしろく', 'あしから', 'はかれ', 'れん', 'どころ', 'うせ', 'れんが', 'なされ', 'とまり', 'そく', 'かわら', 'なぐさみ', 'おぼえ', 'めでたく', 'したしく', 'どく', 'みやげ', 'かたじけなく', 'まかり出', 'くじ', 'ひか', 'ひで', 'お側', 'そこら', 'いため', 'お見舞', 'お金', 'もせ', 'つゆ草', 'かめ', 'めし', 'ごぜ', 'はかばかしく', 'おしこみ', 'ともし', 'とつ', 'りや', 'げん', 'すけ', 'ひり', 'いち', 'めん', 'はらし', 'はたい', 'なべ', 'くすり', 'よじ', 'うま', 'せき', 'みなみ', 'ふし', 'さすり', 'どき', 'ふとき', 'なくなり', 'とんと', 'ほそ', 'たのしみ', 'かつゑ', 'むす', 'そだて', 'かよ', 'しをり', 'さびしく', 'ばん', 'よろしく', 'ちからづよく', 'ちか', 'おとし', 'よろしき', 'かたや', 'うさ', 'あや', 'やうやう', 'とりとめ', 'おして', 'にかけ', 'かたじけなき', 'ぐみ', 'さかん', 'はんじ', 'かなしみ', 'ゆう', 'つとめ', 'ぶつ', 'しな', 'ふさがり', 'やるせなく', 'ずれ', 'ただす', 'たかの', 'けら', 'あつかは', 'たより', 'を通じ', 'すまい', 'に関して', 'おのれ', 'むつ', 'あふ', 'しのぶ', 'かたみに', 'へだて', 'お嬢様', 'はいさ', 'ねむ', 'たま', 'くすし', 'たけ', 'ほせ', 'めでたき', 'いにしへ', 'しのび', 'さかえ', 'よろこぼ', 'ひせ', 'あるじ', 'へま', 'かぜ', 'ぞくす', 'ちん', 'はいり', 'しまひ', 'あせび', 'うつ木', 'はたさ', 'お天気', 'みまかり', 'どけ', 'くらむ', 'まさり', 'たたか', 'ぽんと', 'おれ', 'お出で', 'きれる', 'ゐれ', 'ねた', 'はせる', 'ばかし', 'おはこ', 'づけ', 'ですが', 'ふま', 'それなら', 'あらしめ', 'る説', 'しうか', 'つらい', 'しげと', 'てり', 'たかつ', 'おだ', 'わん', 'だんまり', 'おこたり', 'されど', 'ふさ', 'さうざうし', 'みと', 'めと', 'やを', 'まざ', 'ぬれ', 'ふとり', 'おそろしき', 'なめ', 'とそ', 'のか', 'いたう', 'そが', 'つぶれ', 'もて', 'あまた', 'おそろしけれ', 'すさまじけれ', 'かさね', 'めく', 'こぞり', 'さまし', 'こしつ', 'はかる', 'おち', 'いみ', 'じき', 'むや', 'さわ', 'ねり', 'しづ', 'いつしか', 'きぬ', 'とみに', 'てよ', 'いたき', 'おそろし', 'かかれ', 'おぼす', 'ささやか', 'なせ', 'さりとて', 'わびし', 'はする', 'さわがしき', 'ふめる', 'あやしき', 'あかし', 'ねむたし', 'さうぞき', 'こよ', 'えま', 'かれい', 'かりに', 'もやせ', 'さわぎ', 'かなた', 'いたく', 'いたつき', 'うらやまし', 'あかめ', 'あづさ', 'きささげ', 'そみ', 'ねばり', 'とやかく', 'うけひき', 'ひな', 'よしあし', 'なづけ', 'ふせ', 'はかばかしから', 'あたご', 'まないた', 'こま', 'のこれ', 'お供', 'お世話', 'はま', 'くどい', 'どうにか', 'まわら', 'しめし', 'どかし', 'お客', 'お宅', 'ちよい', 'より江', 'くわ', 'ひさ', 'ちかの', 'ほる', 'はたち', 'かたづけ', 'いろは', 'たかよ', 'さくら', 'かばね', 'みとり', 'きたる', 'おしろい', 'しけれ', 'はなさ', 'あるは', 'おば', 'あまえ', 'ねだる', 'よこし', 'とくと', 'お菓子', 'みつい', 'かぶさ', 'したてる', 'えさ', 'ささやい', 'おしおき', 'ねえさん', 'やかましい', 'わかつ', 'ふん', 'あく', 'これこれ', 'しぶとい', 'がま', 'まする', 'しくしく', 'はればれ', 'たゆ', 'お上', 'いちの', 'いそい', 'ふらり', 'とぶ', 'こんもり', 'ちやの', 'しづか', 'さみし', 'なんど', 'つつき', 'ひよ', 'くど', 'たくさん', 'ぶらさげ', 'お爺さん', 'ふらりと', 'くま', 'そり', 'びつくり', 'こんばんは', 'けつ', 'この辺', 'こすり', 'かやの', 'みとめ', 'しめやか', 'あたらしき', 'ともすると', 'いらいら', 'ひたすら', 'がさ', 'あいにく', 'お預け', 'お嬢さん', 'おばけ', 'よろこぶ', 'うらやみ', 'あべこべ', 'いそぐ', 'はっと', 'あまる', 'ぺらぺら', 'ぶと', 'めりめり', 'かぶりつく', 'しゃぶれ', 'わっ', 'こい', 'を通して', 'じろじろ', 'なくっ', 'よもや', 'るい', 'たなびい', 'きの', 'たかっ', 'ひねくっ', 'またぐ', 'わざわざ', 'はぐっ', 'みの', 'なあに', 'それにしても', 'こびりつい', 'たぎり', 'なにゆえ', 'ゆえ', 'がたい', 'られれ', 'いくら', 'ありあり', 'だいぶ', 'よくせき', 'さして', 'けち', 'はおら', 'しかして', 'かほど', 'なだれ', 'かこ', 'たまらない', 'かねる', 'けず', 'すか', 'こっち', 'はずす', 'ちらつく', 'ふるっ', 'それよ', 'ぱっと', 'だんだん', 'むさくるしき', 'みすぼらしい', 'むさく', 'まり', 'のそのそ', 'たまに', 'はからずも', 'おそらくは', 'たくっ', 'さぞ', 'もしや', 'ぶら下がっ', 'ぶら下がる', 'あるき', 'ぶらさがっ', 'もつれ合っ', 'うねりくねっ', 'かって', 'めぐっ', 'よかろ', 'のさばっ', 'せがれ', 'あらわさ', 'ぽつり', 'とりつい', 'えいえい', 'すくい', 'あすこ', 'たけれ', 'いた事', 'あたっ', 'かろ', 'っぽく', 'せんだって', 'からも', 'りか', 'いかんせん', 'きよ', 'ちさ', 'うれしい', 'ねっとり', 'ありがたい', 'きつけ', 'のたくっ', 'えら', 'ばけ', 'ところどころ', 'らい', 'はらはら', 'しとやか', 'または', 'ひとたび', 'たどっ', 'やたら', 'ぶらりと', 'つかん', 'むらむら', 'かえって', 'つかつか', 'ぬける', 'ぷんと', 'しみ込ん', 'ひらひら', 'さがる', 'いちじるしく', 'わるけれ', 'たわい', 'くつろぎ', 'おかし', 'つまるところ', 'あせる', 'どっち', 'くっつい', 'よだつ', 'はなやか', 'いた', 'いっそ', 'なおさら', 'ただ今', 'あしらっ', 'ついつい', 'おっ', 'あるく', 'ほんに', 'くさせ', 'まあまあ', 'やめる', 'もらわ', 'あきれ返っ', 'いいえ', 'がくし', 'ぴかぴか', 'からから', 'らっしゃい', 'くだら', 'わずか', 'ここだ', 'とりあえず', 'なぐり', 'ありのまま', 'だの', 'ようよう', 'そのほか', 'どきりと', 'ぴしゃりと', 'まぎらす', 'ぞっと', 'やむをえ', 'あっち', 'るり', 'ふとした', 'あらわ', 'どしどし', 'っ子', 'あか', 'あくる日', 'ひねっ', 'なぞ', 'しごく', 'それどころ', 'もらう', 'なみ', 'つき合い', 'うまい', 'きめる', 'どっ', 'ひやひや', 'わせ', 'わがまま', 'おやじ', 'ようだて', 'かんよう', 'ある程度', 'おっしゃっ', 'じゃが', 'しも', 'がっかり', 'いささか', 'すらすら', 'いたずらに', 'ねつけ', 'とどのつまり', 'よくなる', 'いっしょ', 'たべる', 'ちっとも', 'しがない', 'なるべく', 'お答え', 'ああなる', 'お尋ね', 'わさん', 'あそこ', 'めかし', 'ぽい', 'やりきれない', 'たまり', 'すむ', 'あるか', 'えらい', 'ひょこひょこ', 'つづめ', 'ほかなら', 'いかがわしい', 'しょう', 'かかと', 'めき', 'さっそく', 'かぐら', 'ですけれど', 'やすい', 'しょ', 'だんだんと', 'お辞儀', 'うたい', 'がち', 'ごく', 'ざっと', 'あらかじめ', 'わざとらしく', 'あさましい', 'ふるまい', 'しかつめらしい', 'そらす', 'しかるべき', 'できよ', 'まつわっ', 'してやろ', 'はては', 'あえて', 'にくく', 'やむをえない', 'なので', 'つづい', 'まさしく', 'いやしくも', 'やって来', 'また上', 'しまわ', 'もがい', 'つつみ', 'かこち', 'まつれる', 'うれしき', 'ならば', 'ぴりぴり', 'あの世', 'きらり', 'えがたき', 'はたと', 'きらめい', 'やとい', 'すべり', 'えがたく', 'われと', 'ひらめき', 'つつむ', 'ゆうべ', 'さす', 'めぐる', 'りき', 'でかく', 'めらめら', 'あま', 'ふす', 'はずせる', 'ばる', 'ゆらりと', 'ほのめい', 'するりと', 'げき', 'からりと', 'しつけ', 'けたたまし', 'むごき', 'よそながら', 'ちょう', 'そそのかさ', 'うねり', 'はびこる', 'くぐら', 'にまつわる', 'うぶ', 'まとも', 'やん', 'うつせみ', 'うつつ', 'うつす', 'うつろ', 'むかっ', 'ぴ', 'ぴちぴち', 'ふつふつ', 'ほつれ', 'まつわる', 'たる木', 'すかし', 'まつわり', 'うずめ', 'あす', 'つれなし', 'めど', 'おののき', 'うれし', 'むれ', 'どる', 'いつの間に', 'すかせ', 'つるし', 'ふわりと', 'すりぬけ', 'なよやか', 'めしと', 'ちょ', 'やおら', 'つくる', 'またたく', 'みなせる', 'かくす', 'あざやか', 'たすけ', 'ぬき', 'かよわき', 'すま', 'まく', 'ありがたし', 'しげき', 'ほのぼの', 'もてなす', 'よそよそしく', 'わや', 'はずん', 'に従う', 'てら', 'はから', 'ふるえる', 'うなずく', 'かたく', 'づける', 'どやどや', 'でよ', 'ひびけ', 'なのる', 'まじき', 'やむなく', 'あやしく', 'ふっと', 'のめる', 'あぶない', 'あぶなき', 'ちらちら', 'ひる', 'いかばかり', 'しかろ', 'ずい', 'あらわれる', 'ちぎる', 'つらつら', 'しかく', 'ゆるく', 'うねる', 'ずく', 'のし', 'どまり', 'そいつ', 'だぶだぶ', 'りこ', 'らし', 'いただける', 'それどころか', 'おうと', 'いらっしゃい', 'さっぱり', 'おおかた', 'おいたっ', 'あんまり', 'たせ', 'きめよ', 'ぎしぎし', 'ばらばら', 'ぴくり', 'かす', 'そうね', 'はたして', 'そっち', 'くれよ', 'いらっしゃる', 'うんこ', 'それでいて', 'いくらか', 'ついでに', 'そうかい', 'たんび', 'しっ', 'そっちのけ', 'ろか', 'やりくり', 'きまれ', 'ひょっくり', 'がけ', 'ちの', 'たまさか', 'おっしゃい', 'おろし', 'いらっしゃら', 'やり過ごす', 'よっぽど', 'えも', 'この頃', 'ありがとう', 'たびたび', 'おっしゃら', 'ちゃい', 'つけろ', 'ぴくんぴくん', 'おっしゃる', 'きせ', 'ぽつりぽつり', 'すう', 'はぐらかさ', 'あたる', 'だけれども', 'とりかかる', 'やむをえなけれ', 'だらし', 'ざらつく', 'ありがた味', 'ぎごち', 'つくづく', 'かそ', 'せっせと', 'よけれ', 'さまで', 'やまし', 'なのに', 'やか', 'たった今', 'そっぽ', 'がらりと', 'きつけよ', 'ともない', 'かたづい', 'きちんと', 'ゃ', 'っきゃ', 'もしか', 'きしん', 'いらっ', 'しゃが', 'けむり', 'かたがた', 'あげく', 'いっさい', 'ぶらぶら', 'くっきり', 'まばら', 'ほぼ', 'かたちづくっ', 'ふとっ', 'っぽう', 'ぶつける', 'とっくり', 'しょっ', 'ぐっと', 'おかしかっ', 'つなげる', 'つまっ', 'お貰い', 'じゃらじゃら', 'そらし', 'ううん', 'こないだ', 'たがら', 'ぶつかり', 'ほどき物', 'もじもじ', 'ぽんぽん', 'かくし', 'ぶっ', 'はおっ', 'かけ離れ', 'してやる', 'いじくり', 'つけ足し', 'っていう', 'きょろきょろ', 'ついと', 'にく', 'どろどろ', 'やから', 'にやりと', 'なおのこと', 'やり切れない', 'つき合っ', 'にやにや', 'じゃあ', 'ねとねと', 'ここいら', 'ないしょ', 'わが子', 'い草', 'かれこれ', 'なれれ', 'やかましく', 'きょとん', 'しだ', 'したっ', 'さっさと', 'ついてる', 'いいつけ', 'よそわ', 'にちゃにちゃ', 'はずま', 'しんみり', 'てんでんばらばら', 'ねじ込ん', 'きちん', 'しとしと', 'ひんやり', 'いかつい', 'なじ', 'さっ', 'いやに', 'ちまえ', 'ごまかそ', 'まるっきり', 'おでん', 'すれすれ', 'とまっ', 'ぐいぐい', 'いやし', 'ひろげ', 'じろり', 'じろりと', 'ちんちくりん', 'なみなみと', 'わかせ', 'てんから', 'こぼれる', 'ぽたぽた', 'つまらなかっ', 'いたたまれなく', 'もったいない', 'やすかっ', 'つたっ', 'いやそ', 'ちょろちょろ', 'やくざ', 'でなければ', 'やり直し', 'とんとん', 'がらり', 'どなた', 'あらッ', 'つやつや', 'ぺたりと', 'すみません', 'たまらなく', 'っ放し', 'まんま', 'あくる', 'ぱちつかせ', 'せれ', 'でこでこ', 'ぶらり', 'ぶら下げ', 'お部屋', 'どことなく', 'そわそわ', 'これしき', 'なりゃ', 'やかましくっ', 'とめる', 'ごわごわ', 'じかに', 'まじまじ', 'めいてい', 'さそう', 'こそばゆい', 'ざらざら', 'いただか', 'ただいま', 'ねむっ', 'よろしくっ', 'つぶろ', 'りゃ', 'いくらでも', 'よそ目', 'かけよ', 'いつのまにか', 'むしゃむしゃ', 'おっしゃれ', 'ふっくら', 'ひょっこり', 'たがる', 'お母さま', 'もったいらしく', 'ふくらませ', 'ものものしく', 'そうしたら', 'とうから', 'ざわつき', 'かお', 'へしゃげ', 'つけつけ', 'きっかけ', 'おつき', 'うろうろ', 'ぞろりと', 'だったい', 'ぐずぐず', 'さそ', 'つけ足す', 'かっぷく', 'と同時に', 'はしたなく', 'ひやりと', 'おとなし', 'さよう', 'から口', 'ずうずうしい', 'ひとしきり', 'しゃべる', 'もったいぶっ', 'はしゃぎ', 'っけ', 'きた', 'かられる', 'はおり', 'ふるまっ', 'いただく', 'けっ', 'しんと', 'ぶつけ', 'ほじくっ', 'しみ', 'もより', 'かねてから', 'ほっと', 'びり', 'お変り', 'こぶか', 'ぼり', 'わざとらしい', 'ゆきの', 'おくれよ', 'お稽古', 'いじり', 'であっ', 'つきよ', 'むくむく', 'しゃ断', 'しゃべら', 'やり場', 'もたらし', 'に対し', 'しゃくっ', 'まろ', 'ひょっと', 'いたって', 'くだろ', 'あずかっ', 'しゃあしゃあ', 'おとなしい', 'ろうあ', 'むける', 'っきり', 'お隣', 'ずばり', 'だけよ', 'おいそれと', 'きまる', 'きつける', 'がぶがぶ', 'とっさ', 'ぼけ', 'はけ', 'っし', 'ぱたりと', 'くん', 'ねこ', 'お先', 'お湯', 'しだい', 'いたい', 'よくっ', 'ころころ', 'お話し', 'お目にかかっ', 'りよ', 'ぱくりと', 'ごまかす', 'しどろもどろ', 'ふうん', 'つるつる', 'たがっ', 'ひょいひょい', 'こもごも', 'たす', 'やり込める', 'とめどなく', 'のべつ', 'いっこ', 'にこにこ', 'ぽつぽつ', 'ぐっすり', 'さよなら', 'うじ', 'ぞんざい', 'ざわざわ', 'こび', 'さらさら', 'うろ覚え', 'てには', 'なぜだか', 'ってか', 'お早う', 'お世辞', 'しがなかっ', 'さんざ', 'ごろごろ', 'ちらりと', 'しょうが', 'たがり', 'そろ', 'そろりと', 'つんと', 'しさっ', 'まごつき', 'たまっ', 'そうですね', 'しゃべっ', 'しにゃ', 'おびえ', 'からい', 'べつに', 'なまじい', 'もがく', 'どっさり', 'のっそり', 'おつけ', 'おのずから', 'よわ', 'ちゃり', 'するする', 'おっしゃりゃ', 'いただけ', 'お正月', 'げらげら', 'ずぼら', 'お互いに', 'ひそめ', 'がかい', 'みせる', 'むけ', 'むずかしかっ', 'かしく', 'ほのめかす', 'ほじくり', 'つけ加え', 'この間', 'しらじらしい', 'ありつい', 'とめよ', 'お断り', 'つらく', 'うねうね', 'ねちねち', 'きりりと', 'むかっ腹', 'ひらりと', 'なんぞ', 'ただお', 'ごまかさ', 'むずかしく', 'なわ', 'はくしゃ', 'できれ', 'うっちゃっ', 'おおきに', 'あれだけ', 'かかり合え', 'かかり合う', 'じみ', 'いその', 'よそよそしい', 'さめる', 'ひとしく', 'えれ', 'ますよ', 'からかい', 'てっ', 'おっしゃり', 'しっくり', 'くい', 'いただい', 'かっか', 'とんでも', 'かかりゃ', 'せせら笑う', 'ですから', 'おかけ', 'にわかに', 'じい', 'いだけよ', 'むずかし', 'だいぶん', 'ごしごし', 'ぽたり', 'たって', 'ふらふら', 'かせる', 'めちゃくちゃ', 'ちょっとした', 'やり返し', 'やりとり', 'つけあがら', 'しつこく', 'じれったく', 'やかさ', 'りえ', 'めかさ', 'やむをえなかっ', 'すまし', 'じれったい', 'あげつらわ', 'ちやほや', 'すべっ', 'そやす', 'っぽい', 'おろさ', 'やましい', 'いたずら', 'さもなければ', 'ぶち', 'もどかしく', 'そめ', 'たまらなかっ', 'いな', 'つら', 'つけ込ん', 'なにかと', 'あせっ', 'じゃらさ', 'ぷんぷん', 'こえる', 'わく', 'まごまご', 'でないと', 'へどもど', 'あしらう', 'のっぴき', 'ずばずば', 'からそ', 'ごま', 'こなし', 'きっぱり', 'やりこめ', 'まだしも', 'すまさ', 'きっ', 'ごくごく', 'ちまわ', 'てらっ', 'なまじ', 'えッ', 'すまそ', 'ずうずうし', 'ちゃんぽん', 'りゅう', 'お知らせ', 'いくつか', 'よも', 'ひとりでに', 'いとめ', 'とぼとぼ', 'はつね', 'おおよそ', 'お婆さん', 'しった', 'つや', 'でたらめ', 'しない', 'かわ', 'たやすい', 'ぞい', 'これほど', 'しゃくら', 'からし', 'むちゃくちゃ', 'もどし', 'うく', 'ましてや', 'いたっ', 'くだくだしい', 'はで', 'はよう', 'くぎり', 'べつ', 'いわっ', 'せっぱつまっ', 'ほどなく', 'たたま', 'ああなっ', 'ねつける', 'ひとまず', 'ありがたがっ', 'とば口', 'でっ', 'かけ合っ', 'はご', 'ひねくり', 'もり', 'よりゃ', 'わな', 'つき合う', 'ぎりぎり', 'お互い', 'ぱくぱく', 'いいかね', 'ぐらつい', 'ずうずうしく', 'いわんや', 'いて', 'すりゃ', 'ゆかり', 'そうだ', 'むっと', 'やおや', 'とくさ', 'ぶちのめし', 'ぱちぱち', 'ひそめる', 'ぐにゃぐにゃ', 'たまる', 'やけに', 'てろ', 'お構いなく', 'とどめる', 'ぴったり', 'こせこせ', 'ちくちく', 'どうし', 'はさまる', 'しの', 'わくわく', 'かかろ', 'ほやほや', 'よそよそし', 'いにゃ', 'ずんずん', 'ずらし', 'あんな', 'ねえや', 'かえ', 'がたがた', 'どら', 'あっけらかんと', 'ぼかす', 'もい', 'がらがら', 'どきんと', 'いてる', 'お済み', 'あざ', 'おう', 'あう', 'ずるずる', 'くるりと', 'けたたましく', 'れつ', 'お疲れさま', 'とどまら', 'であるか', 'よそ見', 'お目にかかる', 'じまっ', 'お加減', 'くさら', 'かんかん', 'つけたり', 'じゃぶじゃぶ', 'ならっ', 'とまら', 'うつくしい', 'らっしゃる', 'あど', 'お出かけ', 'にわたる', 'ぽかんと', 'しでかし', 'お目にかかり', 'お手伝い', 'こく', 'しかつめらしく', 'せせこましい', 'でぶ', 'お上手', 'ぎさ', 'ほしい', 'はかない', 'いらっしゃろ', 'じまう', 'ぎらぎら', 'うっとり', 'いただこ', 'つくん', 'ほどよく', 'にこり', 'すくう', 'のっと', 'つくせ', 'むそ', 'ぷいと', 'ぐさり', 'こめかみ', 'ほろほろ', 'めちゃめちゃ', 'えがたい', 'この先', 'うねっ', 'ふう', 'おろ', 'ぴいぴい', 'ぽっと', 'もま', 'たため', 'いっさ', 'こけ', 'うんと', 'めった', 'わいわい', 'すかさず', 'じゅっ', 'はたく', 'まえる', 'かたまっ', 'がぶ', 'ぺ', 'ちゃきちゃき', 'たかだか', 'だらだら', 'くす', 'ぴちゃぴちゃ', 'あやそ', 'ゆるす', 'ひい', 'はぐ', 'ころり', 'にあたり', 'ちい', 'さぐ', 'すすめる', 'もどかし', 'あらため', 'もちあげ', 'ぐるみ', 'いらだたし', 'かつい', 'さがしあて', 'はぶ', 'てん', 'ぶつぶつ', 'おぼえる', 'うるさい', 'ぼつ', 'まげ', 'かたばみ', 'きだ', 'ちら', 'がらみ', 'さんだつ', 'そこそこ', 'そびれ', 'すたり', 'ひと時', 'おしなべて', 'しさ', 'くち', 'さまよう', 'たかね', 'たしなめる', 'ふけ', 'へや', 'からさ', 'とかいふ', 'あ然', 'お先に', 'こき', 'なけ', 'こみ上げ', 'すくん', 'やつれ', 'そしたら', 'てるよ', 'さらでだに', 'よぼ', 'すし', 'そで', 'それとなく', 'こら', 'やらし', 'お家', 'まア', 'うな', 'あゝ', 'ござれ', 'は種', 'のす', 'あせ', 'お返し', 'さらう', 'つ折り', 'ぽう', 'ひよく', 'あいさつ', 'みだりに', 'かなえ', 'あやまっ', 'ぽき', 'わなわな', 'さめざめ', 'あがっ', 'かすれ', 'またまた', 'あてがわ', 'もらお', 'がてん', 'くだす', 'かかわり', 'たよっ', 'いし', 'くださる', 'わるかっ', 'お許し', 'ばかばかしい', 'すがりつい', 'たくましい', 'ひっ', 'がわり', 'あつかう', 'びしょ濡れ', 'くだされ', 'あげよ', 'つむる', 'まいり', 'そこね', 'あわただし', 'ぽっかり', 'おおわ', 'くたびれ', 'にっと', 'つかも', 'のい', 'ほてっ', 'えり', 'ひきちぎっ', 'さしあげ', 'のけよ', 'おさえ', 'べろべろ', 'ひっくりかえっ', 'びしびし', 'そる', 'さわやか', 'にあたって', 'したっぱ', 'はかっ', 'ほのめかし', 'けしからん', 'ひっ掻い', 'つくばっ', 'ひろっ', 'つめら', 'とりこめ', 'あなどっ', 'あつまっ', 'かけつけ', 'とげ', 'おこたら', 'おんなじ', 'そのうえ', 'ねぎ', 'おくろ', 'しなえ', 'からめ', 'うれしかっ', 'ものたりなかっ', 'ふうわり', 'お寺', 'ほてる', 'だせ', 'ぽつねんと', 'もろ', 'はやい', 'じゅん', 'まぎれ', 'ずんぐり', 'みい', 'まきつい', 'かかえ', 'あッ', 'すさっ', 'よろよろ', 'しかけ', 'つない', 'がっしり', 'うか', 'おそく', 'めんどう', 'やすん', 'かんがえる', 'ぬらぬら', 'まちがい', 'はやけりゃ', 'もんどり', 'かえし', 'なまなまし', 'おもっ', 'しびれ', 'うなされ', 'しぼり', 'あきなっ', 'つまも', 'なかに', 'させよ', 'はじめよ', 'しゃくう', 'べとべと', 'ざった', 'こたえ', 'こわばら', 'あきれ', 'ふりかけ', 'おつもり', 'おちつき', 'かまわ', 'そうそう', 'きこん', 'お方', 'さいわい', 'ござら', 'お伴', 'いやしく', 'ござっ', 'わい', 'ござろ', 'すがっ', 'よろしゅう', 'まいろ', 'ころがっ', 'たばかっ', 'おびき寄せ', 'やにわに', 'がちがち', 'またたく間', 'ぐったり', 'まわっ', 'まごう', 'いつわり', 'つかえ', 'うけたまわり', 'ひれ伏し', 'へそ', 'からかう', 'くだせ', 'ひねり', 'くろ', 'きらめけ', 'きつ', 'なさけ', 'みつよ', 'わかき', 'あさく', 'ゆめ', 'さきだつ', 'さしたる', 'やさしく', 'ためいき', 'たのしき', 'みぞ', 'ぬすむ', 'つゆ', 'ぬすめる', 'ふめ', 'うたびと', 'かきならす', 'ふりしきり', 'かわく', 'たもと', 'うちよせ', 'あゆむ', 'なつかし', 'なやめ', 'こも', 'もれ', 'あやめ', 'さびしさ', 'みだれ', 'さわぐ', 'おとな', 'あさ', 'さびしい', 'かしこし', 'うらさびし', 'ふぐ', 'ゆめみ', 'ひより', 'しのが', 'きみ', 'つみ', 'そこひ', 'なつかしき', 'てらせる', 'さやけき', 'うきよ', 'あかさ', 'あふれ', 'くるしき', 'さける', 'わび', 'しそ', 'のがれ', 'やどり', 'なぐさめ', 'かきおこし', 'おえ', 'うまれ', 'まねく', 'さばかり', 'ときめき', 'かげり', 'きらめき', 'かたぶける', 'はさみ', 'がめ', 'あゆみ', 'ほとり', 'みそら', 'なげうち', 'あぢきなき', 'わが身', 'ふらし', 'たゆく', 'むすぼ', 'ほれ', 'きわ', 'やすむ', 'ふわ', 'なから', 'くるしむ', 'ぬぐ', 'くめ', 'こがれ', 'なつか', 'かくい', 'どか', 'ひいで', 'さぐる', 'ざせ', 'きのこ', 'ながく', 'ごころ', 'かきあげよ', 'きえ', 'ながし', 'ふかき', 'こもる', 'お七', 'かなしから', 'やさしから', 'かなしむ', 'ともよ', 'あけぼの', 'くらく', 'さみしき', 'なげき', 'むすぼれ', 'まくら', 'かなしい', 'みちのく', 'かたら', 'わびしき', 'けしき', 'たのもしく', 'むせぶ', 'かなし', 'ふて', 'ばく', 'やさし', 'うら若く', 'ふみわけ', 'きたれ', 'ふるさと', 'さみしい', 'へば', 'うらわかき', 'ぬら', 'ひとしれず', 'ひとつ', 'めくれ', 'ほふ', 'たなびけ', 'やさしき', 'ひす', 'こぞ', 'かくせ', 'さみしく', 'みにく', 'かなしき', 'ねかし', 'みどり', 'おくる', 'さませ', 'つもれ', 'えよ', 'ねむれる', 'たれこめ', 'さかしき', 'かすみ', 'ふゆの', 'ふるき', 'うめの', 'なぐ', 'びん', 'あゆめ', 'わらび', 'あゆ', 'はるの', 'いき', 'とざさ', 'えい', 'いづみ', 'かわき', 'なが', 'うら若き', 'わきて', 'ほじ', 'うみ', 'ふかし', 'よろ', 'よび', 'やすし', 'もてる', 'まなこ', 'なげく', 'とうた', 'なやむ', 'いたむ', 'さぼら', 'ゆける', 'すゞ', 'そしり', 'はたとせ', 'めじ', 'のむら', 'かぐ', 'たくみ', 'つくす', 'ぬぎすて', 'くう', 'ゆけ', 'ちご', 'なだらか', 'つるめ', 'せまり', 'しげり', 'かきわけ', 'さびし', 'びびと', 'なきあかす', 'ちとせ', 'めぐれる', 'ふるふ', 'ふみしめ', 'うつり', 'うちわ', 'むせび', 'あめ', 'まぐれ', 'たどる', 'あかき', 'しぐれ', 'おもから', 'ほた', 'るび', 'とべる', 'ふゆ', 'しろき', 'うめ', 'ひめよ', 'しろく', 'すこ', 'ばい', 'みゑ', 'なごり', 'かじ', 'うつし', 'みぎ', 'たなご', 'うきは', 'はす', 'こぎ', 'もす', 'はが', 'しろし', 'ひたし', 'めも', 'すめる', 'みなれ', 'なを', 'なつの', 'つば', 'ひみ', 'たのしから', 'てらす', 'うば', 'ふさの', 'ひぼし', 'みて', 'ぐし', 'ねよ', 'つね', 'たのしけれ', 'まこ', 'なとり', 'やけ', 'くちびる', 'ゑも', 'にじむ', 'なげ', 'ねぐら', 'かもめ', 'どり', 'むすぶ', 'わだつみ', 'にたち', 'たえず', 'なまなか', 'うらわか', 'ときを', 'めぐらせ', 'けぶり', 'いくさ', 'むなしき', 'してき', 'ひろき', 'くるしみ', 'しるせ', 'はしる', 'こが', 'かたくな', 'かのう', 'しめり', 'ふらん', 'さししめし', 'まじる', 'ちれ', 'ふるひ', 'そよげ', 'あらだち', 'まねか', 'ほしく', 'むちうた', 'わけて', 'つめたく', 'あぢきなく', 'あさましく', 'しげれ', 'うまる', 'せまき', 'はやれ', 'もろき', 'とさか', 'かざり', 'めざめ', 'あさら', 'かき分け', 'あざむく', 'めざし', 'ひるむ', 'にたて', 'なぜなら', 'しきゃ', 'かぶれ', 'くぐっ', 'やる気', 'なんとか', 'わかっ', 'いいかえれ', 'みどころ', 'ねがい', 'なさっ', 'つかし', 'いつき', 'この方', 'きち', 'おす', 'ごらん', 'きこえる', 'うつっ', 'ってな', 'ふざける', 'られりゃ', 'たげ', 'なすり', 'むごたらしい', 'せきこん', 'どれどれ', 'すくなくとも', 'つきぬける', 'みこん', 'つっこん', 'ひっかえし', 'なー', 'いまにも', 'ひびき', 'ひっぱっ', 'とびあがる', 'ぶっつけ', 'ぶっつかっ', 'とりつけ', 'まみれ', 'あがら', 'どん', 'あわ', 'くくっ', 'のう', 'やり過ごし', 'さしつけ', 'かねがね', 'つづける', 'みかえさ', 'くくろ', 'へー', 'ひっかけ', 'とたんに', 'ただしい', 'さしこん', 'えと', 'うるま', 'そういえば', 'かいつまん', 'ゆする', 'はしなくも', 'くりひろげ', 'おび', 'ぶつかる', 'まいあがっ', 'とば', 'ならん', 'あげれ', 'おちる', 'しんぱい', 'のりこん', 'くるし', 'たたかっ', 'おどかす', 'ぐるっと', 'だいたい', 'まっ白', 'しるさ', 'おおわれ', 'たちのぼっ', 'あつい', 'でこぼこ', 'がかっ', 'まゆ', 'すりつけ', 'うずまい', 'しゅうしゅう', 'おしよせる', 'こころよい', 'わるく', 'まわる', 'とりかこん', 'ぶつから', 'しゅん', 'ものすごい', 'あっという間に', 'てんじょう', 'ほうり', 'つきさす', 'くしゃみ', 'ぼく', 'からだ', 'くるん', 'のりあげ', 'みなさん', 'うなっ', 'つかわ', 'ぷーんと', 'とびたつ', 'まきつけ', 'だるま', 'かっこう', 'よん', 'ゆりおこし', 'こんこんと', 'かたむい', 'ななめ', 'かしい', 'もぎとら', 'しいて', 'おちつけ', 'とち', 'めくっ', 'よわい', 'げんこ', 'かためる', 'なぐりつけ', 'はげまし', 'たすける', 'てりつける', 'ふち', 'たどりつい', 'かざし', 'どぎつい', 'さえぎり', 'だしぬけ', 'そういった', 'おもいがけない', 'よびかけ', 'ふりむい', 'ぬっと', 'といかえし', 'ふかふか', 'まちがえ', 'おそろしい', 'うちかっ', 'とじこめ', 'みはっ', 'あらためて', 'みなおし', 'みょう', 'あたらしい', 'のも', 'にぎっ', 'かしげ', 'のばし', 'はるかに', 'おどろい', 'さとっ', 'おそろしかっ', 'のこる', 'いいだし', 'いいかえし', 'すごい', 'もちあがる', 'ものすご', 'くりかえさ', 'けずりとら', 'こなごな', 'とびちっ', 'まっ黒', 'ひろがる', 'さえぎら', 'とどか', 'おおい', 'しめつけ', 'とおし', 'ふせぐ', 'たやさ', 'たすかっ', 'かがやい', 'にあっ', 'こおり', 'くぼん', 'きりきり', 'がんがん', 'よぶ', 'のぞきこん', 'おだやか', 'ぬけ', 'むつかし', 'めそ', 'しずか', 'とかし', 'くだり', 'かかわる', 'くださら', 'じゃっ', 'ぇ', 'いわい', 'かまい', 'うわ', 'なま', 'まきちらす', 'おさえる', 'はげしい', 'とって返し', 'とびだし', 'けだし', 'みつけ', 'なけなし', 'みだし', 'どー', 'さからわ', 'おかげ', 'おしまい', 'くさく', 'すませ', 'めずらしい', 'びりびり', 'はからっ', 'ふーん', 'おーい', 'きらわ', 'じゃんじゃん', 'せいぜい', 'に際し', 'ゆるめ', 'へばりつい', 'やもり', 'おとさ', 'どっち道', 'ぶっつける', 'あれよあれよ', 'とびださ', 'どす', 'どすんと', 'ゆずら', 'みはり', 'ふるい', 'もぐら', 'ならい', 'ものがたり', 'さび', 'くわしく', 'ふけっ', 'つぎあわせ', 'ちらし', 'すすみ', 'ちかごろ', 'ほころぶ', 'はいれ', 'おかえりなさい', 'どなりつけ', 'かえら', 'つよい', 'くださっ', 'おいかえさ', 'ひきもどそ', 'うごか', 'こわばっ', 'いいつける', 'ようこそ', 'ふりかえっ', 'けんめい', 'とくべつ', 'みちびき', 'にげ', 'ありま', 'くいつく', 'おどろく', 'おいしい', 'のばす', 'ひらき', 'たくわえる', 'のん', 'とりあげ', 'かけだし', 'かくれる', 'そくし', 'ばなし', 'うすぐらい', 'いじいじ', 'かぶせ', 'できあがっ', 'ひっぱり', 'みまわし', 'くだっ', 'おりる', 'こわごわ', 'うかがっ', 'なおす', 'ひびい', 'おもいきっ', 'あいかわらず', 'たたい', 'まわす', 'すーっ', 'とびのい', 'あわせ', 'たのん', 'おいてけぼり', 'いり', 'ひきとめ', 'ひきかえし', 'とびつい', 'すてき', 'おもう', 'まね', 'ふきだし', 'のりこも', 'ごったがえし', 'もぐりこん', 'はりあげ', 'とばせ', 'ぼーっと', 'ねらっ', 'わめい', 'ゆらり', 'しらせよ', 'おじさん', 'しらせ', 'はきだし', 'たちのぼる', 'はじまっ', 'へんじ', 'にらみつけ', 'よびだし', 'さわが', 'はたらい', 'あやしい', 'なげこん', 'ゆびさし', 'どんと', 'むずと', 'つかむ', 'なげこむ', 'きつく', 'まにあわ', 'ききかえし', 'おそい', 'ゆるし', 'ふりはらっ', 'にげだし', 'にがし', 'おいかけ', 'すべりおちる', 'おもえ', 'ひっくりかえし', 'にげまわっ', 'なにもかも', 'ほんと', 'まちがえる', 'かわいい', 'よばれ', 'いいわけ', 'うたがい', 'ゆずろ', 'まてよ', 'いいだそ', 'いいあわせ', 'さっと', 'はきだす', 'すめ', 'おわる', 'おわら', 'うきあがっ', 'とりまい', 'さわぎたてる', 'おさ', 'せめたて', 'にらん', 'こころ', 'まもっ', 'おもい', 'にごし', 'とおる', 'しずめ', 'かきむしり', 'しずめよ', 'ひっこん', 'ふるいたつ', 'おもいきり', 'よわよわしい', 'ふりすて', 'いさましい', 'たたかう', 'たすかる', 'はしりこん', 'こまる', 'こわさ', 'なぐら', 'こわし', 'よろめい', 'みあわせ', 'たずねる', 'ぬきだす', 'めがけ', 'すくっ', 'あんばい', 'みつかっ', 'つかっ', 'みせかけ', 'うごかし', 'とびだせる', 'みつかる', 'うたがわ', 'うたがっ', 'うたがわしい', 'のりだす', 'むかむか', 'ひかえ', 'ぶくぶく', 'もぐり', 'つらね', 'とおりすぎ', 'ゆるせ', 'えらかっ', 'たてる', 'えりも', 'にげる', 'ずるい', 'つばさ', 'どど', 'まっくろ', 'たちのぼり', 'くずれ', 'だまりこん', 'おおっ', 'あわし', 'ため息', 'ひらか', 'まっさきに', 'ぼう', 'おしのけ', 'とおりすぎよ', 'めいわく', 'すりむい', 'もしもし', 'がんばっ', 'しわ', 'たずねよ', 'どなっ', 'のみこん', 'いそが', 'ならし', 'はしりさっ', 'かわし', 'とおざかり', 'うけとっ', 'つかれ', 'もよおし', 'はばから', 'あくび', 'かぞえ', 'おわろ', 'うけとろ', 'ひっこめ', 'しくみ', 'いやいや', 'にがさ', 'とびつく', 'ねじふせ', 'うなずき', 'むく', 'おもわ', 'さまよっ', 'さがしだす', 'なごりおしく', 'さかのぼる', 'お昼', 'あやしま', 'かならず', 'ていねい', 'いいあわ', 'にっこり', 'ずかずか', 'かぎ', 'やりすごす', 'ぎょ', 'くばっ', 'はきかけ', 'づくり', 'いちはやく', 'どい', 'おさまっ', 'おいたて', 'さわい', 'つん', 'おどろかし', 'きびしく', 'しめくくり', 'ほこり', 'ぽく', 'よどみ', 'つづく', 'ひろびろ', 'おもわず', 'うしろ姿', 'いいあて', 'かっぱ', 'くるっ', 'ふりかえり', 'くぐり', 'おしい', 'おいつけ', 'とりかえさ', 'とりかえせる', 'おそかっ', 'ねん', 'のがし', 'さらっ', 'じっさいは', 'うしなっ', 'わが家', 'ききただし', 'はしか', 'ぎす', 'ぷかぷか', 'たのもし', 'うろつい', 'かかわりあっ', 'とびまわっ', 'ひっとらえ', 'つぶし', 'たちあがっ', 'とりかえし', 'うけあい', 'でかける', 'とばし', 'もうもうと', 'すっとば', 'おどろか', 'とびこえ', 'すすん', 'ご苦労さま', 'あらわす', 'かばっ', 'もくろん', 'はなす', 'そそくさ', 'おいかけよ', 'なさけない', 'うだん', 'かなわ', 'ひきあわせ', 'ひきずる', 'へたばり', 'あいた', 'ひきさき', 'おどりかかろ', 'はやまっ', 'たおし', 'でかし', 'ばりばり', 'かみあわせ', 'ばったり', 'たおれ', 'つっ', 'よばれる', 'ねころがっ', 'とびあがっ', 'ちっ', 'わめき', 'うえの', 'あばれる', 'またもや', 'ほんとに', 'なれなれしい', 'つかい', 'みすまし', 'ぽか', 'かわいそう', 'むし歯', 'おそれ', 'まるく', 'なおし', 'しずん', 'はずかしく', 'あたり前', 'いこ', 'いばっ', 'ふくん', 'ゆるが', 'うすぐらく', 'びくびく', 'ちく', 'いじめ', 'はやめ', 'きらい', 'すくいだし', 'ふさい', 'しげっ', 'うつむけ', 'かけより', 'そまっ', 'よごれ', 'うごかす', 'のけぞる', 'くるしい', 'つきとめ', 'がさがさ', 'にくにくし', 'あざ笑っ', 'つかう', 'おどし', 'くいしばっ', 'こらえ', 'わたっ', 'やりとげよ', 'おそるべき', 'ごちそう', 'ゆだん', 'みまもり', 'おいこん', 'かぼそい', 'おいこむ', 'くりぬい', 'すさまじい', 'はなつ', 'おどろかさ', 'ばか力', 'のべる', 'にげだす', 'さしむけ', 'にくらし', 'おっぱらっ', 'くゆらせ', 'まねごと', 'まにあう', 'そのうえに', 'とんご', 'いきおい', 'ぺん', 'はねあがっ', 'むかえ', 'あつかっ', 'ご用', 'ふるえあがら', 'ひっぱる', 'ぎっしり', 'こまかい', 'ぼろぼろ', 'だるい', 'ふうふう', 'つぶれる', 'おいこま', 'とびだそ', 'おさえつけ', 'しんかん', 'おちいっ', 'ふるいたっ', 'うごかさ', 'わんわん', 'はいれる', 'かため', 'きゃ', 'きゃー', 'えがき', 'あれー', 'かん高い', 'しめっぽい', 'きゃあきゃあ', 'ぴーんと', 'ひらめい', 'もむ', 'かどわかさ', 'ひきずら', 'なりすまし', 'はじまり', 'いばれ', 'うったえ', 'おっこちる', 'けつまずい', 'くさる', 'おんぶ', 'くくり', 'ぜいたく', 'くわえ', 'かわるがわる', 'むっくり', 'ひきあげよ', 'におう', 'くずし', 'ひびく', 'ともっ', 'もの音', 'がばと', 'あらそう', 'にぎる', 'にゅっと', 'よわっ', 'ひっこめる', 'べり', 'ふりまわし', 'がたんと', 'すっぽり', 'くるしかっ', 'うごい', 'しずまら', 'しずまれ', 'あばれまわる', 'あばれ', 'よけい', 'やってこ', 'すりよっ', 'あばれだし', 'はたらかせ', 'ものすごく', 'はらい', 'もりかえし', 'もちこん', 'やむを得', 'とかせ', 'おどかし', 'くば', 'ふてぶてしく', 'うかがい', 'するどく', 'とりあわ', 'そむい', 'つきぬき', 'こわせ', 'さしつかえ', 'こわ', 'おしえる', 'とりもどし', 'ねじっ', 'つかまえる', 'こうむら', 'おわれ', 'とりしずめる', 'おえる', 'うそぶく', 'くやし', 'うちこわす', 'ぶちこわす', 'もだえ', 'せせら笑っ', 'しばっ', 'つきあげ', 'すばやく', 'こげ', 'おさらば', 'しずまりかえっ', 'ゆすぶる', 'さきほど', 'つかまり', 'とっつかまる', 'ひっかかっ', 'ひっかかる', 'はたらき', 'はこん', 'まっすぐ', 'つたえ', 'やれやれ', 'くわしい', 'すっと', 'ばかさ', 'よじのぼっ', 'さしのべ', 'ただならぬ', 'もじり', 'よれよれ', 'みつかん', 'なげとばし', 'ぞろぞろ', 'しょい', 'のま', 'うちあける', 'びっしょり', 'くれりゃ', 'をめぐって', 'きこま', 'てんでに', 'おさめ', 'とりむすぶ', 'さわる', 'でっかい', 'やらせ', 'によりまして', 'つかま', 'わあわあ', 'ぶちまけ', 'なおさ', 'そろっ', 'よぼよぼ', 'ふくめる', 'ぎょろりと', 'かちえ', 'ごみごみ', 'くさい', 'だだっ広い', 'つまる', 'あつめる', 'とりかかっ', 'がらん', 'あばき', 'つくさ', 'だせる', 'ふのり', 'ぞくぞく', 'こぼす', 'てっぺん', 'わりあい', 'ひったて', 'さずけ', 'うーむ', 'ゆくりなく', 'なめらか', 'ぬかし', 'へたへた', 'どっしり', 'ぬかす', 'ぎゅっと', 'つねっ', 'こきつかわ', 'つっつく', 'たくらむ', 'やむを得ず', 'がらっと', 'けたたましい', 'よじのぼろ', 'やりかえし', 'やすく', 'じっくり', 'こみあげる', 'もたらす', 'ぜひとも', 'へあがっ', 'ふさぐ', 'うめる', 'ぶちこわさ', 'ふるわ', 'らしき', 'とりつか', 'どっこい', 'ずみ', 'がちゃがちゃ', 'まぐれ当り', 'やり直す', 'むつかしく', 'くりかえし', 'やりかえす', 'ごめんなさい', 'あてはめ', 'おめでとう', 'むにゃむにゃ', 'お喋り', 'ぐち', 'ゆるり', 'はめこむ', 'おん', 'でどこ', 'ぶつかれ', 'あます', 'はめる', 'ふりしぼっ', 'かれん', 'お薦め', 'やっこ', 'たてこもる', 'やってくる', 'とっぷり', 'このまま', 'そうこう', 'まくり', 'つまみ', 'きわめて', 'まるまる', 'ふるう', 'つまみださ', 'いぶかっ', 'ゆるま', 'すぎさる', 'すくいださ', 'つめこむ', 'つなぎ', 'たしかめ', 'ぬきだし', 'みそめ', 'お盆', 'うれしく', 'もうす', 'ざんせ', 'とむ', 'ひだ', 'ひね', 'みづら', 'ともすれば', 'みつしり', 'うなん', 'せき上げ', 'ほんのり', 'ならう', 'ひしと', 'とぼ', 'またも', 'しなる', 'つきつけ', 'みすみす', 'すゑ', 'きん', 'まぜかえし', 'つまされ', 'まじえ', 'きたならしく', 'いくばく', 'にらみあい', 'ひるがえさ', 'もみあい', 'もみあっ', 'ほぐれ', 'なびか', 'あずけ', 'ゆわえつけ', 'まとめ', 'かしわ', 'なぐっ', 'もどる', 'ごうし', 'わめく', 'むちゃ', 'ののしり', 'あけろ', 'あだ名', 'しょわ', 'すずめ', 'おどり', 'ひよこ', 'いやさ', 'いびき', 'あぐら', 'こっそり', 'のめり', 'そよそよ', 'べたべた', 'かざる', 'か月', 'ひぞ', 'せがん', 'ちぢこまる', 'ときたま', 'あがれ', 'ちらほら', 'なまん', 'だぶ', 'お出まし', 'くるまる', 'まるきり', 'ようし', 'うなづい', 'くだん', 'じめじめ', 'たくらん', 'からげ', 'ぴしぴし', 'あが', 'あでやか', 'お召', 'きらびやか', 'ころばす', 'つるりと', 'いとしき', 'ひととき', 'のど', 'ちらす', 'どこぞ', 'るこつ', 'こす', 'くさし', 'うせる', 'つづか', 'とがめる', 'おみ足', 'はさん', 'うすれ', 'こそこそ', 'まんが', 'ならす', 'てつ', 'すんで', 'とりかから', 'もらさ', 'ええと', 'いとしい', 'つぶ', 'めぼしい', 'しんねり', 'めったに', 'きりなし', 'お越し', 'やよい', 'さまつ', 'やぎ', 'ぷりぷり', 'まとま', 'さだめ', 'なんの', 'べろりと', 'やいのやいの', 'くそ', 'ぬけぬけと', 'お通し', 'ころげる', 'まんなか', 'ほん', 'いつの', 'ぴたり', 'ころげこん', 'しまふ', 'かちよ', 'さもしい', 'さぞかし', 'かけん', 'ずたずた', 'やんごとない', 'うい', 'ゐよ', 'つたい', 'なんのかんの', 'しらばくれ', 'ひいては', 'たとへば', 'つつま', 'へぼ', 'つくれ', 'あたふた', 'お眼鏡', 'ありふれ', 'かなめ', 'しいんと', 'やつし', 'ゆうに', 'ひろめよ', 'ゆうの', 'のらくら', 'ひあが', 'あぐね', 'まぜる', 'つからせ', 'わんさと', 'つから', 'がさつ', 'さしづめ', 'からくり', 'とど', 'ひあがり', 'がする', 'ひろがり', 'お袋', 'そそい', 'なにがし', 'えらく', 'ひろい', 'ぬらす', 'はこ', 'ひがし', 'もつとも', 'もうとう', 'みがき', 'わびしい', 'きま', 'かくさ', 'いそしん', 'のんき', 'たかれ', 'けがれ', 'うかれ', 'よさ', 'うだら', 'くかれ', 'よま', 'うかし', 'かまけ', 'さまさ', 'めぐ', 'かばかり', 'にじみ', 'やかし', 'ふらす', 'ひろ', 'これまで', 'とぐ', 'ついばん', 'げろ', 'ひやし', 'ていこ', 'はちよ', 'お礼参り', 'こんがらか', 'ほこれ', 'に際して', 'じくじく', 'ゆがん', 'とある', 'あくまでも', 'お詫び', 'くるめ', 'あいまい', 'たのしむ', 'あてはまる', 'いま一つ', 'まぜ', 'あやまつ', 'とんぼ', 'あやふや', 'つきる', 'とびこむ', 'たよる', 'ほす', 'ちやう', 'お握り', 'くぐつ', 'ゆるみ', 'ひたひた', 'そち', 'かすめる', 'にがく', 'お過ごし', 'うら', 'いぶき', 'あそばし', 'お年', 'ほて', 'そよぐ', 'お針', 'ゆい', 'ばたばた', 'うず', 'びく', 'ひのや', 'つなが', 'さがり', 'ばら', 'さしも', 'そぞろ', 'あやつる', 'すんなり', 'さびれ', 'がまん', 'たわん', 'わけても', 'もら', 'にかけまして', 'お引き受け', 'ままごと', 'にあがっ', 'どっちみち', 'かしこまり', 'ありつく', 'あばた', 'もつれる', 'この節', 'いかさま', 'きゃしゃ', 'ある日', 'いとしく', 'つつましく', 'うなだれ', 'まとわ', 'こまやか', 'つつましい', 'お勝手', 'ひそ', 'たかぶら', 'ご時世', 'うたわ', 'ご機嫌', 'つくばい', 'あお', 'ないしは', 'みじめ', 'むしょうに', 'むほん', 'さまざま', 'おごっ', 'てんてこ舞い', 'むすこ', 'づらし', 'いいかげん', 'わずらわし', 'とこう', 'やっつける', 'おわす', 'お守り', 'よろしかろ', 'まします', 'いらせられ', 'にわたって', 'ぶちこわし', 'はいろ', 'ひときわ', 'なかば', 'お気に入り', 'なだめる', 'いっそう', 'かがめ', 'ひっさげ', 'おびただしく', 'ますれ', 'ほうぼう', 'いそがし', 'ちりばめ', 'まとっ', 'ねばっこく', 'お送り', 'ご馳走', 'よそおい', 'よそい', 'どさくさ', 'なさろ', 'てっきり', 'むさい', 'しこたま', 'おののく', 'とお', 'がたかろ', 'お母様', 'だる', 'ねっから', 'はみ出し', 'ご両人', 'ふさわしゅう', 'つつまし', 'ご覧', 'かげん', 'えぐら', 'しげしげ', 'いとし', 'そそっ', 'ご用聞き', 'おっこち', 'つまらな', 'べら', 'もてあそん', 'あえぐ', 'じゅう', 'ぶつかりゃ', 'お銭', 'ふさが', 'ちゃぶ台', 'ちょくちょく', 'ちょっかい', 'くらいつく', 'ぞっき', 'お蔦', 'ころがし', 'まて', 'おもてなし', 'あずかり', 'みね', 'のれる', 'うたっ', 'わだかまり', 'なびい', 'ていう', 'そそのかし', 'うわずっ', 'よどん', 'けっきょ', 'ふくらん', 'よーし', 'きし', 'たたずまい', 'ふけり', 'つづけよ', 'あも', 'そそ', 'あつかい', 'おだて', 'きわめ', 'をもちまして', 'えご', 'もたせ', 'せせっ', 'ごろつき', 'すご', 'お酌', 'ねばっこい', 'うーん', 'したたか', 'いぶし銀', 'ぶち壊し', 'きらし', 'とざす', 'すり抜け', 'あばけ', 'かがみ', 'のめせ', 'ちっぽけ', 'ぼそぼそ', 'えたい', 'まねき', 'とんちき', 'みよし', 'それだけに', 'まとう', 'にわか', 'あつかわ', 'まとまり', 'なまめかしく', 'やらかす', 'あやつら', 'こぼし', 'ついては', 'お客様', 'かまう', 'にご', 'へいへい', 'やしょ', 'げす', 'のっけ', 'ふんだん', 'さておき', 'すえ', 'お達し', 'あぶ', 'げしょ', 'いるか', 'お隠れ', 'うそ寒', 'ともあれ', 'すがすがしい', 'わかた', 'そそる', 'お納め', 'あまねく', 'くみとろ', 'たえがたく', 'むしばま', 'にぶく', 'さと美', 'つとめて', 'おそらく', 'おもんぱかる', 'まさっ', 'やめろ', 'とらわれる', 'とらわれ', 'あたれ', 'あげつらう', 'つながる', 'とげる', 'ほどける', 'にかよう', 'みき子', 'みすごす', 'ふれる', 'こたえる', 'となえ', 'とらえる', 'お伝え', 'かかさ', 'たれる', 'はっきりと', 'なおなお', 'たまらなけれ', 'ゆるゆる', 'に従い', 'やらさ', 'まっか', 'してやら', 'みよく', 'わきまえ', 'ややこしく', 'せり合い', 'いじける', 'のびやか', 'お化け', 'しめっ', 'ぼかし', 'わける', 'ぬり', 'なす事', 'うるさき', 'くずそ', 'あまし', 'ゆだねる', 'ゆずり', 'しがみつく', 'しがみつか', 'もたらさ', 'やってのけれ', 'っぽ', 'なぶり殺し', 'せっかち', 'とすれば', 'あび', 'ぼろ', 'いなせ', 'そそら', 'くるわ', 'いじけ', 'こわれる', 'あさっ', 'ねだん', 'あきらめる', 'はがき', 'ややこしい', 'ありつき', 'いやらし', 'いやしい', 'はばかる', 'しつこ', 'きわまり', 'つきまとう', 'こなさ', 'やり口', 'しゃくにさわる', 'うだっ', 'つぎ込ん', 'お茶屋', 'ばかばかしく', 'むさぼる', 'うまかっ', 'おきかえる', 'うるさく', 'まごつく', 'したがっ', 'ちらかさ', 'たんに', 'まとまら', 'まとめる', 'つきまとっ', 'ほほ笑ん', 'おろそか', 'お姫様', 'なつかしみ', 'なまぬる', 'すっきり', 'くたびれる', 'てこずっ', 'なおっ', 'ややこしけれ', 'もぎれ', 'うとましい', 'うとく', 'まァ', 'てこずる', 'おじけ', 'へこん', 'もどり', 'お産', 'ふとん', 'いもむし', 'いの一番', 'よそ事', 'あがめ', 'よろず', 'なんら', 'まわ', 'うどん', 'けいこ', 'つながれ', 'いじらしい', 'へこまそ', 'なぐりつけよ', 'らくらく', 'ねぼけ', 'たんなる', 'まずい', 'からみつい', 'お里', 'まごつい', 'のたまう', 'あらまし', 'せんべい', 'あこがれ', 'したがえ', 'かたびら', 'づらい', 'きつい', 'くらまし', 'あやかり', 'たまう', 'まんまと', 'つたわっ', 'ずらり', 'やすみ', 'ぜんぜん', 'ほど遠い', 'あやつっ', 'つねに', 'いい気', 'あまやかし', 'ちょこ', 'ぬけぬけ', 'かたつむり', 'あまつさえ', 'もろもろ', 'またぎ', 'ささやきあっ', 'はかな', 'よこたわっ', 'わたす', 'どす黒い', 'こましゃくれ', 'てれ', 'じっさい', 'きたす', 'えらん', 'ちなみに', 'こぢんまり', 'しつらえ', 'よって', 'おしゃべり', 'あそび', 'こまかく', 'ぜんたい', 'まかせる', 'くぐる', 'びろう', 'ふくよか', 'しらじら', 'やりとげ', 'はらう', 'はなれる', 'ねがう', 'ずきん', 'いたこ', 'むしっ', 'かるい', 'つまん', 'くらくら', 'うしなう', 'ととのい', 'そなえつけ', 'よわめる', 'おわっ', 'いままで', 'あけはなし', 'ずっ', 'からかっ', 'こすろ', 'きちょうめん', 'おんな', 'こども', 'つくり出し', 'よろけ', 'ほほえむ', 'のろ', 'じらし', 'あかるい', 'きのう', 'しゃれ', 'えがい', 'つめたい', 'うすっぺら', 'ぽつんと', 'すっ飛ん', 'こころゆく', 'かがやく', 'へらへら', 'おもちゃ', 'いそがしい', 'きわめる', 'がぶり', 'りす', 'さかい', 'しんしん', 'あぶっ', 'くろい', 'すれ違っ', 'つぎつぎに', 'うずもれ', 'さざめい', 'ならび', 'はだし', 'ゆるさ', 'むかえる', 'かぎる', 'またがり', 'ならぶ', 'はだか', 'あやうく', 'ちょこちょこ', 'とろとろ', 'ばり', 'けんけん', 'がくがく', 'ひっきょう', 'とかげ', 'ぱらぱら', 'お祭り', 'お告げ', 'あふり', 'かがやかし', 'きたし', 'ふるく', 'こつこつ', 'のこのこ', 'まくし立てる', 'うらうら', 'ぽっちり', 'ぷうんと', 'お笑い', 'ぼん', 'あかい', 'おなじく', 'さえぎる', 'あやつり', 'ふくれ', 'たらたら', 'ゆえん', 'いまどき', 'ひまわり', 'ささやき', 'しつこい', 'こつぜん', 'しっぽ', 'つかわし', 'っぱなし', 'このあいだ', 'いそげ', 'ひょう', 'あかす', 'しこん', 'そこばく', 'のんべんだらり', 'おぼしめし', 'てんめん', 'きらめく', 'ほほえま', 'よこぎり', 'てきぱき', 'たしなめ', 'さりげ', 'はしなく', 'のぞきこみ', 'なぐさめる', 'そむけ', 'のぞきこむ', 'へさ', 'きめつけ', 'はしよ', 'つなぐ', 'つかね', 'しかめる', 'ゑつ', 'とりなす', 'びれ', 'と列', 'きざ', 'かこん', 'とりわけ', 'もぐもぐ', 'はずみ', 'よろめき', 'ごろりと', 'のけぞ', 'つながり', 'かきむしら', 'とり上げ', 'いそいそ', 'まざまざと', 'ごろ寝', 'ぎくりと', 'しがみつい', 'おろおろ', 'くるまり', 'かすり', 'かくする', 'ざれごと', 'すげ', 'たあい', 'あそばせ', 'なにげなく', 'ゆくゆく', 'しでかす', 'あずから', 'お松', 'こぼっ', 'あやまち', 'つとめる', 'かずけ', 'のがれよ', 'ほいと', 'ほとほと', 'おおっぴら', 'なぜか', 'さしとめ', 'さしとめる', 'つぶさ', 'うまうまと', 'お為ごかし', 'みとめる', 'ひかされ', 'めざましく', 'おのおの', 'いとも', 'こんなふうに', 'つぶり', 'ひとごと', 'なにげない', 'たわけ者', 'おめおめ', 'おめでたく', 'さげすま', 'ひきかえ', 'いぜん', 'ぶんなぐり', 'ぶんなぐっ', 'ひっくり返っ', 'りゅうと', 'いやがれ', 'どよめき', 'おさまら', 'こんち', 'さわら', 'いつぞや', 'その道', 'おたがいに', 'いつのまに', 'つとまら', 'お引受け', 'さしかかり', 'かわす', 'うかがう', 'たちどまり', 'はしくれ', 'ついて行く', 'いましめ', 'つとまる', 'しけ', 'まさかに', 'お足', 'お構い', 'よりかかり', 'ちゃあ', 'せわしなく', 'しとしとと', 'ほしき', 'こともなげに', 'あそばす', 'なにぶん', 'らくに', 'すがる', 'もらえ', 'お粗末', 'おくん', 'お立ち', 'せき立て', 'よりけり', 'ひそん', 'たがい', 'ゆっくりと', 'まばたき', 'にくん', 'ばかばかし', 'よくなり', 'まかり間違っ', 'けむたがっ', 'まんいち', 'おもんばかっ', 'わずらいつい', 'せく', 'だいそれた', 'かいくれ', 'おかみ', 'もうすぐ', 'つづこ', 'んじゃ', 'やみくも', 'のめし', 'ちび', 'いなご', 'たいそう', 'もとまら', 'ひっくり返る', 'くれぐれも', 'せめ', 'くっつける', 'ぶっつかる', 'やらい', 'でっぷり', 'もうける', 'だいいち', 'だるく', 'さがれ', 'つかまれ', 'おきゃ', 'ひっかかり', 'ややもすれば', 'ちぢまっ', 'いいかえ', 'やむを得ない', 'おかしくっ', 'ほお', 'ひたれ', 'せつけ', 'うごめき', 'ほどい', 'お目にかかれ', 'いらだつ', 'してやり', 'せいいっぱい', 'ほほ笑み', 'まんざら', 'つくろっ', 'あわてる', 'いたん', 'じれ', 'これだけ', 'やりゃ', 'へたばっ', 'またし', 'ことわっ', 'みなさ', 'お歌', 'おかしな', 'こじつけ', 'いなさ', 'かくまい', 'いちおう', 'お迎え', 'そらぞらしい', 'そらぞらしく', 'お作り', 'まえよ', 'とりかかり', 'いざと', 'たぐい', 'かえよ', 'やるせなき', 'こんにちは', 'かつぎ', 'かつぐ', 'たくま', 'みこし', 'あだっぽい', 'けぶる', 'いとど', 'なびかせ', 'みとれる', 'ながめる', 'まるや', 'あつらえ', 'けりゃ', 'ちげ', 'へらず口', 'とがめ', 'うつむい', 'けし飛ん', 'すすぎ', 'ほとばしら', 'すれちがい', 'そそう', 'はしょり', 'たずさえ', 'お腹', 'いきり立っ', 'うやうやしく', 'ひょろひょろ', 'うらぎっ', 'くいつい', 'なすりつけ', 'しね', 'あしらわ', 'さしおい', 'べらぼう', 'よくも', 'とよみ', 'おきよ', 'はね返す', 'ちまい', 'すだっ', 'あわせよ', 'ころがる', 'とっつかまっ', 'というのも', 'ひっくり返り', 'ひっくり返ろ', 'めまぐるしい', 'まかり間違え', 'そりゃあ', 'たたきつけ', 'かいがいしく', 'みがい', 'つくもがみ', 'たばね', 'あらあらしく', 'とりしきっ', 'ものうく', 'はねのけ', 'とっちめ', 'はじまら', 'たちどまっ', 'どぎまぎ', 'こてこて', 'いいこめ', 'ひきつづい', 'きざはし', 'ただに', 'わりに', 'もどき', 'きむずかし', 'あやかっ', 'どっこいしょ', 'あっけ', 'ねんねん', 'ねんね', 'お守', 'とりひろげ', 'めくり', 'おそけれ', 'べつだん', 'ききわけ', 'ちゃう', 'ねじ', 'いやがっ', 'のせる', 'なしとげよ', 'いつお', 'しおらしく', 'つむじ', 'よろめく', 'ひとしい', 'いの', 'はいかい', 'かいがいしい', 'こんがらかっ', 'けしかけ', 'にじん', 'せっ', 'けばけばしく', 'おくゆかしい', 'お座', 'ひっくり返し', 'ほごし', 'まける', 'めくる', 'みとれ', 'ひっきりなしに', 'とりよせ', 'さしあたっ', 'させろ', 'けがらわしい', 'うずたかい', 'つもっ', 'のほほん', 'つっつき', 'うんざり', 'やれよ', 'かする', 'くりひろげる', 'ひっくり返す', 'あえ', 'うちあけ', 'この上なし', 'もちこさ', 'ありとあらゆる', 'きたない', 'しょうじ', 'こぞって', 'やらかせ', 'ちらつい', 'お雪', 'よくなっ', 'しおらしい', 'やめよ', 'すうっ', 'よだち', 'あわただしい', 'ゆきあっ', 'ゆきすぎ', 'ばかげ', 'よこせ', 'わあ', 'とどまっ', 'あやなし', 'きぬぎぬ', 'あぶれ者', 'そぞろ歩き', 'そぞろ心', 'さんず', 'つとまり', 'こころもとなし', 'やってのけ', 'たぐり', 'ばっかり', 'お通夜', 'かしこまる', 'けげん', 'はたはた', 'やんごとなき', 'いじらし', 'しみる', 'うくっ', 'そこなう', 'えがお', 'かすろ', 'しさり', 'いでたち', 'につける', 'たいがい', 'おっくう', 'さわり', 'もしかして', 'しみいる', 'よいよい', 'しっとり', 'その時', 'ほふり', 'はぐれ', 'すべら', 'お札', 'ひょっとこ', 'いくぶん', 'お祭', 'お祭り騒ぎ', 'かじりつい', 'っぷり', 'さらい', 'ただ者', 'もてはやし', 'たけりゃ', 'せせら笑い', 'うろつき', 'しばたたい', 'なんとまあ', 'まじめさ', 'づきあい', 'めっきり', 'このほど', 'ひきうけ', 'わきおこり', 'くわす', 'ばかばかしくっ', 'こなせる', 'あずかる', 'おもんみれ', 'よだて', 'せろ', 'きまって', 'のさばり', 'そねん', 'ひしい', 'やらかし', 'くみしい', 'とりなし', 'いわれ', 'かつが', 'たたき', 'にせもの', 'ひっぱたい', 'お目玉', 'お山', 'してやれ', 'お太鼓', 'ひねくれ', 'いたわる', 'なまる', 'おぞく', 'かかわっ', 'ひた走り', 'ましまし', 'はがれる', 'つらし', 'なつい', 'かしずい', 'なまっ', 'ならわし', 'おめでた', 'ことわり', 'おばさん', 'つくろわ', 'あり合せ', 'すさみ', 'ねたく', 'そこはかとなく', 'うたう', 'たせる', 'とり上げる', 'こたつ', 'すぼめ', 'ねらう', 'つかる', 'からかわ', 'なきじゃくっ', 'かしこまっ', 'さらさ', 'かがやかしい', 'うつらうつら', 'うつそ', 'うめい', 'さます', 'きせる', 'かきよせ', 'はたき', 'ひねろ', 'じらす', 'そばだて', 'ほごさ', 'いでたつ', 'ぎし', 'でっち上げる', 'ふるいつく', 'かかえ込み', 'ときめい', 'おととし', 'ほれぼれ', 'むごい', 'せつない', 'かいな', 'うつぶし', 'やすやす', 'あざけっ', 'のく', 'こわがっ', 'やつす', 'おこさ', 'あのまま', 'すごすご', 'だからといって', 'やんちゃ', 'ちまた', 'たたき起す', 'まがい', 'たよら', 'すがり', 'かゆい', 'かかり合い', 'ころがり', 'わた', 'つれなく', 'つれない', 'あやなす', 'いななく', 'いななき', 'きざん', 'おぞましい', 'くすぐったい', 'くすぶっ', 'ひねもす', 'あせれ', 'あやなさ', 'ふんぎり', 'なまくら', 'のれん', 'なじみ', 'にがにがしい', 'いかめしい', 'くわれ', 'したえ', 'すり寄る', 'かどわかし', 'ぬご', 'いいきっ', 'かいくっ', 'しゃなりしゃなり', 'さげすむ', 'あざける', 'たぶらかし', 'ろうと', 'いたちごっこ', 'あぶな', 'おわび', 'わるびれ', 'づらかろ', 'ひび', 'とつかわ', 'むざむざ', 'なれなれしく', 'ふかせ', 'ゆゆしく', 'さば', 'とっつかま', 'よむ', 'めでた', 'うるおし', 'かすむ', 'しりごみ', 'まずは', 'ぬげ', 'もっぱら', 'めんくらっ', 'つきもの', 'かせぎ', 'つれづれ', 'はえぬき', 'すぐっ', 'ようは', 'かまっ', 'ぶし', 'たずねれ', 'けむにまか', 'けむにまい', 'きざむ', 'そそっかしい', 'お座敷', 'ほほえみ', 'とりかかろ', 'しみったれ', 'びら', 'さとれよ', 'あざ笑い', 'のぼせ', 'のろい', 'おとずれ', 'いやがらせ', 'きびしい', 'かぶさっ', 'たがわ', 'つかまる', 'そんなふうに', 'ふさがる', 'かくまっ', 'まぎれ込ん', 'もの狂い', 'かけめぐっ', 'つかまら', 'いなし', 'けっこう', 'おおせる', 'かけっこ', 'どうどう', 'おおせ', 'あびせ', 'ひったくっ', 'かいこみ', 'ひっくり返さ', 'さらし', 'ひしゃく', 'つるさ', 'やえ', 'あらく', 'ほっとい', 'かまお', 'てんぼう', 'くらわせる', 'おぶさる', 'みこ', 'そむか', 'なれよ', 'かがめる', 'かじり', 'ひたさ', 'きはじめ', 'もてあます', 'さあー', 'わだかまっ', 'すっくと', 'しぼっ', 'あぶる', 'あたため', 'いち早く', 'うら淋しく', 'うずくまっ', 'さげすみ', 'あがき', 'むずむず', 'たんまり', 'おしゃま', 'さまよい', 'くもっ', 'あわてふためい', 'さとら', 'かいこん', 'つり上げ', 'せいせい', 'すれちがっ', 'せわしく', 'おろち', 'ふるわせる', 'もたせかけ', 'はずむ', 'たたく', 'ふんぞり返っ', 'なげうっ', 'そむく', 'あまっ', 'ごうごうと', 'とりかこみ', 'おっかない', 'お座なり', 'くつがえし', 'のたうち', 'めせ', 'ほとばしる', 'わかりゃ', 'ひがみ', 'あぶり', 'とまろ', 'おとり', 'からには', 'はさまっ', 'あてはまら', 'はなせ', 'いぎたない', 'なるみ', 'めざましい', 'ゆったり', 'えらぶ', 'ろくす', 'ぶっく', 'とろり', 'もぐり込み', 'ただよい', 'お天道様', 'やむなき', 'きわまっ', 'なまぐさ', 'からまっ', 'からみつく', 'はなっ', 'ひっぱれ', 'おじぎ', 'おさな', 'しきっ', 'えぐり', 'のべよ', 'しのぎ', 'うそぶい', 'ひらに', 'ひらめか', 'えー', 'ごっちゃ', 'おっつかっつ', 'ついて行け', 'のろくさい', 'ずうたい', 'あざ笑う', 'でかい', 'ゆるん', 'ゆすっ', 'お花', 'げんなり', 'さげすん', 'おっちょこちょい', 'つかまつり', 'しんねこ', 'たしなみ', 'ぬらりくらり', 'たんのう', 'おべんちゃら', 'なぐる', 'いざり', 'ちょろ', 'のろけ', 'いこっ', 'さらりと', 'くだし', 'しかめっ面', 'もろく', 'おこり', 'おこら', 'もくろみ', 'あずかれる', 'ほめる', 'むんむん', 'いっかな', 'かしずく', 'たたずん', 'こしらえる', 'よかれ', 'お仕置', 'それも', 'あせり', 'はかばかしい', 'そびやかし', 'もちかえる', 'しずめる', 'いかし', 'つまずき', 'つまずく', 'たわむれ', 'ぁ', 'わななか', 'かえそ', 'くくら', 'かんべん', 'うかがお', 'たぐっ', 'あがん', 'くべる', 'とりまぎれ', 'げっそり', 'ほとぼり', 'ねだり', 'てえ', 'そい', 'かすん', 'こおろぎ', 'あご', 'とぐろ', 'もぐり込も', 'しずまっ', 'なまり', 'からみつか', 'しかりつけ', 'しゃくり上げ', 'めそめそ', 'お節介', 'あてこすっ', 'すすり', 'はげます', 'たちゆき', 'あー', 'ふさがら', 'やかまし', 'いきさつ', 'おまじない', 'おなり', 'ざかり', 'まぶし', 'まがい物', 'さとす', 'かっぱらう', 'おみやげ', 'かみさん', 'わき目', 'くるめく', 'けなさ', 'ふるわし', 'ころげ', 'もどか', 'むしり', 'がなり', 'いらだた', 'さがす', 'あかあかと', 'さとり', 'はまっ', 'おぞ', 'くみかわし', 'につきまして', 'あわわ', 'やり手', 'きっぱりと', 'おじゃん', 'あっぱれ', 'ぶっつかり', 'めざまし', 'なかでも', 'いけずうずうしい', 'つっ込み', 'しゃがみ', 'のしゃ', 'ほこ', 'むつかり', 'まっただなか', 'たくわえ', 'のろう', 'お忍び', 'めくら', 'ぶっつかろ', 'あこがれる', 'ひろがれ', 'そそり', 'まやかし', 'そむき', 'さまたげる', 'うるおす', 'いかほど', 'はぐくみ', 'およぼし', 'そこなわ', 'くり返し', 'ほとばしり', 'かっきり', 'ちいさき', 'かがやき', 'もえ出', 'すたすた', 'ひざまずい', 'おどっ', 'かつぎ込ん', 'たたえ', 'わずらう', 'かつぎ込む', 'ぐりぐり', 'つうじ', 'いそしみ', 'あらあら', 'へっ', 'ぎょっと', 'おびただしい', 'おおいに', 'しこう', 'ちまお', 'てめえ', 'しし', 'すこしく', 'もんじゃ', 'ほどよい', 'もらえる', 'しじゅう', 'ありつこ', 'つきあえる', 'おめでたい', 'お先棒', 'お人好し', 'がやがや', 'きゃあ', 'じさ', 'わたしゃ', 'うちの人', 'かぶる', 'やっつけりゃ', 'ときゃ', 'なだれ込ん', 'けろ', 'わに', 'いんちき', 'お手数', 'うすうす', 'やり過し', 'お発ち', 'いける', 'たちきり', 'あおか', 'きびきび', 'かわろ', 'かわる', 'くさり', 'とぼけ', 'お株', 'かぎっ', 'お父つぁん', 'にこやか', 'お慰み', 'うどん粉', 'そばかす', 'けう', 'へあがり', 'みん', 'ふくし', 'はきはき', 'むせ', 'さきで', 'しぶく', 'はなち', 'とろ火', 'ひな子', 'しんどい', 'やけど', 'すみれ', 'ろば', 'さいし', 'いざん', 'ひめ', 'みやま', 'あやし', 'むき出し', 'ほけ', 'あいそ', 'し笑', 'くちずさん', 'にじみ出', 'あざみ', 'ぼうあつ', 'ひえびえ', 'うようよ', 'みつけよ', 'ぞろい', 'つう', 'はみ出', 'しあわせ', 'ごはん', 'うずい', 'まつ毛', 'たかい', 'にじ', 'みいつ', 'むずがゆく', 'みしり', 'とりなおし', 'みあたら', 'いやがら', 'きたなく', 'なでつけ', 'しず', 'めぐりあう', 'かたぎ', 'ふえ', 'とおら', 'すずしい', 'きょとんと', 'にょろにょろ', 'みみず', 'みかけ', 'どっか', 'かえろ', 'ひっこし', 'のろのろ', 'おなか', 'みせれ', 'もぐりこみ', 'もしゃ', 'ねむい', 'さしかかる', 'まわん', 'かきつけ', 'おめにかかり', 'みじん', 'つくだ煮', 'おずおず', 'まいっ', 'たちさら', 'かわい', 'ききほれ', 'うぐいす', 'よろこばし', 'おくり', 'すくない', 'はずかしかっ', 'ののしら', 'たい子', 'おとら', 'ぐらし', 'たとえる', 'たか子', 'まみ', 'ねむる', 'たぎら', 'ざわつく', 'とどける', 'くらべる', 'あづか', 'こびりつく', 'もの恐ろし', 'わら', 'けろりと', 'あてこする', 'みとどけ', 'ひきずり', 'ぎこちな', 'どんより', 'ただそ', 'ゆうこ', 'おりたち', 'ひそひそ', 'さなか', 'きかさ', 'くぐり抜け', 'ぐんと', 'へらす', 'はげ', 'もそもそ', 'ききとれ', 'まるめる', 'どら焼', 'うまさ', 'みたて', 'あてこすり', 'せつせつと', 'どろん', 'じわじわ', 'よこす', 'つづ', 'へーえ', 'ほざく', 'こまごま', 'あふら', 'うごめく', 'むさう', 'つのだつ', 'ぶす', 'ものものしい', 'かぶさる', 'ほととぎす', 'よこぎる', 'つきつめ', 'あてこすら', 'たいし', 'ちらかし', 'みひらい', 'みつめ', 'ささげ', 'とりかこま', 'あまさ', 'とりつく', 'わななく', 'てらお', 'はねる', 'つきあたり', 'まぬがれ', 'うちつづく', 'なんらかの', 'そうとう', 'のっぽ', 'むしり取っ', 'きかし', 'まわさ', 'かぎら', 'かえすがえす', 'ゆくえ', 'いだく', 'にたいして', 'ひじょうに', 'ようするに', 'ほどこし', 'ひろげる', 'きする', 'つご', 'ちゃめ', 'やいなや', 'ずぶ', 'たいする', 'ほうが', 'とつじょ', 'なかんずく', 'ことわろ', 'たしかめる', 'すくなから', 'したがい', 'ざす', 'わりなく', 'はかなみ', 'おとなしき', 'ふて寝', 'まつわりつい', 'そし', 'なほ子', 'たかみ', 'もじっ', 'じまい', 'ごろた', 'ごたまぜ', 'おしつけ', 'まさ子', 'まげる', 'ちょろまかさ', 'ばった', 'ふれ合う', 'ついて', 'ぱあっと', 'しまり', 'かき立て', 'すまん', 'ふんだんに', 'かきあげ', 'ぼやけ', 'かみつか', 'おっつけ', 'のこし', 'さえかえれ', 'つぎ込み', 'ねエ', 'がら空き', 'よめる', 'よろこば', 'つっきっ', 'あらい', 'あさって', 'かっこん', 'しずく', 'しわら', 'あやう', 'ぬっ', 'かっぱらっ', 'ぬすん', 'たてかけ', 'はらっ', 'ふりむく', 'おごる', 'つきあっ', 'ざっくばらん', 'かきまわし', 'お高く', 'もちこみ', 'ひっぱ', 'すれ違い', 'つき合わ', 'かたまろ', 'わりかた', 'ちゃお', 'たちゃ', 'たまりゃ', 'からまる', 'いそがしかっ', 'はる子', 'しづ子', 'のまそ', 'うばっ', 'はばかり', 'もろに', 'じゃう', 'だか', 'ふらつく', 'ひろまっ', 'とよ子', 'たまん', 'になっ', 'はさま', 'れい子', 'しれる', 'ひきつけ', 'ひくめ', 'しくじっ', 'やぶっ', 'おっかぶせ', 'あやうい', 'のぞき込む', 'くずさ', 'ひと肌', 'ひきつける', 'しぼら', 'みっともなく', 'ぬるい', 'みなさま', 'ひったくる', 'ほろりと', 'せばめ', 'あしからず', 'さり気', 'かたっ', 'へあがる', 'わたさ', 'だっか', 'もちかけ', 'あとあと', 'ゆとり', 'かけ込ん', 'あらかた', 'はぎとり', 'ときつけ', 'のぼら', 'こすい', 'ふらさ', 'いやあ', 'もやい', 'つれる', 'ちぐはぐ', 'つくろい', 'ふっくり', 'ひとこと', 'ふくらみ', 'うけとる', 'とんび', 'いまわ', 'みださ', 'かもし出さ', 'ひきこま', 'ちゃーん', 'いやー', 'やけつく', 'ふきこぼれよ', 'ゆすら', 'いそぎ足', 'おちおち', 'つぶやく', 'しゃんと', 'ひきしめ', 'おっかさん', 'たたきつける', 'まじっ', 'はきかえ', 'やすめ', 'ひきずっ', 'ひきのばし', 'はばかっ', 'いらっしゃっ', 'ねばっ', 'じん', 'ちんまり', 'くさくさ', 'きっちり', 'ざわめい', 'お八つ', 'すぎよ', 'はらん', 'つのら', 'こじつけよ', 'おでこ', 'ごね', 'たきつけ', 'お祈り', 'こめよ', 'とぼしい', 'おととい', 'かさばら', 'のぞき込み', 'よじっ', 'つむっ', 'さわ子', 'もめ', 'じじむさく', 'むくん', 'てらし', 'のがしゃ', 'かこっ', 'むきだし', 'おそくっ', 'ぼってり', 'ねじこま', 'じたばた', 'ただれ', 'ほどき', 'たぐ', 'おさめよ', 'はがゆく', 'ならさ', 'いためつける', 'しばりつけ', 'よせる', 'うわべ', 'はにかん', 'もどかしかっ', 'あーあ', 'むしゃくしゃ', 'やっとこ', 'のり出し', 'むっつり', 'はなそ', 'ふくま', 'うなずけ', 'あぜ', 'つきのける', 'だぶっ', 'まざまざ', 'のみ込ん', 'とりちがえ', 'すかす', 'ぬたくっ', 'さからい', 'さからっ', 'ひきよせ', 'さしかけ', 'よこさ', 'とりよせる', 'しわい', 'がりゃ', 'うっすり', 'ぶた', 'ちがえ', 'ぼやかす', 'かり出す', 'あおら', 'ひやっこい', 'くしゃくしゃ', 'はげむ', 'やきつけ', 'わかち', 'あくどい', 'ざわめか', 'ころがさ', 'はま鍋', 'とけ込ん', 'あたたかく', 'ぬくめ', 'つっこみ', 'とけこむ', 'あらそえ', 'そっけ', 'うけもち', 'へらさ', 'すき間', 'ころば', 'しめら', 'ふりまく', 'のぞける', 'にくかっ', 'かけ合い', 'みたす', 'しのげる', 'おっことし', 'きまら', 'かこま', 'かもし出し', 'こみ上げる', 'せか', 'こわく', 'おいしく', 'わかし', 'こころから', 'ゆるい', 'はためく', 'おおえ', 'ふみこま', 'はまりこむ', 'きりっと', 'たとえれ', 'さぐろ', 'とじこもっ', 'だいじょうぶ', 'さかのぼっ', 'しらべる', 'すごさ', 'せき上げる', 'つっこま', 'くねっ', 'とおっ', 'やける', 'ひろ子', 'もんぺ', 'じゃがいも', 'たっぷり', 'ひどかっ', 'はにかみ', 'たのし', 'やかん', 'あまく', 'つのっ', 'ことわる', 'ゆすれ', 'ひきつら', 'つきそわ', 'のろく', 'はずさ', 'きける', 'せきあげ', 'のちほど', 'うけとり', 'とんちんかん', 'みがき粉', 'ゆで', 'まがう', 'ふらつき', 'きりはなし', 'まもら', 'みたさ', 'ひもじい', 'もうけ', 'めずらし', 'おしこん', 'そえ', 'つながっ', 'がんばり', 'ふくめ', 'ぎゅうぎゅう', 'しょげる', 'ひよわ', 'よりによって', 'ほほえん', 'ひきつれ', 'ごちゃごちゃ', 'はったい', 'べそ', 'あったかい', 'かじっ', 'いがぐり', 'ぶちこま', 'ひずみ', 'がんばら', 'つっけんどん', 'ずきずき', 'すがすがしかっ', 'はまら', 'せまく', 'おいてきぼり', 'むかご', 'かげら', 'がらんと', 'とりのこさ', 'よじれる', 'とりかえせ', 'とりすがる', 'はぐらかし', 'いたずらっぽく', 'はぎとら', 'げんまん', 'あわよくば', 'こわす', 'よみとれ', 'とけこん', 'しげら', 'つらねる', 'まきこま', 'あおり', 'つらなっ', 'こじあけ', 'ゆずっ', 'からび', 'こげつか', 'かかし', 'まじない', 'あぶなっかしかっ', 'あしかれ', 'とりまとめ', 'たくしこみ', 'じじむさい', 'めりこん', 'おが屑', 'つみこん', 'たたん', 'ほぐし', 'おぶっ', 'ただよっ', 'かまち', 'ふみこみ', 'いく分', 'お忙しい', 'だきとり', 'すがすがしく', 'ぬくもり', 'ぼや', 'がっちり', 'ふりそそご', 'はじき返す', 'だぶつい', 'つつしみ', 'いたわり', 'ごて', 'つめかけ', 'もじ', 'ゆこ', 'みわたせ', 'てりかえさ', 'ざさ', 'くつろい', 'くみ上げる', 'とまどっ', 'よしみ', 'とりかえ', 'こわかっ', 'つべこべ', 'いらっしゃれ', 'くりまわす', 'てらさ', 'うけとら', 'まとまる', 'ほころび', 'よみかけ', 'あっさり', 'おそわっ', 'あばか', 'はげ落ち', 'きたなかっ', 'ずけずけ', 'ごたつい', 'くさ', 'わかす', 'えばり', 'ひど', 'おじけづい', 'こだわる', 'のき', 'おかあさん', 'きつかっ', 'もぎとっ', 'はこば', 'ふみしめる', 'はき出さ', 'つらぬい', 'ときの声', 'とどろい', 'かかげ', 'うらら', 'しゃちこばら', 'ねっ', 'つつみこま', 'しがらみ', 'あかせ', 'もとの木阿彌', 'つつも', 'へつらい', 'はやっ', 'ゆきづまり', 'つのれ', 'たかまっ', 'ろくに', 'よごし', 'のっかっ', 'おさまり', 'もりたて', 'くわさ', 'ぶかぶか', 'すてる', 'つまずか', 'とりあつかう', 'はりつけ', 'もっての外', 'そそぎ', 'べったり', 'くばり', 'ぎこち', 'ふみ子', 'つらぬき', 'あばずれ', 'のぞま', 'ささえ', 'たたかい', 'ひろめ', 'うつりかわる', 'たかめ', 'とりあげる', 'とりたて', 'あつまり', 'うかがわ', 'くず', 'のほほんと', 'いまわし', 'つむじ風', 'めぐり合わせ', 'なしとげ', 'あとがき', 'さぐれ', 'かかわり合い', 'うなずか', 'おしすすめる', 'つくり出さ', 'とらえよ', 'たえる', 'かなう', 'ぐらつき', 'ただしく', 'ふくらまし', 'ふくらむ', 'ふくみ', 'ひるがえって', 'とりおとさ', 'なおかつ', 'にがい', 'くちおし', 'うちつけ', 'こだま', 'とりまぜ', 'なげつけ', 'もだす', 'つくそ', 'なまなましい', 'とり入れる', 'はたす', 'あばれろ', 'いきいき', 'せんめい', 'ちゅうちょ', 'かえりみれ', 'おこなわ', 'のがせ', 'やぼ', 'おぼつかない', 'もつれ合い', 'ひと頃', 'ひところ', 'こめる', 'あぶなっかしい', 'ぬけで', 'うけつが', 'くちおしい', 'きずな', 'ふるまえ', 'からく', 'とおれ', 'ひっこむ', 'ともなっ', 'たから', 'しそこなっ', 'すくわ', 'ふたつながら', 'あたえ', 'くねり', 'おけら', 'かえせ', 'いかがわしき', 'つきつめよ', 'かね合い', 'おこす', 'ついて行っ', 'まとめよ', 'かえりみる', 'からみ', 'うながさ', 'おしつぶし', 'ひしゃげ', 'たつき', 'はねとばさ', 'さらす', 'ぼやかさ', 'しのい', 'はぐくま', 'うばわ', 'よみとろ', 'ゆたか', 'うけいれ', 'つづまる', 'とりのぞい', 'そがれ', 'もみ合い', 'めぐら', 'よりわける', 'うけつけ', 'やとっ', 'ためらう', 'にべ', 'たかろ', 'やぶい', 'ふきかえし', 'しみ入っ', 'ねじこん', 'しなやか', 'よびさまさ', 'はめこま', 'おくれ毛', 'そよぎ', 'ひきとら', 'たいまつ', 'もち前', 'むき出さ', 'ものかげ', 'くるみ', 'とりかわさ', 'まぎらし', 'たのしん', 'すごす', 'ふりすてる', 'ころし', 'すがすがし', 'おどれ', 'うなずける', 'まぎらそ', 'あらそっ', 'もりかえす', 'おなじみ', 'おかき', 'おもしろ', 'とおす', 'いきりたち', 'ひしが', 'さそり', 'きらう', 'よび名', 'かがま', 'さしひかえ', 'づけよ', 'つめよる', 'なりたつ', 'そらそ', 'こじつける', 'このむ', 'いくた', 'くさび', 'にとり', 'のぞん', 'まぎれこん', 'いちじるしい', 'ゆき悩ん', 'ひきおこし', 'よば', 'そま', 'のびのび', 'からん', 'なまぐさい', 'まにまに', 'ひたす', 'あさる', 'くみ', 'しげ子', 'あらわそ', 'しりぞける', 'ひらける', 'おくっ', 'まぬかれ', 'ほうふつ', 'ひるがえし', 'はこび', 'つつしん', 'あじわい', 'ぎくしゃく', 'ひいき', 'ひとしお', 'しゃくい', 'たぬき', 'はったり', 'ふさわしく', 'くぐりぬけ', 'かしぐ', 'とりしまり', 'ねつ造', 'つみこま', 'ときはなさ', 'とおさ', 'とかさ', 'いかす', 'よろこばしい', 'まもり', 'たかまり', 'くいちがい', 'すっぱり', 'つらぬか', 'ねむれ', 'ひきぬい', 'したがう', 'かき乱し', 'ひと一', 'とりかえす', 'かき乱さ', 'がたつい', 'ののしっ', 'このん', 'かすめとっ', 'きりはなさ', 'たのしい', 'みちびきださ', 'おしあげ', 'しなび', 'もがき', 'もりこん', 'くさかっ', 'するど', 'もてはやさ', 'みずぎわだっ', 'きたえる', 'とけあう', 'ときほぐし', 'さかのぼれ', 'なりたた', 'まだるっこい', 'こらし', 'とりどり', 'こまか', 'とりすがっ', 'よびさまし', 'ひとくち', 'となえる', 'おどろかせ', 'はがれ', 'ぬきがたい', 'ひきおこさ', 'めざす', 'もちこし', 'よりあつまっ', 'しらふ', 'たしなま', 'かたくるし', 'かたくるしく', 'さばけ', 'くすぐる', 'このんで', 'たのしま', 'ひきつづき', 'うらみ', 'おくらさ', 'わかり易', 'ひきはなし', 'つけどころ', 'おわさ', 'しばら', 'あふれる', 'さえわたる', 'おびやかし', 'まとまっ', 'あなどり', 'はかれる', 'こまら', 'いあわせ', 'よりぬき', 'ろうし', 'うちこん', 'なまぬるい', 'あえい', 'うちこめる', 'つらぬきとおす', 'ずっしり', 'むさぼり', 'しみこん', 'こぼさ', 'きずく', 'こがす', 'ひきい', 'はなはだしく', 'たらい', 'まなざし', 'とりとめる', 'しみとおっ', 'わたら', 'あえぎ', 'かたむけ', 'ないまぜ', 'みなぎり', 'さかのぼり', 'つよみ', 'やりきれなく', 'くりかえす', 'いりくん', 'ながさ', 'ひ弱く', 'あてはめる', 'ふやさ', 'きよい', 'こびる', 'なおざり', 'まごつか', 'のれ', 'せち辛い', 'ともども', 'すくい上げ', 'すべり込ま', 'きよせ', 'すばしこ', 'つめかける', 'かなっ', 'ゆき渡っ', 'さし迫っ', 'ふせげる', 'きびし', 'わりこま', 'のりうつる', 'はらす', 'くつろが', 'すたれ', 'お歴々', 'とりのぞか', 'すてよ', 'ひるがえり', 'まめ', 'びき', 'すすむ', 'ふえる', 'やぶり', 'うちくだか', 'しいたげ', 'うちやぶる', 'ぎせ', 'とりもどさ', 'しめさ', 'くみたて', 'きらっ', 'たのしく', 'きりひらか', 'ねじまげる', 'いいまわし', 'ほこら', 'かわれ', 'すっぽかし', 'かち', 'お気づき', 'しばる', 'ときはなし', 'つましく', 'ひびわれ', 'もらす', 'あどけな', 'よちよち', 'くすぐり', 'たいこ', 'かち得', 'たたかわ', 'おしかぶさっ', 'しらさ', 'きざし', 'なくさ', 'まどわさ', 'ふりまか', 'あざむか', 'まちがっ', 'かかげる', 'おかそ', 'よみとら', 'くらべれ', 'もれなく', 'とりそろえ', 'うらぎる', 'みたし', 'おびやかす', 'ゆだね', 'ひきあい', 'けなす', 'とびちら', 'しのご', 'つかさどる', 'むし暑い', 'くれぐれ', 'わからず屋', 'おもいやり', 'ちぢみ', 'うろつく', 'つめる', 'ねかす', 'かちあっ', 'そぐわない', 'まぎれ込ま', 'のたくら', 'とびとび', 'か所', 'しらし', 'はからい', 'はみ出る', 'ふせら', 'へばっ', 'あたえる', 'あらわれれ', 'なおる', 'いらだっ', 'あおい', 'あおぐ', 'はくり', 'お手本', 'みにくい', 'さようなら', 'みつかり', 'おばあさん', 'しこっ', 'かき消さ', 'しゃく', 'うずまき', 'しゃぶる', 'しこり', 'なで', 'よくなれ', 'みつから', 'しぶい', 'あったまっ', 'お互い様', 'ねっちり', 'ふにゃふにゃ', 'たたも', 'つぎ足し', 'つぎつぎ', 'はぎの', 'まぶしけれ', 'どける', 'とりつける', 'かみ殺し', 'こうむり', 'むし暑く', 'この上ない', 'なおら', 'まぶしい', 'かけがえ', 'むくみ', 'こぎつけ', 'わずらわさ', 'すっからかん', 'へんぽん', 'よみとる', 'やぶる', 'あやしみ', 'よくばら', 'もうけよ', 'どてら', 'きゅう', 'のうのう', 'いだけ', 'おじ', 'ほっぺた', 'まぶしく', 'あらたか', 'うるさ型', 'しみつい', 'へきえき', 'お祝い', 'かわか', 'かかりつけ', 'お菜', 'うなぎ', 'けいれん', 'あんこ', 'どなりつける', 'かち合っ', 'こだわら', 'こうむっ', 'こもり', 'お釣り', 'ぬくもっ', 'やわらかい', 'のめ', 'うっ血', 'いたわら', 'やめれ', 'あて外れ', 'かつぶし', 'のどか', 'たが', 'ついてよ', 'お幸せ', 'ねかしつけ', 'なでる', 'にくまれ', 'きたならしい', 'どうこう', 'あけすけ', 'おしかくし', 'いだい', 'にくらしい', 'みかん', 'あざなえ', 'たちばな', 'ちぢこまっ', 'ころべ', 'ことわざ', 'むくい', 'もうろう', 'お七夜', 'お便り', 'かつお節', 'けずっ', 'さらし木綿', 'くだき', 'だく', 'けんか', 'ふっかけ', 'とうもろこし', 'つたわり', 'じぶくっ', 'つれ去ら', 'まるめ', 'なきじゃくり', 'あしき', 'たけりたっ', 'たたき込ん', 'かき集めよ', 'おもねる', 'あがなわ', 'ゆきづまっ', 'でっち', 'とりまく', 'うごめい', 'いいあう', 'お伽', 'いじめる', 'ありあまっ', 'こりかたまっ', 'つかえる', 'あり方', 'けおとさ', 'てっとりばやい', 'へらし', 'こさ', 'ほかなり', 'うらぎら', 'くるわせ', 'みっともな', 'まみえる', 'おもえる', 'おもいおこさ', 'にたいする', 'かずか', 'うちこま', 'さばか', 'もが', 'つぐない', 'うばう', 'あれらの', 'かばわ', 'はつぎ', 'なまやさしい', 'たちいたろ', 'とりしまる', 'とりしまれ', 'にらみあわし', 'おもいこま', 'とまどい', 'とかせる', 'あかるく', 'うちやぶら', 'つづら', 'くるしく', 'たちゆか', 'いちどきに', 'でれ', 'かきくどく', 'しぐさ', 'ひきずりこま', 'うちあわさ', 'たえがたい', 'おどす', 'むしゃぶりつい', 'めぐりあっ', 'およぶ', 'おもに', 'まっ先に', 'いたま', 'きりかえ', 'はじき出さ', 'まかない', 'もてなさ', 'けなげ', 'まぶた', 'ひたと', 'しおらしかっ', 'ゆるめる', 'せっぱ', 'あわてふためき', 'かなぐりすて', 'たばから', 'よろこばしく', 'さやさや', 'のりと', 'おりゃ', 'こごみ', 'すごん', 'めんご', 'ばあちゃん', 'すっぽん', 'ととのえる', 'なくなれ', 'あのように', 'うるん', 'おどけ', 'ゆらめい', 'ぶらつこ', 'めずらしく', 'けばけばしい', 'くくれ', 'まめまめし', 'さしまねく', 'からっぽ', 'うつりかわり', 'いえよ', 'うかべる', 'ただ中', 'みいだし', 'かもし', 'つつん', 'くっきりと', 'へだたっ', 'すきとおっ', 'ざわめく', 'こごん', 'みわたす', 'くすん', 'お下げ', 'かけまわら', 'けばだっ', 'っぽかっ', 'はっぴ', 'でく', 'みつける', 'どら声', 'なみなみ', 'ぶっこぬき', 'めぐらさ', 'からり', 'えび茶', 'よりそっ', 'したしめる', 'お伽噺', 'しめ切っ', 'はた目', 'はらま', 'ひろがろ', 'ねじら', 'うなじ', 'ふくらし', 'みちる', 'つややか', 'わたせ', 'ときめく', 'しぶき', 'ずっぷり', 'さぐりあて', 'かえさ', 'のめりこん', 'かき出し', 'かぎつけ', 'うつろい', 'ぬか', 'つんざく', 'やきつく', 'むごく', 'からまり', 'ひねる', 'にしん', 'わかろ', 'しずまり', 'しきる', 'せめかけ', 'かさなっ', 'つきつめれ', 'むらがっ', 'うるおわ', 'のこらず', 'たすき', 'うけもた', 'のばそ', 'へだたり', 'さかせ', 'かけちがっ', 'さとる', 'のたうっ', 'びっしり', 'もやし', 'かかわりあわ', 'よみかえし', 'ゆるぎ', 'つたえる', 'もたげ', 'おろかし', 'とどい', 'むすん', 'ふたつ', 'うけとれ', 'ささっ', 'たんす', 'さし絵', 'ひきしまる', 'ぶちこむ', 'かしこい', 'くわせ', 'のがさ', 'ひきずりだし', 'ひっぱたく', 'かがん', 'あやどり', 'しぼん', 'かえりみ', 'ふりかえる', 'あえる', 'さばく', 'よみあげる', 'ひろば', 'せつなく', 'はめ込ん', 'まくれ', 'ある時', 'まと', 'もぎっ', 'すり抜けよ', 'ふかす', 'まつの', 'うぬぼれ', 'まどい', 'あかぐろく', 'やせる', 'よわく', 'さむい', 'こさえ', 'ほとばしっ', 'ことわら', 'あすなろう', 'さか', 'どた靴', 'つつましき', 'ぬるく', 'きよく', 'よこぎっ', 'すごせる', 'このもし', 'はりきっ', 'たずさわる', 'なごん', 'なしとげる', 'あやまて', 'よこたえ', 'あじわわ', 'せり出し', 'あまえる', 'ちいさく', 'すもも', 'おとうさん', 'うまくっ', 'つがえ', 'うさん', 'けかえし', 'してやっ', 'とりこ', 'なつく', 'かわいがっ', 'すやすや', 'なやみ', 'ひっくりかえる', 'つまぐり', 'かたき', 'ついて行き', 'いたいたしい', 'つの', 'はだれ', 'てんぐ', 'にらめ', 'もじゃもじゃ', 'そろえよ', 'なぎなた', 'うわさ', 'はだかり', 'ほしけりゃ', 'つきとばし', 'にいさん', 'ほろぼし', 'あおむい', 'ぽっつり', 'ふわり', 'けがし', 'みきっ', 'すそ', 'さかな', 'まとい', 'うらめし', 'いくえにも', 'くりくり', 'かわいらしい', 'つかまえよ', 'みちみち', 'と金', 'ゑみ', 'うつくしく', 'ゑん', 'しめて', 'ひきずりこむ', 'いがみ', 'たんぼ', 'しり込み', 'ふるは', 'ゑむ', 'ひもじ', 'ふり向き', 'なざし', 'よろこべ', 'はまこ', 'むつかしかっ', 'かきなさ', 'かじかん', 'ひきたて', 'ちょっぴり', 'とり入れ', 'つぶす', 'あんど', 'かしぎ', 'やすの', 'またの名', 'きんかん', 'おいらん', 'いとう', 'くるり', 'もとづく', 'すすけ', 'さんじよ', 'ひさぐ', 'よべ', 'あてはめよ', 'なつかしむ', 'につか', 'お定まり', 'ぞくし', 'ゆかた', 'たけだけしい', 'おやっ', 'はかりこま', 'なまこ', 'かたまる', 'おがむ', 'どん底', 'またせ', 'おもいがけなく', 'あさの', 'なあんだ', 'むしゃぶりつき', 'はしょっ', 'ふさぎ', 'めずらしくっ', 'ほの暗い', 'どじょう', 'お姫さま', 'ものいう', 'あきる', 'まっ青', 'たくしゃ', 'お多福', 'くりゃ', 'だしゃ', 'もうしこん', 'おとめ', 'いちょう', 'しんわ', 'ひからびる', 'いとわ', 'まつり', 'がみがみ', 'めっかち', 'よみこん', 'よた', 'づくし', 'おかず', 'も本', 'かんげ', 'えらび', 'ねむらせ', 'そこねる', 'へんい', 'ねたん', 'ひくい', 'さかせる', 'いつかしら', 'はせよ', 'お日様', 'つくりなさ', 'つけこん', 'くさらす', 'まぎら', 'たじろい', 'どしり', 'はみ出さ', 'ちらつか', 'ずらせ', 'みこま', 'まさぐり', 'めかせ', 'したう', 'めぐらす', 'べた一面', 'うすら寒く', 'のける', 'ばつた', 'のろま', 'ひらたく', 'やいやい', 'すっぱ', 'ぶすりと', 'つぎこん', 'けい', 'まどう', 'たみ', 'やすま', 'きこみ', 'たるむ', 'しめきっ', 'ほてり', 'のぼせる', 'ものおもい', 'ぬわ', 'なまめい', 'まげて', 'かわりゃ', 'あまい', 'かけあい', 'すわり', 'ひっかけよ', 'ちりちり', 'うずめる', 'とぎれ', 'ばば', 'かぶら', 'う曲', 'はえる', 'まぎらせ', 'ふらせ', 'かけこん', 'しぼる', 'ぐっしょり', 'うごめかし', 'ひがん', 'しわがれ', 'よろしけれ', 'さしまねき', 'かき集め', 'ためらっ', 'しゃぶっ', 'ひと足', 'ともり', 'せまっ', 'つぶつぶ', 'もぐる', 'うるささ', 'ねころん', 'むかつい', 'ぬるりと', 'とんとん拍子', 'はえ', 'うずら', 'なえよ', 'なえ', 'つも', 'たびだつ', 'かなえよ', 'がつがつ', 'うろ抜い', 'ちぎ', 'やさう', 'ともなえ', 'あがい', 'つぶる', 'みさ', 'ばあさん', 'か働', 'やしなえ', 'なくす', 'そら耳', 'とめど', 'ふ報', 'たぎる', 'はね返さ', 'くく', 'ゐろ', 'おろせ', 'ひょろ長い', 'めげ', 'とだえ', 'むせる', 'そらせ', 'わるがしこ', 'うたぐり', 'きらわれる', 'いらだたしい', 'ぎらつか', 'きねづか', 'せんぎ', 'じっとり', 'にじま', 'いどま', 'しげかっ', 'つどっ', 'まがる', 'すさん', 'すすき', 'ういういしい', 'しゃくり', 'つくも', 'なめる', 'おおう', 'どろり', 'わきの下', 'つけ根', 'もれる', 'ひからび', 'たわいなく', 'へぐ', 'あざわらう', 'ひくひく', 'のど笛', 'けどら', 'いらだたしく', 'ふける', 'たるん', 'またがっ', 'せわしない', 'いちず', 'みだら', 'すずし', 'なまめかしい', 'うねら', 'わき見', 'まばゆく', 'さわがせ', 'にくむ', 'にらみ合い', 'じじ', 'せせらぎ', 'かなしく', 'かたまら', 'さわがし', 'まがっ', 'かっと', 'へばりつか', 'つむ', 'わらわ', 'すごせ', 'におっ', 'べっとり', 'とびかう', 'ごい', 'ひかされる', 'くねら', 'なまめかし', 'うたぐっ', 'むずがゆい', 'むなしく', 'もてあそび', 'ふみこん', 'ふりまい', 'ちぢれ', 'はげ頭', 'つぎこも', 'おどりこむ', 'もぎ', 'かみつく', 'あざわらっ', 'もどす', 'のばさ', 'はね返そ', 'あわれむ', 'しぶしぶ', 'にじり', 'ずえ', 'つれそう', 'つきつける', 'かがやか', 'かなお', 'きらわれ', 'にじり寄り', 'すわりこん', 'たかぶっ', 'おもしろかろ', 'たちこめ', 'さしずめ', 'さしまねい', 'ぬかる', 'たばさみ', 'ふりかざし', 'つがい', 'ちょうと', 'かぶりつい', 'とびのき', 'ゆるむ', 'とがり', 'ののしる', 'たたずみ', 'いら立た', 'とがっ', 'ひしめき', 'ひるん', 'びょう', 'ほえる', 'と腹', 'くぐりぬける', 'ふみにじっ', 'ふみつけ', 'かみつい', 'むさぼっ', 'したたる', 'ゆっ', 'かき消し', 'わき返っ', 'おどりかかる', 'ほえ', 'いら立て', 'しょせん', 'おぼれよ', 'きわどく', 'わが物顔', 'ちぎれちぎれ', 'いさぎよく', 'かまびすしい', 'おぼつかなく', 'ずり落ち', 'むごたらしく', 'いたわっ', 'ひるがえっ', 'うずくまり', 'ゆれる', 'つぐん', 'はずかし', 'はやし立て', 'やどる', 'いたましい', 'おごそか', 'しらま', 'くらわせ', 'たばか', 'すえる', 'しどろ', 'とびこま', 'あえない', 'へだてる', 'ひらめかし', 'つかみ合い', 'むしる', 'ささやく', 'ぬぐっ', 'たける', 'すみやか', 'すさまじく', 'うずまく', 'いざよい', 'あおむけ', 'おびえる', 'きりぎりす', 'はいで', 'とぎれとぎれ', 'ねがえり', 'しんぼうづよく', 'もみじ', 'とざし', 'ただ事', 'つっ伏し', 'ひっつかん', 'おふくろ', 'こづい', 'いかめし', 'ここちよく', 'ひきとっ', 'こずえ', 'とびのっ', 'つらなる', 'ひら', 'ためす', 'ちはつ', 'おりよ', 'ぽし', 'くたば', 'ぬかるみ', 'もぐ', 'きしる', 'のがれる', 'お神輿', 'むさくるしく', 'かげる', 'ぶらつい', 'とどく', 'いく子', 'やさしくっ', 'なびき', 'またとない', 'しずしず', 'びくつか', 'たなびく', 'ぬきとっ', 'しおしお', 'とびかかり', 'つっぷし', 'びゅう', 'ふさふさ', 'まざら', 'しなら', 'ちらめく', 'ぶち壊す', 'へし合い', 'つづり', 'こだわり', 'しみこま', 'ふりまき', 'ぐしょぬれ', 'きば', 'かぎ裂き', 'かっぽ', 'かちかち', 'にぎやか', 'であるく', 'うちゃ', 'とどき', 'さじ', 'こっけい', 'せんじ', 'あがなっ', 'すりきれ', 'うずたかく', 'せっけん', 'べべ', 'あざらし', 'ほうき', 'たわし', 'こうむろ', 'よせかけ', 'ちよこ', 'お子さん', 'あやす', 'へが', 'さく子', 'なつかしかっ', 'せちがらく', 'よわき', 'あらそい', 'お飾り', 'いろり', 'りんご', 'おもむく', 'ほろびよ', 'くわだて', 'そうなっ', 'はち切れる', 'つき抜け', 'いとこ', 'ほっそり', 'いさぎよし', 'よだれかけ', 'ゆすぶり', 'ほほ笑みかけ', 'うってつけ', 'ばっさり', 'ぺろぺろ', 'うろこ', 'ちらっと', 'お次', 'もの淋しく', 'やり取り', 'ぎょろぎょろ', 'ひったくろ', 'はめ込ま', 'もぎ取る', 'ぱちくり', 'すいすい', 'また下', 'すばらしかっ', 'そよ風', 'しゅっ', 'ぶっ続け', 'よじり', 'しくじら', 'くわっと', 'ぽろりと', 'おそれながら', 'お呼び', 'おべっか', 'すすま', 'こわがる', 'はしゃい', 'ばらまい', 'たちまちに', 'くたくた', 'たんぽぽ', 'ちんちん', 'さえぎっ', 'たくらみ', 'なおり', 'さわれ', 'ため込ん', 'いまいましく', 'おこなっ', 'ほしかっ', 'ただよわ', 'ふりかかっ', 'すすり泣き', 'つよう', 'すすっ', 'おいし', 'のみ込も', 'こちこち', 'どたばた', 'すがりつき', 'しゃちこばっ', 'やわらげ', 'ふりかける', 'びしょびしょ', 'ぴょんぴょん', 'なごや', 'あそべる', 'つまんない', 'ぱりぱり', 'またい', 'つぼみ', 'しょっちゅう', 'つまずい', 'けなし', 'ほどけ', 'ほどく', 'かくれんぼ', 'めぐみ', 'のがす', 'いじわる', 'わきおこっ', 'うら悲しい', 'そうっと', 'ひっ込め', 'とどろき', 'かぶと虫', 'じいさん', 'まき散らし', 'まき散らさ', 'つねり', 'かしこく', 'ふりつもっ', 'へこたれ', 'さしのぼっ', 'こころよ', 'ふるいおこさ', 'ながれおちる', 'にょきにょき', 'おそいかかっ', 'たたえる', 'おそれる', 'つくりかえる', 'さからお', 'ふさわしかっ', 'つぶだっ', 'もげ', 'おかす', 'やってのけよ', 'いさめ', 'ぺしゃんこ', 'ちょん', 'すぼまっ', 'ほど遠く', 'やわらかく', 'うまごやし', 'ぐっすりと', 'あごひげ', 'ごたえ', 'お鉢', 'ゆりうごかし', 'どんぐり', 'とり方', 'すべり込み', 'なずま', 'ちらっ', 'もげる', 'やんわり', 'いっぺん', 'ぬりたくる', 'ねむく', 'かなで', 'おだまき', 'つましい', 'ろくな', 'つむい', 'たがやし', 'みのり', 'いつくしみ', 'くいつき', 'くっつく', 'じじい', 'うちとけ', 'すばしこい', 'つれあい', 'もたれかかり', 'でまわっ', 'がぶ飲み', 'どくどく', 'ぱさぱさ', 'よくもまあ', 'すいかずら', 'はち切れ', 'もくもくと', 'とけ込む', 'つかわす', 'もてなせ', 'けちけち', 'すっぱい', 'じゃれ', 'かけはなれ', 'おすすめ', 'すすい', 'なくしゃ', 'のたくる', 'ためらわ', 'のろくさく', 'ぐらつく', 'おぼしい', 'かかえ込ん', 'あとずさり', 'へとへと', 'ねそべり', 'ころさ', 'にらみ', 'はめ込み', 'ことみ', 'いなない', 'あおっ', 'くっつき', 'はしっ', 'ひっくりかえさ', 'はげし', 'がっぷり', 'ちらばっ', 'こわがら', 'ぽろぽろ', 'ひやかし', 'つぐなわ', 'いさぎよい', 'ふるまう', 'はたらきかけ', 'いたれ', 'はぎ', 'かならずしも', 'いこじ', 'ねたみ', 'うわなり', 'かたろ', 'ほうり出す', 'もたす', 'あがない', 'たるみ', 'しろしめす', 'たてまつら', 'さしつぎ', 'つきあげる', 'やちよ', 'はかどら', 'さやか', 'くるめき', 'いみ子', 'ちろ', 'もの寂しい', 'ほぐれる', 'お流れ', 'おしく', 'おしくも', 'せつか', 'ふる里', 'はらから', 'ひと目', 'おびか', 'くね', 'はなやい', 'ひよめき', 'こじる', 'こじあける', 'ちぎら', 'まさぐ', 'はかま', 'くれろ', 'こねる', 'しかける', 'おちつか', 'すばやい', 'いざこざ', 'おしつける', 'せがま', 'とりつげ', 'はなやが', 'すゑの', 'こんなにも', 'のどけ', 'とめの', 'いきり立つ', 'たぶ', 'かいまみ', 'とりつぎ', 'なご', 'おもや', 'まどろん', 'くり上げ', 'さくい', 'さかし', 'ひきちぎる', 'つきさし', 'いきまい', 'ひと言', 'おどん', 'げんげ', 'はためき', 'ほの暗', 'あみ', 'もろ手', 'たまみ', 'とばす', 'きまじめ', 'どだい', 'しみこむ', 'うねめ', 'つくねんと', 'ずんと', 'まぜ返す', 'くぎ', 'ふりわける', 'みわ', 'ひそまり', 'つくね', 'おりたつ', 'さとし', 'きしみ', 'つんざい', 'あらたまる', 'そぎ', 'きみの', 'ねろ', 'すがめ', 'ふすべ', 'はせれ', 'ほくそ笑み', 'ひきつい', 'みあげ', 'にせよ', 'うなづける', 'ささげる', 'のどけき', 'よろこばせ', 'ゑま', 'われ目', 'いかめしき', 'ちかづき', 'まざれ', 'およべ', 'かくせる', 'わたつみ', 'さだか', 'さけび', 'いざとく', 'ろんじ', 'ちかづく', 'ねば', 'とくみ', 'むらがり', 'みなと', 'こころよく', 'しなれ', 'けだかき', 'いでたて', 'こぼつ', 'ふぎ', 'はこべる', 'うせよ', 'ひくく', 'けだかし', 'さとれ', 'はげまさ', 'あやしめ', 'ねが', 'えむ', 'さとれる', 'よわれ', 'おこたれ', 'うかば', 'かざれ', 'さきだち', 'よわめ', 'かたむけよ', 'そのかみ', 'つくれる', 'たくましき', 'ゑめ', 'いかめしく', 'ともこ', 'やくも', 'さけぶ', 'たどり', 'さまたげ', 'いろどれる', 'おそし', 'みちびく', 'かむる', 'かろんず', 'あまれ', 'かこむ', 'とみえ', 'ひれふし', 'ひれふさ', 'まじれ', 'よれる', 'はこぶ', 'はこべ', 'ひきいれ', 'たかぶり', 'たかぶれ', 'みおろす', 'この内', 'むちうつ', 'しぼれ', 'あつかましく', 'いたましき', 'わたれ', 'つよき', 'まばゆう', 'みし', 'はげしき', 'したたらす', 'くだれ', 'むくいよ', 'ひとしき', 'よろめか', 'しこれ', 'みする', 'おちいり', 'たのもしき', 'へず', 'とどむる', 'より目', 'ときあかし', 'よろこばす', 'まもる', 'ひいでよ', 'わたれる', 'ちみつ', 'はしめ', 'あらた', 'かたむか', 'むけよ', 'おそ', 'かたれ', 'あふる', 'なやまさ', 'いだける', 'うすらぎ', 'がたき', 'とりのぞける', 'さとく', 'あなどら', 'ちらばれ', 'ちかづける', 'ふとく', 'ふりむき', 'おくれる', 'くるしめ', 'ゆるげ', 'まされ', 'たせよ', 'ときあかす', 'ゆかし', 'いたましく', 'ひきしぼれる', 'わかて', 'したしみ', 'さししめす', 'ゆかしき', 'なやまし', 'はやめよ', 'かこめ', 'みちびけ', 'そよふく', 'とどまり', 'まさら', 'きよめ', 'みなす', 'あかるき', 'むくれ', 'あやまれる', 'よたり', 'おご', 'いだか', 'たちあがれる', 'そそぐ', 'うつれる', 'きびしき', 'かたまれる', 'めざましき', 'くいよ', 'とめどなき', 'ちらばる', 'こよなき', 'とまれる', 'なやます', 'つなげ', 'いとなむ', 'みちびける', 'かこめる', 'もとれ', 'ゆらぎ', 'うとみ', 'はわ', 'たちあがり', 'はなれよ', 'らせん', 'まばゆから', 'およ', 'まるごと', 'あらたまり', 'へせ', 'へだたれ', 'はたらく', 'えらば', 'かたよる', 'ひかれ', 'ひかる', 'ひつぎ', 'やどれる', 'あづから', 'しるせる', 'もとづき', 'はぐくめる', 'かたより', 'むちうち', 'そねみ', 'にせる', 'にる', 'ちらつき', 'すが', 'かたよれ', 'しめじ', 'つぎこみ', 'ませよ', 'へぎ', 'みかの', 'ひそむ', 'みちびい', 'はさむ', 'えらべ', 'もだし', 'いちじるし', 'まがれる', 'うながし', 'ひそみ', 'はやき', 'くだせる', 'みちびか', 'あやまらし', 'さけべる', 'うながす', 'ほろ', 'なみせ', 'たぐる', 'なやませる', 'ぶち込む', 'もぎ取ろ', 'おまわりさん', 'ありがと', 'もちあがろ', 'お勤め', 'お誘い', 'うつけ', 'ちかぢかと', 'ひらめく', 'こじれ', 'お陰', 'いぶかり', 'つきあい', 'はいりこま', 'ふりだし', 'ぼつぼつ', 'お目にかから', 'もの静か', 'おとなび', 'なじる', 'ときおり', 'のぞかせ', 'その日', 'めす', 'こじらせ', 'ゆらめき', 'まんじりと', 'ふりみだし', 'きしっ', 'しどけない', 'うけいれる', 'すれちがう', 'よもやま', 'くぐり抜ける', 'まめまめしく', 'とかす', 'ぬすみ', 'かこう', 'けだる', 'ぶらつき', 'さまよわ', 'めいる', 'せこ', 'うすら寒', 'とりつくろっ', 'はねかえし', 'ときめか', 'つきで', 'ふきつけ', 'らっしゃっ', 'おやすみ', 'こっぴどく', 'しめつける', 'さがら', 'とりかわし', 'っと', 'これまでに', 'そう明', 'ひび割れる', 'なぶら', 'めいら', 'すげなく', 'あっけない', 'たどたどしい', 'あかるかっ', 'ほてら', 'こぐらかっ', 'ふさがっ', 'せき込む', 'もどかしい', 'じいっと', 'はき出す', 'はまり', 'からす', 'たいよう', 'らっしゃら', 'ちらさ', 'ふんづける', 'ふれあっ', 'みょうに', 'すれちがお', 'おっとり', 'からみあわ', 'からみあっ', 'まぎ', 'つくり上げ', 'あほらしく', 'こしかけ', 'えんじ', 'よそおっ', 'なおせ', 'あかん', 'うなれ', 'だまら', 'やりなおそ', 'やとわ', 'とびきり', 'ぼそっと', 'かられ', 'わずらい', 'もとっ', 'くじけ', 'おっぱじめ', 'むかう', 'もちかける', 'たてよ', 'まずしく', 'ひょんなことから', 'むかいあっ', 'つくろう', 'いいのこし', 'つむぐ', 'つむが', 'ほうび', 'ひと晩', 'つむげ', 'びわ', 'しあげ', 'まんぞく', 'しゅび', 'しとげれ', 'のぞむ', 'かんにん', 'しゃくりあげ', 'のばせる', 'でまかせ', 'きんじ', 'たくる', 'うさぎ', 'おやすみなさい', 'たき火', 'あけれ', 'めでたい', 'もうし', 'うずまる', 'いかり', 'たけっ', 'まっぷたつ', 'ひきさい', 'いっしん', 'はりだし', 'かくばっ', 'ゆうぜんと', 'ねずみ色', 'はたそ', 'ぞんぶん', 'くらげ', 'すえつけ', 'きたえあげ', 'なみはずれ', 'みせよ', 'こころざす', 'たべよ', 'ちかっ', 'じゅうぶん', 'しとめる', 'まきあげ', 'おがみ', 'そびえる', 'もえる', 'さわぎだし', 'ふきすさん', 'つみあげ', 'くるい', 'ふきすさぶ', 'まわれ', 'くめよ', 'わきでる', 'つみこむ', 'でかけ', 'うきだし', 'つづる', 'ゆうゆう', 'ぎゃく', 'つきかえし', 'ひろめる', 'びくとも', 'できあがり', 'ひきだし', 'ごきげんよう', 'くみこん', 'きりあげ', 'ごつごつ', 'ゆるがし', 'はねあがる', 'ぽかっと', 'ひきあげる', 'するどい', 'ひれ', 'むしゃ', 'とりで', 'わかい', 'つきだし', 'もつれあっ', 'とっても', 'がんばれる', 'がんばる', 'めいっ', 'けたて', 'かたっぱし', 'みじかい', 'ひっくりかえそ', 'もりあがっ', 'しずむ', 'つみかさね', 'ぞう', 'うかびあがる', 'うちとら', 'はらせ', 'もりあがり', 'ゆすぶっ', 'かかん', 'ちかづい', 'きりたっ', 'ひっかから', 'はねかえる', 'うちよせる', 'くるう', 'さけろ', 'ひっかい', 'ゎ', 'しみわたる', 'はたせる', 'はねかえっ', 'もみくちゃ', 'かたむき', 'けが人', 'さしせまっ', 'くだける', 'もちあがっ', 'つきぬい', 'かよっ', 'うちこわし', 'うちあげ', 'くいこみ', 'おしわけ', 'おそわれる', 'およい', 'しんぼう', 'まもれ', 'しばれ', 'つるはし', 'のこぎり', 'ぬから', 'みっちり', 'はこびだす', 'はげしかっ', 'おそいかかる', 'ふろしき', 'うちやぶり', 'しのげ', 'ぐらぐら', 'ちらばり', 'わすれる', 'くつ下', 'みこみ', 'あいま', 'なくなら', 'たてがみ', 'もてあそば', 'あれくるい', 'すごく', 'ひらたい', 'はいあがっ', 'じょうぶ', 'えんさ', 'ぶらさがる', 'のばせ', 'あがろ', 'たれさがっ', 'ひたっ', 'あんがい', 'ひろいあげ', 'ぬらさ', 'さがしだし', 'しばり', 'うかす', 'いさみたっ', 'あつめろ', 'くいな', 'くだもの', 'あわ立っ', 'かい出し', 'よくばっ', 'きりあげよ', 'じゅんじゅん', 'くらそ', 'きぎ', 'おしむ', 'おわん', 'つえ', 'かけ声', 'ここちよい', 'ざくり', 'きゅうり', 'ぎゃあぎゃあ', 'じゅうたん', 'くらす', 'くらせる', 'せつに', 'すき腹', 'よいしょ', 'すくいあげ', 'ごつ', 'ほりさげ', 'にえたっ', 'ひやさ', 'がんばろ', 'はたけ', 'めんぼく', 'すいあげ', 'ねこん', 'でむかえる', 'かたづける', 'せいとん', 'もりあげ', 'わきあがっ', 'しおからい', 'まもろ', 'おかゆ', 'おまかせ', 'たのもしい', 'しのばせ', 'あかつき', 'つれだっ', 'おがん', 'おこない', 'きずか', 'しおけ', 'ためる', 'かめの甲', 'まにあっ', 'かわかし', 'くもり', 'とがら', 'こする', 'こげくさく', 'こすれ', 'つぎこむ', 'しみこみ', 'さしこみ', 'けとばし', 'せつな', 'すいこま', 'らくだ', 'さすっ', 'ちかよっ', 'だせよ', 'やりとげる', 'くだく', 'たゆま', 'てりつけ', 'しぼりださ', 'あたたまっ', 'きずい', 'いいおわっ', 'とうぶん', 'めがね', 'ひろえ', 'かがり火', 'かかえる', 'ほぐす', 'まちかね', 'なぎさ', 'あひる', 'ふみつぶす', 'そろわ', 'くちばし', 'まずく', 'おしり', 'およぐ', 'かめの', 'こしらえよ', 'およぎ', 'はいあがる', 'たもっ', 'さかずき', 'はいだし', 'ぴりっと', 'よわる', 'いいわたし', 'なかよし', 'あやまろ', 'なかよく', 'かわさ', 'えがく', 'てらしあわせ', 'いっしんに', 'めめしい', 'とてつもない', 'ひきつり', 'たきもの', 'しずま', 'さがさ', 'ばらっと', 'もやそ', 'たまげる', 'あわせる', 'だいじな', 'はがす', 'ひろわ', 'すべすべ', 'ふせげ', 'かさぶた', 'はがし', 'かんぜん', 'はりかえ', 'とりつき', 'はいりこん', 'まも', 'ねっしん', 'ぐらつか', 'すいとら', 'かきあつめ', 'そだっ', 'しげる', 'かりとっ', 'ぬぐい', 'こすれる', 'あむ', 'たばねる', 'お花畑', 'いちご', 'おとぎ話', 'ぬりたて', 'いばり', 'すみきっ', 'じまん', 'せっせ', 'さびしかっ', 'いぼ', 'おしよせ', 'ねしずまっ', 'にぶい', 'しのびよる', 'のろっ', 'はげん', 'こころえ', 'みがく', 'すも', 'すもう', 'しげい', 'からすみ', 'わき出', 'おいしげっ', 'いなか', 'ざくざく', 'よくばり', 'わんさわんさ', 'ふきあげる', 'とばさ', 'なさけなく', 'こくっ', 'せみ', 'いわし', 'げんか', 'はたか', 'なめし革', 'とびあがり', 'いけどり', 'ありがたさ', 'けどり', 'ぶんぶん', 'けどっ', 'いっぺんに', 'とびかかっ', 'だきこむ', 'ひっかける', 'ずっこけ', 'おしん', 'もとめる', 'ほな', 'じょうず', 'あわせて', 'いっとき', 'ぶちこん', 'ひつじ', 'くばる', 'ようだっ', 'つっつい', 'あれくるっ', 'どくどくしい', 'きりぬけ', 'つみたて', 'ききつけ', 'ふとら', 'はちきれ', 'いきごみ', 'ふそ', 'うらむ', 'とうとい', 'けっか', 'すっとぶ', 'いっとう', 'あらあらしい', 'うばいあっ', 'ぴき', 'いいきかせ', 'きょく', 'とりあっ', 'はずかしい', 'でむかえ', 'ほおばっ', 'つけくわえ', 'みなぎる', 'よりつか', 'ひっかか', 'ふみならし', 'とびちがう', 'ひとまとめ', 'しわっ', 'いらい', 'すいよせ', 'おどりこん', 'やっかい', 'さしさわり', 'とどけよ', 'なみだぐむ', 'つづけれ', 'てんてこまい', 'やさしかっ', 'くらせ', 'すすり泣く', 'わきあがる', 'につめ', 'くわわっ', 'あおぎ', 'せまる', 'あおが', 'うら悲しき', 'よみがえっ', 'おやま', 'うじうじ', 'たそがれ', 'おしめ', 'あぐみ', 'いやいやながら', 'どうせい', 'ひだるき', 'かくかく', 'これ程', 'よんどころなく', 'つつけ', 'はたん', 'そうい', 'はねつけ', 'たたる', 'かつら', 'ひと度', 'たちおくれ', 'きかす', 'もとづい', 'ばらまか', 'まかなわ', 'もちよっ', 'おこなう', 'かけまわっ', 'つぶら', 'わらう', 'みつめる', 'かざす', 'そしら', 'おって', 'ならず者', 'ゆらす', 'ゆりか', 'おれる', 'ちからいっぱい', 'げんき', 'ろうそく', 'ほしさ', 'くすぐったく', 'くすく', 'わらっ', 'ありてい', 'に対しまして', 'に当たって', 'くじく', 'よみがえら', 'まずしい', 'いちど', 'つめこん', 'ごっこ', 'たしなん', 'ごめんください', 'さわがしい', 'つま先立ち', 'むかえよ', 'にわたり', 'つくり出す', 'ほどこす', 'ものさし', 'なぞっ', 'おおまか', 'もらえれ', 'ありえる', 'なぞる', 'ともきゃ', 'つなぎとめ', 'もやもや', 'うめく', 'うめき', 'どの人', 'したがお', 'うけもつ', 'しのば', 'おおむね', 'あてはまり', 'でくわし', 'こなす', 'おとしめ', 'おさめる', 'うのみ', 'あざ笑わ', 'はびこっ', 'きわだっ', 'つけくわえる', 'いためつけ', 'しそこなう', 'さしはさむ', 'きまま', 'ひもとい', 'はびこり', 'らく印', 'つくりだす', 'くらまさ', 'とつとつ', 'たずさわり', 'たどれる', 'みあう', 'たどりつく', 'たどりつき', 'しむけ', 'ゆずりわたし', 'せまら', 'さぁ', 'まぁ', 'うるか', 'さらなる', 'むりやり', 'よばわり', 'ほのめかさ', 'あけくれ', 'いにしえ', 'くつろげる', 'あけくれる', 'すくむ', 'かき乱す', 'はじきだし', 'たくましく', 'おさまる', 'だらんと', 'うらびれ', 'うがた', 'つらら', 'めまい', 'へんぼう', 'ほうろ', 'ぶらさがり', 'おえつ', 'こわばり', 'かて', 'しゃがみこみ', 'きちっと', 'もぎ取り', 'ひきつが', 'きたえ', 'むすび', 'えじき', 'のみこむ', 'しっぺ返し', 'いじる', 'はだけ', 'もの問い', 'とくとく', 'もぎ取っ', 'うらやむ', 'あっけなく', 'なァ', 'ごった返し', 'あぁ', 'おはよう', 'わかん', 'とっとと', 'つらかっ', 'はしご', 'そびえ立つ', 'とてつもなく', 'しがみつき', 'ぃ', 'なぁ', 'よじ登り', 'づらく', 'こぶし', 'ぱく', 'たくまし', 'どじ', 'とりかかれ', 'よじ登っ', 'ぱちんこ', 'びびっ', 'ぶどう', 'はしけ', 'かび臭い', 'むさくるしい', 'ものぐさ', 'みすぼらしく', 'ひきつる', 'いとおしむ', 'わき起こっ', 'のめり込ん', 'ともる', 'しゅうと', 'いやらしい', 'まいこ', 'ぎこちなかっ', 'ぎこちない', 'ぎこちなく', 'でっち上げ', 'そろう', 'のど元', 'たたら', 'うずうず', 'もめごと', 'お開き', 'なだめよ', 'なんだかんだ', 'もろさ', 'ともさ', 'はじい', 'ちくしょう', 'ならでは', 'わびる', 'くたばっ', 'おごり', 'まねる', 'そぼ降る', 'いやらしく', 'ほろ酔い', 'たかり', 'なれなれし', 'ちょびっと', 'くすぶる', 'きまぐれ', 'ゆさぶら', 'かきたてる', 'ほったらかさ', 'なげだし', 'よそ者', 'かきたて', 'いこう', 'つみかさなり', 'やぁ', 'よーく', 'もたらそ', 'いやぁ', 'すっごい', 'ねー', 'はぜ', 'まとめ買い', 'はかなく', 'えーと', 'じゃー', 'ぅ', 'つめこめる', 'なりたっ', 'まとわりつく', 'うだる', 'とっか', 'うらやましく', 'よじら', 'のろわ', 'めっき', 'ばらまく', 'のりこえ', 'でなおせ', 'ぶちこわせ', 'うじゃうじゃ', 'なおせる', 'すずしく', 'よじのぼる', 'ちゃわ', 'ばらす', 'ねらい', 'おびきよせる', 'ことなん', 'たきゃ', 'ほしけれ', 'せりふ', 'すげかえる', 'すげかえ', 'のっとっ', 'のっかる', 'つけれ', 'そういや', 'まがりなりにも', 'もっとい', 'さすん', 'つめきっ', 'みのがす', 'つくりださ', 'いらだたしかっ', 'やりなおせ', 'どうのこうの', 'ぉ', 'かつかつ', 'のぞけ', 'すりへる', 'むしり取る', 'たわごと', 'ぜったいに', 'めげる', 'おびき寄せる', 'つけこむ', 'くじい', 'やけっぱち', 'せき止め', 'なだれ込む', 'いぶかし', 'よじ登る', 'ぜんぶ', 'はっき', 'のこす', 'かかわ', 'だほ', 'すぎれ', 'とえ', 'まねい', 'ずら', 'しまり屋', 'きめ細かく', 'いみじくも', 'すばや', 'たどりつける', 'えり抜き', 'ねじまげ', 'なげかけ', 'とんでもなく', 'みきわめよ', 'はてる', 'とりこま', 'ふるまわ', 'さいなま', 'ねじふせよ', 'しめくくる', 'がれき', 'きっかり', 'ぬぐい去れる', 'まっとう', 'かがっ', 'かき混ぜ', 'おとしめる', 'ふるいわけ', 'しゃべれ', 'しゃべれる', 'うちこむ', 'たどれ', 'しおおせ', 'おさめれ', 'たどり着く', 'あきと', 'やりあお', 'たどろ', 'もたらせ', 'ご苦労', 'ためらい', 'びいき', 'あんま', 'でかかっ', 'めざめる', 'まずかっ', 'よー', 'はずれる', 'ばね', 'もうしわけ', 'なじん', 'かさばる', 'どもり', 'てこずり', 'ぬぐう', 'ありえ', 'ゆらい', 'こよなく', 'ふきこん', 'つきあわ', 'いわく', 'すませる', 'みなぎら', 'ほくそえん', 'しばたか', 'たいして', 'とめどない', 'のっぺり', 'ゆすり', 'もちこむ', 'はげあがっ', 'ものやわらか', 'きらめか', 'かえれ', 'はした金', 'ねずみ', 'たちまわり', 'おきる', 'でかけよ', 'てごろ', 'いっぽう', 'かんぬき', 'まわろ', 'むせかえる', 'つま先', 'てかてか', 'ひきかえせる', 'とりおこなお', 'たば', 'ばくぜんと', 'ひとつひとつ', 'かちり', 'ゆらめく', 'くぐもっ', 'かさかさ', 'すれあう', 'めんどくさ', 'ぶっきらぼう', 'ぎらり', 'いくじ', 'くらえ', 'とりだす', 'たじろぎ', 'せきこみ', 'かきむしっ', 'くださ', 'すりより', 'よじのぼれる', 'いまいち', 'むだ話', 'ええい', 'そうなる', 'ぺちゃんこ', 'のさ', 'いまいましい', 'かなぐり捨て', 'ねたましく', 'ちまちま', 'いまわしい', 'どなら', 'すり替え', 'うめき声', 'つじつま', 'とうさん', 'あざけり', 'なくそ', 'ちゃかさ', 'のしかかり', 'そろい', 'そのうえで', 'もくろむ', 'ぶっ飛ばし', 'そうなら', 'たけり立つ', 'おぼれ', 'でっちあげ', 'くださろ', 'わき道', 'かかわりあう', 'ほうっ', 'ふりかざす', 'つきつめる', 'ねじきる', 'みいん', 'ちゃかし', 'ぷっつり', 'ちっちゃく', 'にきび', 'いまいましかっ', 'すり抜ける', 'やってのける', 'まみれる', 'けだるく', 'うっとうしい', 'ばかくさい', 'つっかかっ', 'はばか', 'へいこら', 'っちゅう', 'しゃしゃり出', 'てぇ', 'はぁ', 'さわやかさ', 'はやん', 'くすね', 'おんぼろ', 'やかましかっ', 'おつむ', 'かかずらっ', 'ねぇ', 'へぇ', 'ばからしい', 'とろんと', 'めかしこん', 'やも', 'ほっとけ', 'つくり笑い', 'ぎらつい', 'がっくり', 'ずだ袋', 'びんた', 'つまみ出す', 'だんな', 'やけくそ', 'か細く', 'もの珍し', 'のろくさ', 'うわの空', 'けしかける', 'もうそ', 'しおれる', 'ばら色', 'おっぱい', 'とげとげしく', 'やかす', 'あら捜し', 'なげうつ', 'かわいがる', 'くたばる', 'くたばり', 'おろそ', 'でれすけ', 'すたこら', 'うつぶせ', 'むせび泣き', 'ごめん', 'くぎづけ', 'はぶき', 'そまる', 'あんなふうに', 'いっち', 'なんで', 'たたき出し', 'ずばぬけ', 'こらしめ', 'おぉ', 'もったいぶり', 'りきん', 'しゃくり上げる', 'なるし', 'つぶやか', 'むかつく', 'ぶちのめす', 'すすり泣い', 'うらやん', 'きちきち', 'しわくちゃ', 'ひざまずき', 'めだか', 'つけ加える', 'ないがしろ', 'とろく', 'さざ波', 'もたれかかる', 'すみれ色', 'いかり肩', 'あばら屋', 'いじらしく', 'まとめあげる', 'てのもの', 'まとわりつい', 'なんせ', 'かわかす', 'すれ違う', 'つきささる', 'ちっちゃな', 'ちいさな', 'ささやきあい', 'まちわび', 'たどり着け', 'つぐみ', 'ふんぞり返り', 'ふためい', 'ぬれる', 'ぶつくさ', 'やっかん', 'とどろく', 'こらしめよ', 'ひざ枕', 'さえずっ', 'ぐいっと', 'つつこ', 'うかがえ', 'ふれまわり', 'もたれかかろ', 'でくわす', 'まっしろ', 'かくれれ', 'かせぐ', 'ひとみ', 'あずき', 'さっそうと', 'もたれかかれ', 'ぎざぎざ', 'まちうけ', 'ぎく', 'もたれかかっ', 'はまりこみ', 'お目にかかろ', 'ひとかたまり', 'いいよどみ', 'とりおこなわ', 'とびはね', 'らっぱ', 'たちすくみ', 'かぶろ', 'ちゃえ', 'たてれ', 'かなづち', 'はめこん', 'しのびよっ', 'いいはり', 'いす', 'あたたかかっ', 'さくらんぼ', 'あがりこむ', 'たおれる', 'ひざまずく', 'いいはっ', 'だきしめ', 'はめよ', 'かたず', 'ねむりこん', 'もどら', 'なまけ', 'ぐせ', 'だまそ', 'くすぐっ', 'よりそい', 'すすりなき', 'づらかっ', 'とびつか', 'みつくろっ', 'かおら', 'うち続く', 'おこがましく', 'つぎ込む', 'ひもとけ', 'たきつける', 'ぼやい', 'もどれ', 'もどせ', 'なにがな', 'こと足りる', 'すがりつこ', 'ひなび', 'さばい', 'たちあわ', 'とりくん', 'はねつける', 'こころよし', 'ぬけだす', 'お決まり', 'とけこも', 'もどさ', 'ごみ箱', 'のぼせあがっ', 'ひきうけよ', 'ゆがめる', 'ままならない', 'かきあつめれ', 'ぶらさげる', 'つづっ', 'こまねい', 'まい進', 'ばか騒ぎ', 'つつく', 'に当たる', 'ほったらかし', 'ほどほど', 'きわ立っ', 'うさんくさい', 'とりあげよ', 'あわさ', 'と殺', 'はみ出す', 'かき集める', 'はためい', 'ぎゅうっと', 'すらっと', 'まとめあげ', 'はためか', 'こぼれ落ち', 'ごてごて', 'よね', 'ちぎり', 'つたない', 'だしぬい', 'ひと味', 'とびかっ', 'くつろげ', 'へべれけ', 'ふさぎこむ', 'ぶらつく', 'ぶらつか', 'いりまじっ', 'まくる', 'いれよ', 'お巡り', 'お仕着せ', 'ふりほどい', 'しくじる', 'たゆたい', 'ねじれ', 'いぶかしい', 'つまびき', 'せき止める', 'さざめき', 'そびえ立っ', 'くらん', 'はじき', 'はまりこん', 'はいずり', 'まくし立て', 'たわわ', 'よこたわる', 'つれさり', 'かろうじて', 'たて続け', 'のたうちまわっ', 'よろける', 'かいくぐっ', 'かいくぐる', 'あの手この手', 'かいわい', 'どん欲', 'きこ', 'ひきちぎり', 'はぎ取り', 'しのぐ', 'ひきいれる', 'つくりだし', 'ぶり返し', 'ひしめく', 'はぎとる', 'おののけ', 'かいま見', 'やりあう', 'でっぱり', 'かぶせる', 'いただけれ', 'さしのべる', 'ずさん', 'つくりだそ', 'うちたてる', 'やわらぎ', 'つくりあげる', 'たらふく', 'におわせ', 'つきまとい', 'なりさがっ', 'そうなり', 'ぶら下がり', 'まどろみ', 'むしり取ら', 'のたうつ', 'ひれ伏さ', 'ろくでなし', 'かわいらしく', 'まじめくさっ', 'かき鳴らす', 'お膳立て', 'まき散らす', 'ひん曲がっ', 'わななき', 'さび付い', 'ひっかぶれ', 'あわ立つ', 'やまやま', 'きらめかせ', 'よみがえる', 'やもめ', 'ぬくぬく', 'くらま', 'ほっつき', 'お尋ね者', 'ともそ', 'いちゃつく', 'くみ取り', 'いさめる', 'ふさぎ込ん', 'ねだっ', 'じょじょに', 'ちがわ', 'ぬきんで', 'とまどう', 'ふくれあがっ', 'はらむ', 'ひとえに', 'およん', 'ごうしゃ', 'お触れ', 'よりかから', 'なじり', 'うるわし', 'いこい', 'いこん', 'もの悲しい', 'おせっかい', 'もれ聞い', 'こうもり', 'ふくろう', 'へび', 'いもり', 'ちかよる', 'かわいく', 'くみ取れる', 'お子さま', 'つねづね', 'うそぶき', 'わずらわせ', 'ねたむ', 'よみがえり', 'たまわ', 'とこしえ', 'まじわり', 'ねがわくは', 'けがす', 'ぶどう酒', 'にごり', 'はろ', 'かけあわせ', 'つぶせ', 'おいやら', 'みてとっ', 'さかのぼれる', 'ひけらかす', 'うかがえる', 'ややこし', 'じゃん', 'とどめよ', 'つぐむ', 'はりあっ', 'てごわかっ', 'またがる', 'ゆずりわたす', 'おさえこむ', 'みにくく', 'ばらし', 'ただよう', 'おなべ', 'ささえる', 'いいかえる', 'はきだめ', 'うらはら', 'かんじん', 'うみだし', 'ちなん', 'まかなえる', 'もうから', 'つりあげ', 'やりこめる', 'いじくる', 'お墨付き', 'ぶちまける', 'みあたり', 'くらう', 'あおげ', 'まかなう', 'とっつき', 'かっこよさ', 'おおげさ', 'なにせ', 'きなさん', 'いえいえ', 'やり直せる', 'かさみ', 'とどまろ', 'こまめ', 'わずらわ', 'ぼやぼや', 'とりまか', 'のし歩く', 'はしこく', 'ついえ', 'もの憂', 'かんばしく', 'てりゃ', 'はしゃが', 'ねじけ', 'すりつぶし', 'くわせる', 'はしこい', 'みぞおち', 'つんのめる', 'ありがたみ', 'ずぶ濡れ', 'おぞましかっ', 'くぼみ', 'とふく', 'ほのめく', 'こびり付い', 'お祖父さん', 'たそ', 'かざそ', 'へばり', 'しょうもない', 'ひとりごち', 'きゅっと', 'くずおれ', 'くぐろ', 'うつ伏せ', 'か細い', 'かいくぐり', 'たわみ', 'たゆむ', 'かき落とす', 'にぎり', 'もどそ', 'なぎ倒し', 'よじれ', 'かき消え', 'よぎる', 'とりだそ', 'はさみこん', 'ひきぬこ', 'つまみあげる', 'はぎとっ', 'あえなく', 'とりもどす', 'あっという間', 'よぎっ', 'ふてくされ', 'さえずる', 'かぐわしい', 'さえずり', 'うるわしい', 'こわそ', 'いやす', 'もえさかる', 'ゆらぐ', 'かがやけ', 'まつげ', 'めんど', 'おおきく', 'あそん', 'しげみ', 'ほうりだす', 'むしばん', 'すわら', 'もえうつり', 'かぶさり', 'なりひびき', 'はじまろ', 'とおりかかっ', 'おどさ', 'みてとれ', 'なだれこみ', 'けちら', 'はちみつ', 'あおる', 'むすびつい', 'さきほこる', 'つもる', 'たちつくし', 'はばたく', 'ひしめい', 'ごこち', 'わらい', 'くずれおち', 'かざりたてる', 'よこたわり', 'むぎ', 'ぼうし', 'みかける', 'はしりだし', 'さわがしく', 'ひばり', 'とびたち', 'やまだ', 'かざら', 'そよい', 'うかびあがっ', 'みてとれる', 'やっつけ仕事', 'とっぴょうし', 'こきおろし', 'みうけ', 'まなぶ', 'にぎりしめ', 'ひびきわたら', 'ふきすさび', 'ぬけだし', 'ひきこむ', 'わめきたてる', 'ふきとん', 'いまわしき', 'ふりそそぐ', 'ほお紅', 'うらぶれ', 'いちじく', 'なりひびく', 'とよん', 'すべりおち', 'たちすくん', 'かきいれ', 'もえたつ', 'はばたか', 'ふみつぶさ', 'かざりたて', 'わきおこる', 'のぶえ', 'すぎさっ', 'もたれかから', 'もぐりこむ', 'ふきぬける', 'ほこらし', 'よろい戸', 'えがか', 'すず', 'もちあげる', 'かきまぜ', 'しゃぼん', 'うもれ', 'なげかける', 'ふきぬけ', 'けむく', 'みつけだし', 'くわえる', 'もたさ', 'うなづき', 'はなしかけ', 'びゅんびゅん', 'のりこみ', 'ちっちゃい', 'くつした', 'まっしろい', 'とじる', 'いいはなち', 'こざっぱり', 'ささい', 'とらえれ'])\n"
     ]
    }
   ],
   "source": [
    "print(fdist_hira.keys()) #出現単語（ひらがな）の中身"
   ]
  },
  {
   "cell_type": "code",
   "execution_count": 86,
   "metadata": {},
   "outputs": [
    {
     "ename": "SyntaxError",
     "evalue": "invalid character in identifier (<ipython-input-86-6383a76e7668>, line 1)",
     "output_type": "error",
     "traceback": [
      "\u001b[1;36m  File \u001b[1;32m\"<ipython-input-86-6383a76e7668>\"\u001b[1;36m, line \u001b[1;32m1\u001b[0m\n\u001b[1;33m    print(fdist_kana.keys())　#出現単語（カタカナ）の中身\u001b[0m\n\u001b[1;37m                            ^\u001b[0m\n\u001b[1;31mSyntaxError\u001b[0m\u001b[1;31m:\u001b[0m invalid character in identifier\n"
     ]
    }
   ],
   "source": [
    "print(fdist_kana.keys())　#出現単語（カタカナ）の中身"
   ]
  },
  {
   "cell_type": "code",
   "execution_count": 87,
   "metadata": {},
   "outputs": [
    {
     "data": {
      "text/plain": [
       "[('の', 168571),\n",
       " ('に', 112198),\n",
       " ('は', 102060),\n",
       " ('を', 94528),\n",
       " ('て', 88552),\n",
       " ('た', 86490),\n",
       " ('が', 67138),\n",
       " ('と', 58405),\n",
       " ('で', 56713),\n",
       " ('し', 35191)]"
      ]
     },
     "execution_count": 87,
     "metadata": {},
     "output_type": "execute_result"
    }
   ],
   "source": [
    "fdist_hira.most_common(10)"
   ]
  },
  {
   "cell_type": "code",
   "execution_count": null,
   "metadata": {},
   "outputs": [],
   "source": [
    "fdist_kana.most_common(10)"
   ]
  },
  {
   "cell_type": "code",
   "execution_count": null,
   "metadata": {},
   "outputs": [],
   "source": [
    "fdist_kanji.most_common(10)"
   ]
  },
  {
   "cell_type": "code",
   "execution_count": 88,
   "metadata": {},
   "outputs": [
    {
     "data": {
      "text/plain": [
       "[('つた', 3912),\n",
       " ('蘭軒', 1284),\n",
       " ('津田', 961),\n",
       " ('柏軒', 499),\n",
       " ('つたの', 495),\n",
       " ('小林', 394),\n",
       " ('伊沢', 381),\n",
       " ('守', 376),\n",
       " ('明', 351),\n",
       " ('照', 339)]"
      ]
     },
     "execution_count": 88,
     "metadata": {},
     "output_type": "execute_result"
    }
   ],
   "source": [
    "fdist_name.most_common(10)"
   ]
  },
  {
   "cell_type": "code",
   "execution_count": null,
   "metadata": {},
   "outputs": [],
   "source": [
    "print(' '.join(set(w for w,t in jeita.tagged_words() if t.split('\\t')[0] == u\"フジ\")))"
   ]
  },
  {
   "cell_type": "code",
   "execution_count": null,
   "metadata": {},
   "outputs": [],
   "source": [
    "print(' '.join(set(w for w,t in jeita.tagged_words() if t.split('\\t')[0] == u\"コウドウ\")))"
   ]
  },
  {
   "cell_type": "markdown",
   "metadata": {},
   "source": [
    "隣り合う2語について、品詞の組み合わせから、どのような表現があるかを調査"
   ]
  },
  {
   "cell_type": "code",
   "execution_count": 91,
   "metadata": {},
   "outputs": [],
   "source": [
    "jeita_tagged_bigrams = bigrams(jeita.tagged_words()[0:10000])"
   ]
  },
  {
   "cell_type": "code",
   "execution_count": 90,
   "metadata": {},
   "outputs": [
    {
     "name": "stdout",
     "output_type": "stream",
     "text": [
      "極めて 美しい\n",
      "依然として 白く\n",
      "いつも ボロ\n",
      "案外 弱い\n",
      "あまり 白く\n",
      "最も 早い\n",
      "あまり 仰々し\n"
     ]
    }
   ],
   "source": [
    "for hu in jeita_tagged_bigrams:\n",
    "    if hu[0][1].split('\\t')[2].split('-')[0] == '副詞' and hu[1][1].split('\\t')[2].split('-')[0] == '形容詞':\n",
    "        print(hu[0][0],hu[1][0])"
   ]
  },
  {
   "cell_type": "code",
   "execution_count": 92,
   "metadata": {},
   "outputs": [
    {
     "name": "stdout",
     "output_type": "stream",
     "text": [
      "呆然と し\n",
      "斯く し\n",
      "どう しよ\n",
      "丁度 建て\n",
      "嘗て 聞く\n",
      "後に し\n",
      "つと 見廻し\n",
      "たとい ひ\n",
      "まだ 散る\n",
      "まだ とる\n",
      "よく 似\n",
      "もはや し\n",
      "一寸 出\n",
      "一寸 出\n",
      "少し 話さ\n",
      "さ つ\n",
      "うかと 思ふ\n",
      "また さしくる\n",
      "まだ 散り\n",
      "ガリガリ やっ\n",
      "やっと 諦め\n",
      "あんなに 威張っ\n",
      "どうしても 笑わ\n",
      "ガリガリ やっ\n",
      "ぴんと 張っ\n",
      "何とか 言い\n",
      "そう 考え\n",
      "何一つ する\n",
      "おどおど する\n",
      "どっと 笑い\n",
      "初めて 見る\n",
      "そう いわ\n",
      "どうせ 負ける\n",
      "思わず 聞き返し\n",
      "全く 考え\n",
      "どう 見\n",
      "くどくど 聞き返し\n",
      "そう し\n",
      "どうか し\n",
      "そう する\n",
      "何故 こん\n",
      "もう少し 話し\n",
      "もう一度 行く\n",
      "こう 云っ\n",
      "直ぐに 現れ\n",
      "沢山 あっ\n",
      "大抵 忘れ\n",
      "まだ 張り\n",
      "一度に 笑っ\n",
      "げに 見下し\n",
      "あわや 殴ら\n",
      "どう し\n",
      "常に 身構え\n"
     ]
    }
   ],
   "source": [
    "for hui in jeita_tagged_bigrams:\n",
    "    if hui[0][1].split('\\t')[2].split('-')[0] == '副詞' and hui[1][1].split('\\t')[2].split('-')[0] == '動詞':\n",
    "        print(hui[0][0],hui[1][0])"
   ]
  },
  {
   "cell_type": "code",
   "execution_count": null,
   "metadata": {},
   "outputs": [],
   "source": []
  }
 ],
 "metadata": {
  "kernelspec": {
   "display_name": "Python 3",
   "language": "python",
   "name": "python3"
  },
  "language_info": {
   "codemirror_mode": {
    "name": "ipython",
    "version": 3
   },
   "file_extension": ".py",
   "mimetype": "text/x-python",
   "name": "python",
   "nbconvert_exporter": "python",
   "pygments_lexer": "ipython3",
   "version": "3.6.6"
  }
 },
 "nbformat": 4,
 "nbformat_minor": 2
}
